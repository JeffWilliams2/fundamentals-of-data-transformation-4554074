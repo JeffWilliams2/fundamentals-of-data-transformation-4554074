{
 "cells": [
  {
   "cell_type": "code",
   "execution_count": 10,
   "metadata": {},
   "outputs": [],
   "source": [
    "import requests\n",
    "import os\n",
    "from dotenv import dotenv_values\n",
    "import json\n",
    "\n",
    "secrets_dir = os.path.expanduser(\"~/Documents/secrets\")\n",
    "\n",
    "config = {\n",
    "    **dotenv_values(secrets_dir + \"/.env.nps\"),\n",
    "}\n",
    "\n",
    "NPS_URI = \"https://developer.nps.gov/api/v1/\""
   ]
  },
  {
   "cell_type": "code",
   "execution_count": 14,
   "metadata": {},
   "outputs": [],
   "source": [
    "headers = {\n",
    "    \"accept\": \"application/json\",\n",
    "    \"X-Api-Key\": config[\"NPS_API_KEY\"],\n",
    "}\n",
    "\n",
    "params = {\"limit\": 100000}\n",
    "\n",
    "response = requests.get(NPS_URI + \"parks\", headers=headers, params=params)\n",
    "\n",
    "with open(\"../data/parks.json\", \"w\") as f:\n",
    "    f.write(json.dumps(response.json()[\"data\"]))"
   ]
  }
 ],
 "metadata": {
  "kernelspec": {
   "display_name": "lil-cdt",
   "language": "python",
   "name": "python3"
  },
  "language_info": {
   "codemirror_mode": {
    "name": "ipython",
    "version": 3
   },
   "file_extension": ".py",
   "mimetype": "text/x-python",
   "name": "python",
   "nbconvert_exporter": "python",
   "pygments_lexer": "ipython3",
   "version": "3.10.0"
  }
 },
 "nbformat": 4,
 "nbformat_minor": 2
}
