{
 "cells": [
  {
   "cell_type": "code",
   "execution_count": 2,
   "id": "b79f914f-02fb-48e5-9ec8-e9b0b9075de5",
   "metadata": {},
   "outputs": [],
   "source": [
    "import duckdb\n",
    "from google.cloud import bigquery\n",
    "\n",
    "con = duckdb.connect(\"nps.db\")\n",
    "\n",
    "bqclient = bigquery.Client()\n",
    "\n",
    "dataset_ref = f\"nps-public-data.nps_public_data\""
   ]
  },
  {
   "cell_type": "code",
   "execution_count": 11,
   "id": "d5e91b0c-64bf-429a-8458-7bac22a90c1c",
   "metadata": {},
   "outputs": [
    {
     "name": "stdout",
     "output_type": "stream",
     "text": [
      "40\n",
      "nps-public-data.nps_public_data.activities\n",
      "40\n",
      "nps-public-data.nps_public_data.activities__parks\n",
      "685\n",
      "nps-public-data.nps_public_data.alerts\n",
      "127\n",
      "nps-public-data.nps_public_data.amenities\n",
      "127\n",
      "nps-public-data.nps_public_data.amenities__parks\n",
      "127\n",
      "nps-public-data.nps_public_data.amenities__parksplaces\n",
      "127\n",
      "nps-public-data.nps_public_data.amenities__parksvisitorcenters\n",
      "127\n",
      "nps-public-data.nps_public_data.amenities__parkvisitorcenters\n",
      "16937\n",
      "nps-public-data.nps_public_data.articles\n",
      "638\n",
      "nps-public-data.nps_public_data.campgrounds\n",
      "10\n",
      "nps-public-data.nps_public_data.events\n",
      "471\n",
      "nps-public-data.nps_public_data.feespasses\n",
      "1281\n",
      "nps-public-data.nps_public_data.lessonplans\n",
      "82\n",
      "nps-public-data.nps_public_data.meta\n",
      "50\n",
      "nps-public-data.nps_public_data.multimedia__audio\n",
      "9105\n",
      "nps-public-data.nps_public_data.multimedia__galleries\n",
      "50000\n",
      "nps-public-data.nps_public_data.multimedia__galleries__assets\n",
      "10639\n",
      "nps-public-data.nps_public_data.multimedia__videos\n",
      "1418\n",
      "nps-public-data.nps_public_data.newsreleases\n",
      "505\n",
      "nps-public-data.nps_public_data.parkinglots\n",
      "471\n",
      "nps-public-data.nps_public_data.parks\n",
      "1005\n",
      "nps-public-data.nps_public_data.passportstamplocations\n",
      "15175\n",
      "nps-public-data.nps_public_data.people\n",
      "15199\n",
      "nps-public-data.nps_public_data.places\n",
      "3200\n",
      "nps-public-data.nps_public_data.thingstodo\n",
      "83\n",
      "nps-public-data.nps_public_data.topics\n",
      "83\n",
      "nps-public-data.nps_public_data.topics__parks\n",
      "618\n",
      "nps-public-data.nps_public_data.tours\n",
      "705\n",
      "nps-public-data.nps_public_data.visitorcenters\n",
      "224\n",
      "nps-public-data.nps_public_data.webcams\n"
     ]
    },
    {
     "data": {
      "text/plain": [
       "┌─────────┐\n",
       "│  name   │\n",
       "│ varchar │\n",
       "├─────────┤\n",
       "│ 0 rows  │\n",
       "└─────────┘"
      ]
     },
     "execution_count": 11,
     "metadata": {},
     "output_type": "execute_result"
    }
   ],
   "source": [
    "tables = bqclient.list_tables(dataset_ref)\n",
    "\n",
    "schema = \"nps_public_data\"\n",
    "\n",
    "con.sql(f\"CREATE SCHEMA IF NOT EXISTS {schema}\")\n",
    "\n",
    "for table in tables:\n",
    "\n",
    "    table_str = f\"{table.project}.{table.dataset_id}.{table.table_id}\"\n",
    "\n",
    "    table = bigquery.TableReference.from_string(table_str)\n",
    "\n",
    "    rows = bqclient.list_rows(table)\n",
    "\n",
    "    # this is a terrible pun\n",
    "    arr_rows = rows.to_arrow(create_bqstorage_client=True)\n",
    "\n",
    "    sql_ref = f\"{schema}.{table.table_id}\"\n",
    "\n",
    "    con.sql(\n",
    "        f\"\"\"\n",
    "        DROP TABLE IF EXISTS {sql_ref};\n",
    "        CREATE TABLE {sql_ref} AS SELECT * FROM arr_rows;\n",
    "        INSERT INTO {sql_ref} SELECT * FROM arr_rows;\n",
    "        \"\"\"\n",
    "    )\n",
    "\n",
    "    print(table_str)\n",
    "\n",
    "con.sql(\"SHOW ALL tables\")"
   ]
  },
  {
   "cell_type": "code",
   "execution_count": 21,
   "id": "7a52d23c-d203-4f73-b0f2-3a2c7a1727f5",
   "metadata": {},
   "outputs": [],
   "source": [
    "dbname = \"nps\"\n",
    "con.sql(\n",
    "    f\"EXPORT DATABASE '{dbname}' (FORMAT PARQUET, COMPRESSION ZSTD, ROW_GROUP_SIZE 100000);\"\n",
    ")"
   ]
  }
 ],
 "metadata": {
  "kernelspec": {
   "display_name": "py3-default",
   "language": "python",
   "name": "pyenv_py3-default"
  },
  "language_info": {
   "codemirror_mode": {
    "name": "ipython",
    "version": 3
   },
   "file_extension": ".py",
   "mimetype": "text/x-python",
   "name": "python",
   "nbconvert_exporter": "python",
   "pygments_lexer": "ipython3",
   "version": "3.10.0"
  }
 },
 "nbformat": 4,
 "nbformat_minor": 5
}
