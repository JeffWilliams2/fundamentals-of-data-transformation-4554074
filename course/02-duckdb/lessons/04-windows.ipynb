{
 "cells": [
  {
   "cell_type": "code",
   "execution_count": null,
   "metadata": {},
   "outputs": [],
   "source": [
    "import duckdb\n",
    "\n",
    "# Load SQL extension\n",
    "%load_ext sql\n",
    "\n",
    "# Initialize 🦆 DuckDB connection\n",
    "conn = duckdb.connect()\n",
    "\n",
    "# Import database\n",
    "%sql conn --alias duckdb\n",
    "%sql IMPORT DATABASE '../../data/nps';"
   ]
  },
  {
   "cell_type": "markdown",
   "metadata": {},
   "source": [
    "Now we get to have some fun! **Window** functions works by breaking up relations into _independent_ partitions, ordering those partitions and then computing a new column for each row. \n",
    "\n",
    "![Window Functions](https://bs-uploads.toptal.io/blackfish-uploads/uploaded_file/file/22142/image-1561028553443-05eed70976f64c363db78d603cba17d6.png)\n",
    "\n",
    "If this sounds complex, it might be at first, but we'll break it down for you. If this sounds computationally intensive, it is... So we'll have to be careful when windowing over large datasets.\n",
    "\n",
    "When we build a window function, we're basically iterating over a slice of data _relative_ to the other rows around it. This is a powerful pattern and one that makes SQL stand out as an excellent language for querying relational data.\n",
    "\n",
    "![Window Framing, DuckDB](https://duckdb.org/images/blog/windowing/framing.svg)\n"
   ]
  },
  {
   "cell_type": "markdown",
   "metadata": {},
   "source": [
    "Here are some sample questions well suited to windows:\n",
    "- Which park has the most campsites?\n",
    "- What's the second largest campsite in each park?\n",
    "- What is the running total of alerts for all parks?\n",
    "- What's the 7-day moving average of alerts?"
   ]
  },
  {
   "cell_type": "markdown",
   "metadata": {},
   "source": [
    "Window functions are made up of three parts— the _function_, a _partition_, and an _order_. \n",
    "\n",
    "- First, we describe what we'd like to return, maybe the `MAX` value or just the `FIRST` value.\n",
    "- Next, we describe the partition. A partition is just a way of describing the \"chunks\" we want to query our data by. It's almost like a `GROUP`, for example if we parition by `park_name`, we'll get the `MAX` _for each_ park name.\n",
    "- Then, we define an order. This isn't necessary in queries like `MAX`, but for a `FIRST` query, order is essential.\n",
    "- Finally, we can define a _frame_, which tells us which rows to consider. We'll talk more about frames later.\n",
    "  \n",
    "\n",
    "Below is an example:"
   ]
  },
  {
   "cell_type": "code",
   "execution_count": null,
   "metadata": {
    "vscode": {
     "languageId": "sql"
    }
   },
   "outputs": [],
   "source": [
    "%%sql\n",
    "SELECT\n",
    "    DISTINCT p.fullname as park_name,\n",
    "\n",
    "    -- For each park, which campground has the maximum number of campsites?\n",
    "    MAX(c.numberofsitesfirstcomefirstserve) OVER (PARTITION BY park_name) as max_num_fcfc,\n",
    "    MAX(c.numberofsitesreservable) OVER (PARTITION BY park_name) as max_num_reserve,\n",
    "    MAX(c.numberofsitesfirstcomefirstserve + c.numberofsitesreservable) OVER (PARTITION BY park_name) as max_num_campsites,\n",
    "\n",
    "    -- For each park, which _campsite_ has the maximum number of campsites?\n",
    "    FIRST(c.name) OVER (PARTITION BY park_name ORDER BY c.numberofsitesfirstcomefirstserve DESC) as max_num_fcfs_site,\n",
    "    FIRST(c.name) OVER (PARTITION BY park_name ORDER BY c.numberofsitesreservable DESC) as max_num_reserve_site,\n",
    "    FIRST(c.name) OVER (PARTITION BY park_name ORDER BY c.numberofsitesfirstcomefirstserve + c.numberofsitesreservable DESC) as max_num_campsites_site\n",
    "FROM nps_public_data.campgrounds c\n",
    "INNER JOIN nps_public_data.parks p\n",
    "    ON c.parkcode = p.parkcode\n",
    "    AND p.designation = 'National Park'\n",
    "ORDER BY max_num_campsites DESC\n",
    "LIMIT 5;"
   ]
  },
  {
   "cell_type": "markdown",
   "metadata": {},
   "source": [
    "`LEAD`, `LAG`, & `NTH_VALUE` are similar functions. As the names suggest:\n",
    "- `LEAD` returns the _next_ value in a particular partition.\n",
    "- `LAG` returns the _previous_ value in a particular partition.\n",
    "- `NTH_VALUE` returns a value the index you provide.\n",
    "\n",
    "These functions are interchangeable, for example lead and lag often take parameters that specify how many rows to skip, so `LEAD(name, 2) =  LAG(name, -2) = NTH_VALUE(name, 2)`.\n",
    "\n",
    "That can be confusing, so we recommend sticking with one."
   ]
  },
  {
   "cell_type": "code",
   "execution_count": null,
   "metadata": {
    "vscode": {
     "languageId": "sql"
    }
   },
   "outputs": [],
   "source": [
    "%%sql\n",
    "SELECT\n",
    "    p.fullname as park_name,\n",
    "    c.name as campground_name,\n",
    "    c.numberofsitesfirstcomefirstserve + c.numberofsitesreservable as num_sites,\n",
    "    -- LAG & LEAD\n",
    "    -- Get the previous campsite ordered by number of sites.\n",
    "    LAG(c.name) OVER (PARTITION BY park_name ORDER BY c.numberofsitesfirstcomefirstserve + c.numberofsitesreservable DESC) as next_campsite,\n",
    "    -- Get the next campsite ordered by number of sites.\n",
    "    LEAD(c.name) OVER (PARTITION BY park_name ORDER BY c.numberofsitesfirstcomefirstserve + c.numberofsitesreservable DESC) as previous_campsite,\n",
    "    -- Get the next next campsite ordered by number of sites.\n",
    "    LEAD(c.name, 2) OVER (PARTITION BY park_name ORDER BY c.numberofsitesfirstcomefirstserve + c.numberofsitesreservable DESC) as previous_previous_campsite,\n",
    "    -- The default values for frames are from UNBOUNDED PRECEDING to CURRENT ROW\n",
    "    NTH_VALUE(c.name, 2) OVER (PARTITION BY park_name ORDER BY c.numberofsitesfirstcomefirstserve + c.numberofsitesreservable DESC ROWS BETWEEN UNBOUNDED PRECEDING AND UNBOUNDED FOLLOWING) as second_campsite,\n",
    "FROM nps_public_data.campgrounds c\n",
    "INNER JOIN nps_public_data.parks p\n",
    "    ON c.parkcode = p.parkcode\n",
    "    AND p.designation = 'National Park'\n",
    "WHERE p.fullname = 'Death Valley National Park'\n",
    "ORDER BY c.numberofsitesfirstcomefirstserve + c.numberofsitesreservable\n",
    "LIMIT 5"
   ]
  },
  {
   "cell_type": "markdown",
   "metadata": {},
   "source": [
    "`RANK` functions can be particularly useful. There are three main functions, `ROW_NUMBER`, `RANK`, and `DENSE_RANK`. They're slightly different but very similar:\n",
    "\n",
    "- `ROW_NUMBER` monotonically increases, regardless of ties.\n",
    "- `RANK` and `DENSE_RANK`— ties get the same number, e.g. 1, 2, 3, 4, 4, 4.\n",
    "- `DENSE_RANK` continues iterating after a tie, `RANK` does not, e.g. 1, 2, 3, 3, 5 vs. 1, 2, 3, 3, 4."
   ]
  },
  {
   "cell_type": "code",
   "execution_count": null,
   "metadata": {
    "vscode": {
     "languageId": "sql"
    }
   },
   "outputs": [],
   "source": [
    "%%sql\n",
    "SELECT\n",
    "    p.fullname as park_name,\n",
    "    c.name as campground_name,\n",
    "\n",
    "    -- For each park, which campground has the maximum number of campsites?\n",
    "    c.numberofsitesfirstcomefirstserve + c.numberofsitesreservable as num_campsites,\n",
    "    -- RANK, ROW_NUMBER, DENSE_RANK     \n",
    "    RANK() OVER (PARTITION BY park_name ORDER BY c.numberofsitesfirstcomefirstserve + c.numberofsitesreservable DESC) as park_campsites_rank,\n",
    "    ROW_NUMBER() OVER (PARTITION BY park_name ORDER BY c.numberofsitesfirstcomefirstserve + c.numberofsitesreservable DESC) as campsites_row_num,\n",
    "    DENSE_RANK() OVER (PARTITION BY park_name ORDER BY c.numberofsitesfirstcomefirstserve + c.numberofsitesreservable DESC) as campsites_dense_rank,\n",
    "FROM nps_public_data.campgrounds c\n",
    "INNER JOIN nps_public_data.parks p\n",
    "    ON c.parkcode = p.parkcode\n",
    "    AND p.designation = 'National Park'\n",
    "WHERE p.fullname = 'Death Valley National Park'\n",
    "ORDER BY park_name, park_campsites_rank ASC\n",
    "LIMIT 12;"
   ]
  },
  {
   "cell_type": "markdown",
   "metadata": {},
   "source": [
    "Let's talk about _rolling averages_. Rolling averages are a concept that are _much_ easier grasped in SQL thanks to the row-based layout and language details.\n",
    "\n",
    "Frames can be very useful in rolling averages."
   ]
  },
  {
   "cell_type": "code",
   "execution_count": null,
   "metadata": {
    "vscode": {
     "languageId": "sql"
    }
   },
   "outputs": [],
   "source": [
    "%%sql\n",
    "SELECT\n",
    "    a.lastindexeddate::DATE as dt,\n",
    "    COUNT(*) as num_alerts,\n",
    "FROM nps_public_data.alerts a\n",
    "LEFT JOIN nps_public_data.parks p\n",
    "    USING(parkcode)\n",
    "WHERE dt BETWEEN '2023-01-01' AND '2023-12-31'\n",
    "GROUP BY 1\n",
    "ORDER BY dt ASC\n",
    "LIMIT 10"
   ]
  },
  {
   "cell_type": "code",
   "execution_count": null,
   "metadata": {
    "vscode": {
     "languageId": "sql"
    }
   },
   "outputs": [],
   "source": [
    "%%sql\n",
    "SELECT\n",
    "    a.lastindexeddate::DATE as dt,\n",
    "    COUNT(*) as num_alerts,\n",
    "    SUM(COUNT(*)) OVER (ORDER BY dt) as cum_num_alerts\n",
    "FROM nps_public_data.alerts a\n",
    "INNER JOIN nps_public_data.parks p\n",
    "    USING(parkcode)\n",
    "WHERE dt BETWEEN '2023-06-01' AND '2024-7-31'\n",
    "GROUP BY 1\n",
    "ORDER BY dt ASC\n",
    "LIMIT 10"
   ]
  },
  {
   "cell_type": "markdown",
   "metadata": {},
   "source": [
    "But our dates are not consecutive (not every day has an alert!), so an average is difficult. We can generate a series to get around this."
   ]
  },
  {
   "cell_type": "code",
   "execution_count": null,
   "metadata": {
    "vscode": {
     "languageId": "sql"
    }
   },
   "outputs": [],
   "source": [
    "%%sql\n",
    "WITH date_arr AS (\n",
    "  -- We'll discuss this more in the lesson on data generation!\n",
    "  SELECT\n",
    "     generate_series as dt\n",
    "  FROM\n",
    "     generate_series(timestamp '2019-01-01', timestamp '2025-01-01', interval '1 day')\n",
    ")\n",
    "SELECT\n",
    "   da.dt,\n",
    "    COUNT(a.id) as num_alerts,\n",
    "    SUM(COUNT(a.id)) OVER (ORDER BY da.dt ASC) as cum_num_alerts\n",
    "FROM date_arr da\n",
    "LEFT JOIN nps_public_data.alerts a\n",
    "    ON da.dt::DATE = a.lastindexeddate::DATE\n",
    "LEFT JOIN nps_public_data.parks p\n",
    "    USING(parkcode)\n",
    "WHERE da.dt BETWEEN '2023-06-01' AND '2024-7-31'\n",
    "GROUP BY 1\n",
    "ORDER BY da.dt ASC\n",
    "LIMIT 15;"
   ]
  },
  {
   "cell_type": "markdown",
   "metadata": {},
   "source": [
    "And now get our rolling counts + averages!"
   ]
  },
  {
   "cell_type": "code",
   "execution_count": null,
   "metadata": {
    "vscode": {
     "languageId": "sql"
    }
   },
   "outputs": [],
   "source": [
    "%%sql\n",
    "WITH date_arr AS (\n",
    "  -- We'll discuss this more in the lesson on data generation!\n",
    "  SELECT\n",
    "     generate_series as dt\n",
    "  FROM\n",
    "     generate_series(timestamp '2019-01-01', timestamp '2025-01-01', interval '1 day')\n",
    ")\n",
    "SELECT\n",
    "   da.dt,\n",
    "    COUNT(a.id) as num_alerts,\n",
    "    SUM(COUNT(a.id)) OVER (ORDER BY da.dt ASC) as cum_num_alerts,\n",
    "    -- Note the definition of our \"frame\"\n",
    "    SUM(COUNT(a.id)) OVER (ORDER BY da.dt ASC ROWS BETWEEN 6 PRECEDING AND CURRENT ROW) as seven_day_rolling,\n",
    "    ROUND(\n",
    "        AVG(COUNT(a.id)) OVER (ORDER BY da.dt ASC ROWS BETWEEN 6 PRECEDING AND CURRENT ROW)\n",
    "        , 2) as seven_day_rolling_avg,\n",
    "FROM date_arr da\n",
    "LEFT JOIN nps_public_data.alerts a\n",
    "    ON da.dt::DATE = a.lastindexeddate::DATE\n",
    "LEFT JOIN nps_public_data.parks p\n",
    "    USING(parkcode)\n",
    "WHERE da.dt BETWEEN '2023-06-01' AND '2024-7-31'\n",
    "GROUP BY 1\n",
    "ORDER BY da.dt ASC\n",
    "LIMIT 15;"
   ]
  },
  {
   "cell_type": "markdown",
   "metadata": {},
   "source": [
    "Note how the _frame_ clause is instructing our query about which rows to aggregate!"
   ]
  },
  {
   "cell_type": "code",
   "execution_count": null,
   "metadata": {
    "vscode": {
     "languageId": "sql"
    }
   },
   "outputs": [],
   "source": []
  }
 ],
 "metadata": {
  "kernelspec": {
   "display_name": "lil-cdt",
   "language": "python",
   "name": "python3"
  },
  "language_info": {
   "codemirror_mode": {
    "name": "ipython",
    "version": 3
   },
   "file_extension": ".py",
   "mimetype": "text/x-python",
   "name": "python",
   "nbconvert_exporter": "python",
   "pygments_lexer": "ipython3",
   "version": "3.10.0"
  }
 },
 "nbformat": 4,
 "nbformat_minor": 2
}
