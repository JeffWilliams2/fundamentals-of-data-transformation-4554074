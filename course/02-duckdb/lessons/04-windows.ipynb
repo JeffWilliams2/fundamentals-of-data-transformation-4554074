{
 "cells": [
  {
   "cell_type": "code",
   "execution_count": 4,
   "metadata": {},
   "outputs": [
    {
     "name": "stdout",
     "output_type": "stream",
     "text": [
      "The sql extension is already loaded. To reload it, use:\n",
      "  %reload_ext sql\n"
     ]
    },
    {
     "data": {
      "text/html": [
       "<span style=\"None\">Running query in &#x27;duckdb&#x27;</span>"
      ],
      "text/plain": [
       "Running query in 'duckdb'"
      ]
     },
     "metadata": {},
     "output_type": "display_data"
    },
    {
     "data": {
      "text/html": [
       "<table>\n",
       "    <thead>\n",
       "        <tr>\n",
       "            <th>Count</th>\n",
       "        </tr>\n",
       "    </thead>\n",
       "    <tbody>\n",
       "        <tr>\n",
       "            <td>40</td>\n",
       "        </tr>\n",
       "    </tbody>\n",
       "</table>"
      ],
      "text/plain": [
       "+-------+\n",
       "| Count |\n",
       "+-------+\n",
       "|   40  |\n",
       "+-------+"
      ]
     },
     "execution_count": 4,
     "metadata": {},
     "output_type": "execute_result"
    }
   ],
   "source": [
    "import duckdb\n",
    "\n",
    "# Load SQL extension, configure display limit\n",
    "%load_ext sql\n",
    "\n",
    "# Initialize 🦆 DuckDB connection\n",
    "conn = duckdb.connect()\n",
    "\n",
    "# Import database\n",
    "%sql conn --alias duckdb\n",
    "%sql IMPORT DATABASE '../../data/nps';"
   ]
  },
  {
   "cell_type": "markdown",
   "metadata": {},
   "source": [
    "Now we get to have some fun! **Window** functions works by breaking up relations into _independent_ partitions, ordering those partitions and then computing a new column for each row. If this sounds complex, it might be at first, but we'll break it down for you.\n",
    "\n",
    "If this sounds computationally intensive, it is... So we'll have to be careful when windowing over large datasets.\n",
    "\n",
    "When we build a window function, we're basically iterating over a slice of data _relative_ to the other rows around it. This is a powerful pattern and one that makes SQL stand out as an excellent language for querying relational data.\n"
   ]
  },
  {
   "cell_type": "markdown",
   "metadata": {},
   "source": [
    "Here are some sample questions well suited to windows:\n",
    "- Which park has the most campsites (we'll show you why this is easy with windows)?\n",
    "- What is the last event in January?\n",
    "- "
   ]
  },
  {
   "cell_type": "code",
   "execution_count": 6,
   "metadata": {
    "vscode": {
     "languageId": "sql"
    }
   },
   "outputs": [
    {
     "data": {
      "text/html": [
       "<span style=\"None\">Running query in &#x27;duckdb&#x27;</span>"
      ],
      "text/plain": [
       "Running query in 'duckdb'"
      ]
     },
     "metadata": {},
     "output_type": "display_data"
    },
    {
     "data": {
      "text/html": [
       "<table>\n",
       "    <thead>\n",
       "        <tr>\n",
       "            <th>park_name</th>\n",
       "            <th>max_num_fcfc</th>\n",
       "            <th>max_num_reserve</th>\n",
       "            <th>max_num_campsites</th>\n",
       "            <th>max_num_fcfs_site</th>\n",
       "            <th>max_num_reserve_site</th>\n",
       "            <th>max_num_campsites_site</th>\n",
       "        </tr>\n",
       "    </thead>\n",
       "    <tbody>\n",
       "        <tr>\n",
       "            <td>Mesa Verde National Park</td>\n",
       "            <td>267</td>\n",
       "            <td>267</td>\n",
       "            <td>534</td>\n",
       "            <td>Morefield Campground</td>\n",
       "            <td>Morefield Campground</td>\n",
       "            <td>Morefield Campground</td>\n",
       "        </tr>\n",
       "        <tr>\n",
       "            <td>Yellowstone National Park</td>\n",
       "            <td>0</td>\n",
       "            <td>432</td>\n",
       "            <td>432</td>\n",
       "            <td>Fishing Bridge RV Park</td>\n",
       "            <td>Bridge Bay Campground</td>\n",
       "            <td>Bridge Bay Campground</td>\n",
       "        </tr>\n",
       "        <tr>\n",
       "            <td>Grand Teton National Park</td>\n",
       "            <td>10</td>\n",
       "            <td>347</td>\n",
       "            <td>347</td>\n",
       "            <td>Jenny Lake Campground</td>\n",
       "            <td>Colter Bay Campground</td>\n",
       "            <td>Colter Bay Campground</td>\n",
       "        </tr>\n",
       "        <tr>\n",
       "            <td>Grand Canyon National Park</td>\n",
       "            <td>15</td>\n",
       "            <td>300</td>\n",
       "            <td>315</td>\n",
       "            <td>Mather Campground - South Rim</td>\n",
       "            <td>Mather Campground - South Rim</td>\n",
       "            <td>Mather Campground - South Rim</td>\n",
       "        </tr>\n",
       "        <tr>\n",
       "            <td>Yosemite National Park</td>\n",
       "            <td>156</td>\n",
       "            <td>235</td>\n",
       "            <td>304</td>\n",
       "            <td>Tuolumne Meadows Campground</td>\n",
       "            <td>Upper Pines Campground</td>\n",
       "            <td>Tuolumne Meadows Campground</td>\n",
       "        </tr>\n",
       "        <tr>\n",
       "            <td>Acadia National Park</td>\n",
       "            <td>0</td>\n",
       "            <td>281</td>\n",
       "            <td>281</td>\n",
       "            <td>Duck Harbor Campground</td>\n",
       "            <td>Blackwoods Campground</td>\n",
       "            <td>Blackwoods Campground</td>\n",
       "        </tr>\n",
       "        <tr>\n",
       "            <td>Rocky Mountain National Park</td>\n",
       "            <td>27</td>\n",
       "            <td>239</td>\n",
       "            <td>239</td>\n",
       "            <td>Aspenglen Campground</td>\n",
       "            <td>Moraine Park Campground</td>\n",
       "            <td>Moraine Park Campground</td>\n",
       "        </tr>\n",
       "        <tr>\n",
       "            <td>Death Valley National Park</td>\n",
       "            <td>230</td>\n",
       "            <td>136</td>\n",
       "            <td>230</td>\n",
       "            <td>Sunset Campground</td>\n",
       "            <td>Furnace Creek Campground</td>\n",
       "            <td>Sunset Campground</td>\n",
       "        </tr>\n",
       "        <tr>\n",
       "            <td>Shenandoah National Park</td>\n",
       "            <td>50</td>\n",
       "            <td>220</td>\n",
       "            <td>220</td>\n",
       "            <td>Loft Mountain Campground</td>\n",
       "            <td>Big Meadows Campground</td>\n",
       "            <td>Big Meadows Campground</td>\n",
       "        </tr>\n",
       "        <tr>\n",
       "            <td>Everglades National Park</td>\n",
       "            <td>108</td>\n",
       "            <td>159</td>\n",
       "            <td>216</td>\n",
       "            <td>Long Pine Key Campground</td>\n",
       "            <td>Flamingo Campground</td>\n",
       "            <td>Long Pine Key Campground</td>\n",
       "        </tr>\n",
       "    </tbody>\n",
       "</table>"
      ],
      "text/plain": [
       "+------------------------------+--------------+-----------------+-------------------+-------------------------------+-------------------------------+-------------------------------+\n",
       "|          park_name           | max_num_fcfc | max_num_reserve | max_num_campsites |       max_num_fcfs_site       |      max_num_reserve_site     |     max_num_campsites_site    |\n",
       "+------------------------------+--------------+-----------------+-------------------+-------------------------------+-------------------------------+-------------------------------+\n",
       "|   Mesa Verde National Park   |     267      |       267       |        534        |      Morefield Campground     |      Morefield Campground     |      Morefield Campground     |\n",
       "|  Yellowstone National Park   |      0       |       432       |        432        |     Fishing Bridge RV Park    |     Bridge Bay Campground     |     Bridge Bay Campground     |\n",
       "|  Grand Teton National Park   |      10      |       347       |        347        |     Jenny Lake Campground     |     Colter Bay Campground     |     Colter Bay Campground     |\n",
       "|  Grand Canyon National Park  |      15      |       300       |        315        | Mather Campground - South Rim | Mather Campground - South Rim | Mather Campground - South Rim |\n",
       "|    Yosemite National Park    |     156      |       235       |        304        |  Tuolumne Meadows Campground  |     Upper Pines Campground    |  Tuolumne Meadows Campground  |\n",
       "|     Acadia National Park     |      0       |       281       |        281        |     Duck Harbor Campground    |     Blackwoods Campground     |     Blackwoods Campground     |\n",
       "| Rocky Mountain National Park |      27      |       239       |        239        |      Aspenglen Campground     |    Moraine Park Campground    |    Moraine Park Campground    |\n",
       "|  Death Valley National Park  |     230      |       136       |        230        |       Sunset Campground       |    Furnace Creek Campground   |       Sunset Campground       |\n",
       "|   Shenandoah National Park   |      50      |       220       |        220        |    Loft Mountain Campground   |     Big Meadows Campground    |     Big Meadows Campground    |\n",
       "|   Everglades National Park   |     108      |       159       |        216        |    Long Pine Key Campground   |      Flamingo Campground      |    Long Pine Key Campground   |\n",
       "+------------------------------+--------------+-----------------+-------------------+-------------------------------+-------------------------------+-------------------------------+"
      ]
     },
     "execution_count": 6,
     "metadata": {},
     "output_type": "execute_result"
    }
   ],
   "source": [
    "%%sql\n",
    "SELECT\n",
    "    DISTINCT p.fullname as park_name,\n",
    "\n",
    "    -- For each park, which campground has the maximum number of campsites?\n",
    "    MAX(c.numberofsitesfirstcomefirstserve) OVER (PARTITION BY park_name) as max_num_fcfc,\n",
    "    MAX(c.numberofsitesreservable) OVER (PARTITION BY park_name) as max_num_reserve,\n",
    "    MAX(c.numberofsitesfirstcomefirstserve + c.numberofsitesreservable) OVER (PARTITION BY park_name) as max_num_campsites,\n",
    "\n",
    "    -- For each park, which _campsite_ has the maximum number of campsites?\n",
    "    FIRST(c.name) OVER (PARTITION BY park_name ORDER BY c.numberofsitesfirstcomefirstserve DESC) as max_num_fcfs_site,\n",
    "    FIRST(c.name) OVER (PARTITION BY park_name ORDER BY c.numberofsitesreservable DESC) as max_num_reserve_site,\n",
    "    FIRST(c.name) OVER (PARTITION BY park_name ORDER BY c.numberofsitesfirstcomefirstserve + c.numberofsitesreservable DESC) as max_num_campsites_site\n",
    "FROM nps_public_data.campgrounds c\n",
    "INNER JOIN nps_public_data.parks p\n",
    "    ON c.parkcode = p.parkcode\n",
    "    AND p.designation = 'National Park'\n",
    "ORDER BY max_num_campsites DESC\n",
    "LIMIT 10;"
   ]
  },
  {
   "cell_type": "code",
   "execution_count": 10,
   "metadata": {
    "vscode": {
     "languageId": "sql"
    }
   },
   "outputs": [
    {
     "data": {
      "text/html": [
       "<span style=\"None\">Running query in &#x27;duckdb&#x27;</span>"
      ],
      "text/plain": [
       "Running query in 'duckdb'"
      ]
     },
     "metadata": {},
     "output_type": "display_data"
    },
    {
     "data": {
      "text/html": [
       "<table>\n",
       "    <thead>\n",
       "        <tr>\n",
       "            <th>park_name</th>\n",
       "            <th>campground_name</th>\n",
       "            <th>num_campsites</th>\n",
       "            <th>park_campsites_rank</th>\n",
       "            <th>campsites_row_num</th>\n",
       "            <th>campsites_dense_rank</th>\n",
       "        </tr>\n",
       "    </thead>\n",
       "    <tbody>\n",
       "        <tr>\n",
       "            <td>Acadia National Park</td>\n",
       "            <td>Blackwoods Campground</td>\n",
       "            <td>281</td>\n",
       "            <td>1</td>\n",
       "            <td>1</td>\n",
       "            <td>1</td>\n",
       "        </tr>\n",
       "        <tr>\n",
       "            <td>Acadia National Park</td>\n",
       "            <td>Seawall Campground</td>\n",
       "            <td>202</td>\n",
       "            <td>2</td>\n",
       "            <td>2</td>\n",
       "            <td>2</td>\n",
       "        </tr>\n",
       "        <tr>\n",
       "            <td>Acadia National Park</td>\n",
       "            <td>Schoodic Woods Campground</td>\n",
       "            <td>89</td>\n",
       "            <td>3</td>\n",
       "            <td>3</td>\n",
       "            <td>3</td>\n",
       "        </tr>\n",
       "        <tr>\n",
       "            <td>Acadia National Park</td>\n",
       "            <td>Duck Harbor Campground</td>\n",
       "            <td>5</td>\n",
       "            <td>4</td>\n",
       "            <td>4</td>\n",
       "            <td>4</td>\n",
       "        </tr>\n",
       "        <tr>\n",
       "            <td>Arches National Park</td>\n",
       "            <td>Devils Garden Campground</td>\n",
       "            <td>51</td>\n",
       "            <td>1</td>\n",
       "            <td>1</td>\n",
       "            <td>1</td>\n",
       "        </tr>\n",
       "        <tr>\n",
       "            <td>Badlands National Park</td>\n",
       "            <td>Cedar Pass Campground</td>\n",
       "            <td>96</td>\n",
       "            <td>1</td>\n",
       "            <td>1</td>\n",
       "            <td>1</td>\n",
       "        </tr>\n",
       "        <tr>\n",
       "            <td>Badlands National Park</td>\n",
       "            <td>Sage Creek Campground</td>\n",
       "            <td>0</td>\n",
       "            <td>2</td>\n",
       "            <td>2</td>\n",
       "            <td>2</td>\n",
       "        </tr>\n",
       "        <tr>\n",
       "            <td>Big Bend National Park</td>\n",
       "            <td>Rio Grande Village Campground</td>\n",
       "            <td>93</td>\n",
       "            <td>1</td>\n",
       "            <td>1</td>\n",
       "            <td>1</td>\n",
       "        </tr>\n",
       "        <tr>\n",
       "            <td>Big Bend National Park</td>\n",
       "            <td>Chisos Basin Campground</td>\n",
       "            <td>56</td>\n",
       "            <td>2</td>\n",
       "            <td>2</td>\n",
       "            <td>2</td>\n",
       "        </tr>\n",
       "        <tr>\n",
       "            <td>Big Bend National Park</td>\n",
       "            <td>Rio Grande Village RV</td>\n",
       "            <td>25</td>\n",
       "            <td>3</td>\n",
       "            <td>3</td>\n",
       "            <td>3</td>\n",
       "        </tr>\n",
       "        <tr>\n",
       "            <td>Big Bend National Park</td>\n",
       "            <td>Cottonwood Campground</td>\n",
       "            <td>22</td>\n",
       "            <td>4</td>\n",
       "            <td>4</td>\n",
       "            <td>4</td>\n",
       "        </tr>\n",
       "        <tr>\n",
       "            <td>Biscayne National Park</td>\n",
       "            <td>Boca Chita Campground</td>\n",
       "            <td>60</td>\n",
       "            <td>1</td>\n",
       "            <td>1</td>\n",
       "            <td>1</td>\n",
       "        </tr>\n",
       "    </tbody>\n",
       "</table>"
      ],
      "text/plain": [
       "+------------------------+-------------------------------+---------------+---------------------+-------------------+----------------------+\n",
       "|       park_name        |        campground_name        | num_campsites | park_campsites_rank | campsites_row_num | campsites_dense_rank |\n",
       "+------------------------+-------------------------------+---------------+---------------------+-------------------+----------------------+\n",
       "|  Acadia National Park  |     Blackwoods Campground     |      281      |          1          |         1         |          1           |\n",
       "|  Acadia National Park  |       Seawall Campground      |      202      |          2          |         2         |          2           |\n",
       "|  Acadia National Park  |   Schoodic Woods Campground   |       89      |          3          |         3         |          3           |\n",
       "|  Acadia National Park  |     Duck Harbor Campground    |       5       |          4          |         4         |          4           |\n",
       "|  Arches National Park  |    Devils Garden Campground   |       51      |          1          |         1         |          1           |\n",
       "| Badlands National Park |     Cedar Pass Campground     |       96      |          1          |         1         |          1           |\n",
       "| Badlands National Park |     Sage Creek Campground     |       0       |          2          |         2         |          2           |\n",
       "| Big Bend National Park | Rio Grande Village Campground |       93      |          1          |         1         |          1           |\n",
       "| Big Bend National Park |    Chisos Basin Campground    |       56      |          2          |         2         |          2           |\n",
       "| Big Bend National Park |     Rio Grande Village RV     |       25      |          3          |         3         |          3           |\n",
       "| Big Bend National Park |     Cottonwood Campground     |       22      |          4          |         4         |          4           |\n",
       "| Biscayne National Park |     Boca Chita Campground     |       60      |          1          |         1         |          1           |\n",
       "+------------------------+-------------------------------+---------------+---------------------+-------------------+----------------------+"
      ]
     },
     "execution_count": 10,
     "metadata": {},
     "output_type": "execute_result"
    }
   ],
   "source": [
    "%%sql\n",
    "SELECT\n",
    "    p.fullname as park_name,\n",
    "    c.name as campground_name,\n",
    "\n",
    "    -- For each park, which campground has the maximum number of campsites?\n",
    "    c.numberofsitesfirstcomefirstserve + c.numberofsitesreservable as num_campsites,\n",
    "    -- RANK, ROW_NUMBER, DENSE_RANK     \n",
    "    RANK() OVER (PARTITION BY park_name ORDER BY c.numberofsitesfirstcomefirstserve + c.numberofsitesreservable DESC) as park_campsites_rank,\n",
    "    ROW_NUMBER() OVER (PARTITION BY park_name ORDER BY c.numberofsitesfirstcomefirstserve + c.numberofsitesreservable DESC) as campsites_row_num,\n",
    "    DENSE_RANK() OVER (PARTITION BY park_name ORDER BY c.numberofsitesfirstcomefirstserve + c.numberofsitesreservable DESC) as campsites_dense_rank,\n",
    "FROM nps_public_data.campgrounds c\n",
    "INNER JOIN nps_public_data.parks p\n",
    "    ON c.parkcode = p.parkcode\n",
    "    AND p.designation = 'National Park'\n",
    "-- WHERE p.fullname = 'Death Valley National Park'\n",
    "ORDER BY park_name, park_campsites_rank ASC\n",
    "LIMIT 12;"
   ]
  },
  {
   "cell_type": "code",
   "execution_count": null,
   "metadata": {
    "vscode": {
     "languageId": "sql"
    }
   },
   "outputs": [],
   "source": [
    "%%sql\n",
    "SELECT\n",
    "    p.fullname as park_name,\n",
    "    c.name as campground_name,\n",
    "\n",
    "    -- For each park, which campground has the maximum number of campsites?\n",
    "    c.numberofsitesfirstcomefirstserve + c.numberofsitesreservable as num_campsites,\n",
    "    -- RANK, ROW_NUMBER, DENSE_RANK     \n",
    "    RANK() OVER (PARTITION BY park_name ORDER BY c.numberofsitesfirstcomefirstserve + c.numberofsitesreservable DESC) as park_campsites_rank,\n",
    "    ROW_NUMBER() OVER (PARTITION BY park_name ORDER BY c.numberofsitesfirstcomefirstserve + c.numberofsitesreservable DESC) as campsites_row_num,\n",
    "    DENSE_RANK() OVER (PARTITION BY park_name ORDER BY c.numberofsitesfirstcomefirstserve + c.numberofsitesreservable DESC) as campsites_dense_rank,\n",
    "FROM nps_public_data.campgrounds c\n",
    "INNER JOIN nps_public_data.parks p\n",
    "    ON c.parkcode = p.parkcode\n",
    "    AND p.designation = 'National Park'\n",
    "-- WHERE p.fullname = 'Death Valley National Park'\n",
    "ORDER BY park_name, park_campsites_rank ASC\n",
    "LIMIT 12;"
   ]
  }
 ],
 "metadata": {
  "kernelspec": {
   "display_name": "lil-cdt",
   "language": "python",
   "name": "python3"
  },
  "language_info": {
   "codemirror_mode": {
    "name": "ipython",
    "version": 3
   },
   "file_extension": ".py",
   "mimetype": "text/x-python",
   "name": "python",
   "nbconvert_exporter": "python",
   "pygments_lexer": "ipython3",
   "version": "3.10.0"
  }
 },
 "nbformat": 4,
 "nbformat_minor": 2
}
