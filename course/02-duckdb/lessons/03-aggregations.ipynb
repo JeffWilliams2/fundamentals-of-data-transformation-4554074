{
 "cells": [
  {
   "cell_type": "code",
   "execution_count": 1,
   "metadata": {},
   "outputs": [
    {
     "name": "stdout",
     "output_type": "stream",
     "text": [
      "Deploy Streamlit apps for free on Ploomber Cloud! Learn more: https://ploomber.io/s/signup\n"
     ]
    },
    {
     "data": {
      "text/html": [
       "<span style=\"None\">Running query in &#x27;duckdb&#x27;</span>"
      ],
      "text/plain": [
       "Running query in 'duckdb'"
      ]
     },
     "metadata": {},
     "output_type": "display_data"
    },
    {
     "data": {
      "text/html": [
       "<table>\n",
       "    <thead>\n",
       "        <tr>\n",
       "            <th>Count</th>\n",
       "        </tr>\n",
       "    </thead>\n",
       "    <tbody>\n",
       "        <tr>\n",
       "            <td>40</td>\n",
       "        </tr>\n",
       "    </tbody>\n",
       "</table>"
      ],
      "text/plain": [
       "+-------+\n",
       "| Count |\n",
       "+-------+\n",
       "|   40  |\n",
       "+-------+"
      ]
     },
     "execution_count": 1,
     "metadata": {},
     "output_type": "execute_result"
    }
   ],
   "source": [
    "import duckdb\n",
    "\n",
    "# Load SQL extension, configure display limit\n",
    "%load_ext sql\n",
    "%config SqlMagic.displaylimit = 0\n",
    "\n",
    "# Initialize 🦆 DuckDB connection\n",
    "conn = duckdb.connect()\n",
    "\n",
    "# Import database\n",
    "%sql conn --alias duckdb\n",
    "%sql IMPORT DATABASE '../../data/nps';"
   ]
  },
  {
   "cell_type": "markdown",
   "metadata": {},
   "source": [
    "The Basics"
   ]
  },
  {
   "cell_type": "code",
   "execution_count": 2,
   "metadata": {},
   "outputs": [
    {
     "data": {
      "text/html": [
       "<span style=\"None\">Running query in &#x27;duckdb&#x27;</span>"
      ],
      "text/plain": [
       "Running query in 'duckdb'"
      ]
     },
     "metadata": {},
     "output_type": "display_data"
    },
    {
     "data": {
      "text/html": [
       "<table>\n",
       "    <thead>\n",
       "        <tr>\n",
       "            <th>states</th>\n",
       "            <th>num_parks</th>\n",
       "        </tr>\n",
       "    </thead>\n",
       "    <tbody>\n",
       "        <tr>\n",
       "            <td>CA</td>\n",
       "            <td>5</td>\n",
       "        </tr>\n",
       "        <tr>\n",
       "            <td>UT</td>\n",
       "            <td>5</td>\n",
       "        </tr>\n",
       "        <tr>\n",
       "            <td>FL</td>\n",
       "            <td>3</td>\n",
       "        </tr>\n",
       "        <tr>\n",
       "            <td>CO</td>\n",
       "            <td>3</td>\n",
       "        </tr>\n",
       "        <tr>\n",
       "            <td>WA</td>\n",
       "            <td>3</td>\n",
       "        </tr>\n",
       "        <tr>\n",
       "            <td>AZ</td>\n",
       "            <td>3</td>\n",
       "        </tr>\n",
       "        <tr>\n",
       "            <td>TX</td>\n",
       "            <td>2</td>\n",
       "        </tr>\n",
       "        <tr>\n",
       "            <td>NM</td>\n",
       "            <td>2</td>\n",
       "        </tr>\n",
       "        <tr>\n",
       "            <td>SD</td>\n",
       "            <td>2</td>\n",
       "        </tr>\n",
       "        <tr>\n",
       "            <td>AK</td>\n",
       "            <td>2</td>\n",
       "        </tr>\n",
       "        <tr>\n",
       "            <td>HI</td>\n",
       "            <td>2</td>\n",
       "        </tr>\n",
       "        <tr>\n",
       "            <td>MI</td>\n",
       "            <td>1</td>\n",
       "        </tr>\n",
       "        <tr>\n",
       "            <td>ND</td>\n",
       "            <td>1</td>\n",
       "        </tr>\n",
       "        <tr>\n",
       "            <td>NV</td>\n",
       "            <td>1</td>\n",
       "        </tr>\n",
       "        <tr>\n",
       "            <td>ID,MT,WY</td>\n",
       "            <td>1</td>\n",
       "        </tr>\n",
       "        <tr>\n",
       "            <td>MO</td>\n",
       "            <td>1</td>\n",
       "        </tr>\n",
       "        <tr>\n",
       "            <td>ME</td>\n",
       "            <td>1</td>\n",
       "        </tr>\n",
       "        <tr>\n",
       "            <td>WY</td>\n",
       "            <td>1</td>\n",
       "        </tr>\n",
       "        <tr>\n",
       "            <td>NC,TN</td>\n",
       "            <td>1</td>\n",
       "        </tr>\n",
       "        <tr>\n",
       "            <td>OR</td>\n",
       "            <td>1</td>\n",
       "        </tr>\n",
       "    </tbody>\n",
       "</table>"
      ],
      "text/plain": [
       "+----------+-----------+\n",
       "|  states  | num_parks |\n",
       "+----------+-----------+\n",
       "|    CA    |     5     |\n",
       "|    UT    |     5     |\n",
       "|    FL    |     3     |\n",
       "|    CO    |     3     |\n",
       "|    WA    |     3     |\n",
       "|    AZ    |     3     |\n",
       "|    TX    |     2     |\n",
       "|    NM    |     2     |\n",
       "|    SD    |     2     |\n",
       "|    AK    |     2     |\n",
       "|    HI    |     2     |\n",
       "|    MI    |     1     |\n",
       "|    ND    |     1     |\n",
       "|    NV    |     1     |\n",
       "| ID,MT,WY |     1     |\n",
       "|    MO    |     1     |\n",
       "|    ME    |     1     |\n",
       "|    WY    |     1     |\n",
       "|  NC,TN   |     1     |\n",
       "|    OR    |     1     |\n",
       "+----------+-----------+"
      ]
     },
     "execution_count": 2,
     "metadata": {},
     "output_type": "execute_result"
    }
   ],
   "source": [
    "%%sql\n",
    "SELECT\n",
    "    states,\n",
    "    COUNT(*) as num_parks\n",
    "FROM nps_public_data.parks p\n",
    "WHERE designation = 'National Park'\n",
    "GROUP BY 1\n",
    "ORDER BY 2 DESC\n",
    "LIMIT 20"
   ]
  },
  {
   "cell_type": "code",
   "execution_count": 3,
   "metadata": {},
   "outputs": [
    {
     "data": {
      "text/html": [
       "<span style=\"None\">Running query in &#x27;duckdb&#x27;</span>"
      ],
      "text/plain": [
       "Running query in 'duckdb'"
      ]
     },
     "metadata": {},
     "output_type": "display_data"
    },
    {
     "data": {
      "text/html": [
       "<table>\n",
       "    <thead>\n",
       "        <tr>\n",
       "            <th>state</th>\n",
       "            <th>num_parks</th>\n",
       "        </tr>\n",
       "    </thead>\n",
       "    <tbody>\n",
       "        <tr>\n",
       "            <td>CA</td>\n",
       "            <td>6</td>\n",
       "        </tr>\n",
       "        <tr>\n",
       "            <td>UT</td>\n",
       "            <td>5</td>\n",
       "        </tr>\n",
       "        <tr>\n",
       "            <td>AZ</td>\n",
       "            <td>3</td>\n",
       "        </tr>\n",
       "        <tr>\n",
       "            <td>CO</td>\n",
       "            <td>3</td>\n",
       "        </tr>\n",
       "        <tr>\n",
       "            <td>FL</td>\n",
       "            <td>3</td>\n",
       "        </tr>\n",
       "        <tr>\n",
       "            <td>WA</td>\n",
       "            <td>3</td>\n",
       "        </tr>\n",
       "        <tr>\n",
       "            <td>AK</td>\n",
       "            <td>2</td>\n",
       "        </tr>\n",
       "        <tr>\n",
       "            <td>HI</td>\n",
       "            <td>2</td>\n",
       "        </tr>\n",
       "        <tr>\n",
       "            <td>MT</td>\n",
       "            <td>2</td>\n",
       "        </tr>\n",
       "        <tr>\n",
       "            <td>NM</td>\n",
       "            <td>2</td>\n",
       "        </tr>\n",
       "    </tbody>\n",
       "</table>"
      ],
      "text/plain": [
       "+-------+-----------+\n",
       "| state | num_parks |\n",
       "+-------+-----------+\n",
       "|   CA  |     6     |\n",
       "|   UT  |     5     |\n",
       "|   AZ  |     3     |\n",
       "|   CO  |     3     |\n",
       "|   FL  |     3     |\n",
       "|   WA  |     3     |\n",
       "|   AK  |     2     |\n",
       "|   HI  |     2     |\n",
       "|   MT  |     2     |\n",
       "|   NM  |     2     |\n",
       "+-------+-----------+"
      ]
     },
     "execution_count": 3,
     "metadata": {},
     "output_type": "execute_result"
    }
   ],
   "source": [
    "%%sql\n",
    "WITH park_list AS (\n",
    "    SELECT\n",
    "        fullname,\n",
    "        UNNEST(\n",
    "            SPLIT(states, ',')::string[]\n",
    "            ) as state\n",
    "    FROM nps_public_data.parks p\n",
    "    WHERE designation = 'National Park'\n",
    ")\n",
    "SELECT\n",
    "    state,\n",
    "    COUNT(*) as num_parks\n",
    "FROM park_list\n",
    "GROUP BY 1\n",
    "ORDER BY 2 DESC, 1\n",
    "LIMIT 10"
   ]
  },
  {
   "cell_type": "markdown",
   "metadata": {},
   "source": [
    "How do we find the campgrounds with the least and most sites using aggregations?"
   ]
  },
  {
   "cell_type": "code",
   "execution_count": 4,
   "metadata": {
    "vscode": {
     "languageId": "sql"
    }
   },
   "outputs": [
    {
     "data": {
      "text/html": [
       "<span style=\"None\">Running query in &#x27;duckdb&#x27;</span>"
      ],
      "text/plain": [
       "Running query in 'duckdb'"
      ]
     },
     "metadata": {},
     "output_type": "display_data"
    },
    {
     "data": {
      "text/html": [
       "<table>\n",
       "    <thead>\n",
       "        <tr>\n",
       "            <th>campgroud_name</th>\n",
       "            <th>num_sites</th>\n",
       "            <th>sites_rank</th>\n",
       "        </tr>\n",
       "    </thead>\n",
       "    <tbody>\n",
       "        <tr>\n",
       "            <td>Dunbar Group Site</td>\n",
       "            <td>1</td>\n",
       "            <td>least</td>\n",
       "        </tr>\n",
       "        <tr>\n",
       "            <td>Frijole Horse Corral Campground</td>\n",
       "            <td>1</td>\n",
       "            <td>least</td>\n",
       "        </tr>\n",
       "        <tr>\n",
       "            <td>Group Campsite</td>\n",
       "            <td>1</td>\n",
       "            <td>least</td>\n",
       "        </tr>\n",
       "        <tr>\n",
       "            <td>Hay Bay Campground</td>\n",
       "            <td>1</td>\n",
       "            <td>least</td>\n",
       "        </tr>\n",
       "        <tr>\n",
       "            <td>Pickerel Cove Campground</td>\n",
       "            <td>1</td>\n",
       "            <td>least</td>\n",
       "        </tr>\n",
       "        <tr>\n",
       "            <td>Roundup Group Horse Camp</td>\n",
       "            <td>1</td>\n",
       "            <td>least</td>\n",
       "        </tr>\n",
       "        <tr>\n",
       "            <td>Upper Goodell Creek Group Campsite</td>\n",
       "            <td>1</td>\n",
       "            <td>least</td>\n",
       "        </tr>\n",
       "        <tr>\n",
       "            <td>Morefield Campground</td>\n",
       "            <td>534</td>\n",
       "            <td>most</td>\n",
       "        </tr>\n",
       "    </tbody>\n",
       "</table>"
      ],
      "text/plain": [
       "+------------------------------------+-----------+------------+\n",
       "|           campgroud_name           | num_sites | sites_rank |\n",
       "+------------------------------------+-----------+------------+\n",
       "|         Dunbar Group Site          |     1     |   least    |\n",
       "|  Frijole Horse Corral Campground   |     1     |   least    |\n",
       "|           Group Campsite           |     1     |   least    |\n",
       "|         Hay Bay Campground         |     1     |   least    |\n",
       "|      Pickerel Cove Campground      |     1     |   least    |\n",
       "|      Roundup Group Horse Camp      |     1     |   least    |\n",
       "| Upper Goodell Creek Group Campsite |     1     |   least    |\n",
       "|        Morefield Campground        |    534    |    most    |\n",
       "+------------------------------------+-----------+------------+"
      ]
     },
     "execution_count": 4,
     "metadata": {},
     "output_type": "execute_result"
    }
   ],
   "source": [
    "%%sql\n",
    "WITH park_campgrounds AS (\n",
    "    SELECT\n",
    "        c.name as campgroud_name,\n",
    "        p.fullname as park_name,\n",
    "        c.numberofsitesfirstcomefirstserve + c.numberofsitesreservable as total_sites,\n",
    "    FROM nps_public_data.campgrounds c\n",
    "    INNER JOIN nps_public_data.parks p\n",
    "        ON c.parkcode = p.parkcode\n",
    "        AND p.designation = 'National Park'\n",
    "    GROUP BY 1,2,3\n",
    "), min_max_sites AS (\n",
    "SELECT\n",
    "    MIN(total_sites) as min_sites,\n",
    "    MAX(total_sites) as max_sites\n",
    "FROM park_campgrounds\n",
    "WHERE total_sites > 0\n",
    ")\n",
    "SELECT\n",
    "    campgroud_name,\n",
    "    total_sites as num_sites,\n",
    "    CASE total_sites WHEN min_sites THEN 'least' ELSE 'most' END as sites_rank\n",
    "FROM park_campgrounds pc\n",
    "INNER JOIN min_max_sites mms\n",
    "    ON (pc.total_sites = mms.min_sites OR pc.total_sites = mms.max_sites)\n",
    "ORDER BY num_sites, campgroud_name"
   ]
  },
  {
   "cell_type": "markdown",
   "metadata": {},
   "source": [
    "What about the parks?"
   ]
  },
  {
   "cell_type": "code",
   "execution_count": 5,
   "metadata": {
    "vscode": {
     "languageId": "sql"
    }
   },
   "outputs": [
    {
     "data": {
      "text/html": [
       "<span style=\"None\">Running query in &#x27;duckdb&#x27;</span>"
      ],
      "text/plain": [
       "Running query in 'duckdb'"
      ]
     },
     "metadata": {},
     "output_type": "display_data"
    },
    {
     "data": {
      "text/html": [
       "<table>\n",
       "    <thead>\n",
       "        <tr>\n",
       "            <th>park_name</th>\n",
       "            <th>num_sites</th>\n",
       "            <th>sites_rank</th>\n",
       "        </tr>\n",
       "    </thead>\n",
       "    <tbody>\n",
       "        <tr>\n",
       "            <td>Yellowstone National Park</td>\n",
       "            <td>2149</td>\n",
       "            <td>most</td>\n",
       "        </tr>\n",
       "        <tr>\n",
       "            <td>Dry Tortugas National Park</td>\n",
       "            <td>8</td>\n",
       "            <td>least</td>\n",
       "        </tr>\n",
       "    </tbody>\n",
       "</table>"
      ],
      "text/plain": [
       "+----------------------------+-----------+------------+\n",
       "|         park_name          | num_sites | sites_rank |\n",
       "+----------------------------+-----------+------------+\n",
       "| Yellowstone National Park  |    2149   |    most    |\n",
       "| Dry Tortugas National Park |     8     |   least    |\n",
       "+----------------------------+-----------+------------+"
      ]
     },
     "execution_count": 5,
     "metadata": {},
     "output_type": "execute_result"
    }
   ],
   "source": [
    "%%sql\n",
    "WITH park_campgrounds AS (\n",
    "    SELECT\n",
    "        c.name as campgroud_name,\n",
    "        p.fullname as park_name,\n",
    "        c.numberofsitesfirstcomefirstserve + c.numberofsitesreservable as total_sites,\n",
    "    FROM nps_public_data.campgrounds c\n",
    "    INNER JOIN nps_public_data.parks p\n",
    "        ON c.parkcode = p.parkcode\n",
    "        AND p.designation = 'National Park'\n",
    "    GROUP BY 1,2,3\n",
    "), park_sites AS (\n",
    "    SELECT\n",
    "        park_name,\n",
    "        SUM(total_sites) as num_sites\n",
    "    FROM park_campgrounds\n",
    "    GROUP BY 1\n",
    "    ORDER BY 2 DESC\n",
    "), min_max_sites AS (\n",
    "    SELECT\n",
    "        MIN(num_sites) as min_sites,\n",
    "        MAX(num_sites) as max_sites\n",
    "    FROM park_sites ps\n",
    ")\n",
    "SELECT\n",
    "    ps.*,\n",
    "    CASE num_sites WHEN min_sites THEN 'least' ELSE 'most' END as sites_rank\n",
    "FROM park_sites ps\n",
    "INNER JOIN min_max_sites mms\n",
    "    ON (num_sites = mms.min_sites or num_sites = mms.max_sites)\n",
    "ORDER BY ps.num_sites DESC"
   ]
  },
  {
   "cell_type": "markdown",
   "metadata": {},
   "source": [
    "Other basic aggregations"
   ]
  },
  {
   "cell_type": "code",
   "execution_count": 7,
   "metadata": {
    "vscode": {
     "languageId": "sql"
    }
   },
   "outputs": [
    {
     "data": {
      "text/html": [
       "<span style=\"None\">Running query in &#x27;duckdb&#x27;</span>"
      ],
      "text/plain": [
       "Running query in 'duckdb'"
      ]
     },
     "metadata": {},
     "output_type": "display_data"
    },
    {
     "data": {
      "text/html": [
       "<table>\n",
       "    <thead>\n",
       "        <tr>\n",
       "            <th>park_name</th>\n",
       "            <th>num_campgrounds</th>\n",
       "            <th>avg_sites_reservable</th>\n",
       "            <th>avg_sites_fcfs</th>\n",
       "            <th>avg_total_sites</th>\n",
       "        </tr>\n",
       "    </thead>\n",
       "    <tbody>\n",
       "        <tr>\n",
       "            <td>Isle Royale National Park</td>\n",
       "            <td>36</td>\n",
       "            <td>1.19</td>\n",
       "            <td>5.58</td>\n",
       "            <td>6.78</td>\n",
       "        </tr>\n",
       "        <tr>\n",
       "            <td>Yosemite National Park</td>\n",
       "            <td>14</td>\n",
       "            <td>75.64</td>\n",
       "            <td>21.64</td>\n",
       "            <td>97.29</td>\n",
       "        </tr>\n",
       "        <tr>\n",
       "            <td>Great Smoky Mountains National Park</td>\n",
       "            <td>13</td>\n",
       "            <td>72.54</td>\n",
       "            <td>0.0</td>\n",
       "            <td>72.54</td>\n",
       "        </tr>\n",
       "        <tr>\n",
       "            <td>Guadalupe Mountains National Park</td>\n",
       "            <td>13</td>\n",
       "            <td>8.46</td>\n",
       "            <td>0.0</td>\n",
       "            <td>8.46</td>\n",
       "        </tr>\n",
       "        <tr>\n",
       "            <td>Olympic National Park</td>\n",
       "            <td>13</td>\n",
       "            <td>36.85</td>\n",
       "            <td>23.31</td>\n",
       "            <td>60.15</td>\n",
       "        </tr>\n",
       "        <tr>\n",
       "            <td>Glacier National Park</td>\n",
       "            <td>13</td>\n",
       "            <td>64.38</td>\n",
       "            <td>13.31</td>\n",
       "            <td>77.69</td>\n",
       "        </tr>\n",
       "        <tr>\n",
       "            <td>Death Valley National Park</td>\n",
       "            <td>12</td>\n",
       "            <td>11.33</td>\n",
       "            <td>52.08</td>\n",
       "            <td>63.42</td>\n",
       "        </tr>\n",
       "        <tr>\n",
       "            <td>Yellowstone National Park</td>\n",
       "            <td>12</td>\n",
       "            <td>179.08</td>\n",
       "            <td>0.0</td>\n",
       "            <td>179.08</td>\n",
       "        </tr>\n",
       "        <tr>\n",
       "            <td>North Cascades National Park</td>\n",
       "            <td>11</td>\n",
       "            <td>26.64</td>\n",
       "            <td>7.82</td>\n",
       "            <td>34.45</td>\n",
       "        </tr>\n",
       "        <tr>\n",
       "            <td>Joshua Tree National Park</td>\n",
       "            <td>9</td>\n",
       "            <td>47.0</td>\n",
       "            <td>8.56</td>\n",
       "            <td>55.56</td>\n",
       "        </tr>\n",
       "    </tbody>\n",
       "</table>"
      ],
      "text/plain": [
       "+-------------------------------------+-----------------+----------------------+----------------+-----------------+\n",
       "|              park_name              | num_campgrounds | avg_sites_reservable | avg_sites_fcfs | avg_total_sites |\n",
       "+-------------------------------------+-----------------+----------------------+----------------+-----------------+\n",
       "|      Isle Royale National Park      |        36       |         1.19         |      5.58      |       6.78      |\n",
       "|        Yosemite National Park       |        14       |        75.64         |     21.64      |      97.29      |\n",
       "| Great Smoky Mountains National Park |        13       |        72.54         |      0.0       |      72.54      |\n",
       "|  Guadalupe Mountains National Park  |        13       |         8.46         |      0.0       |       8.46      |\n",
       "|        Olympic National Park        |        13       |        36.85         |     23.31      |      60.15      |\n",
       "|        Glacier National Park        |        13       |        64.38         |     13.31      |      77.69      |\n",
       "|      Death Valley National Park     |        12       |        11.33         |     52.08      |      63.42      |\n",
       "|      Yellowstone National Park      |        12       |        179.08        |      0.0       |      179.08     |\n",
       "|     North Cascades National Park    |        11       |        26.64         |      7.82      |      34.45      |\n",
       "|      Joshua Tree National Park      |        9        |         47.0         |      8.56      |      55.56      |\n",
       "+-------------------------------------+-----------------+----------------------+----------------+-----------------+"
      ]
     },
     "execution_count": 7,
     "metadata": {},
     "output_type": "execute_result"
    }
   ],
   "source": [
    "%%sql\n",
    "SELECT\n",
    "    p.fullname as park_name,\n",
    "    -- COUNT the number of campgrounds\n",
    "    COUNT(DISTINCT c.name) as num_campgrounds,\n",
    "    -- Get the average number of sites— what is this returning?\n",
    "    ROUND(AVG(numberofsitesreservable), 2) as avg_sites_reservable,\n",
    "    ROUND(AVG(numberofsitesfirstcomefirstserve), 2) as avg_sites_fcfs,\n",
    "    ROUND(AVG(numberofsitesreservable + numberofsitesfirstcomefirstserve), 2) as avg_total_sites\n",
    "FROM nps_public_data.campgrounds c\n",
    "INNER JOIN nps_public_data.parks p\n",
    "    ON c.parkcode = p.parkcode\n",
    "    AND p.designation = 'National Park'\n",
    "GROUP BY 1\n",
    "ORDER BY 2 DESC\n",
    "LIMIT 10\n",
    "-- Read more about aggregates here: https://duckdb.org/docs/sql/aggregates"
   ]
  },
  {
   "cell_type": "code",
   "execution_count": 10,
   "metadata": {
    "vscode": {
     "languageId": "sql"
    }
   },
   "outputs": [
    {
     "data": {
      "text/html": [
       "<span style=\"None\">Running query in &#x27;duckdb&#x27;</span>"
      ],
      "text/plain": [
       "Running query in 'duckdb'"
      ]
     },
     "metadata": {},
     "output_type": "display_data"
    },
    {
     "data": {
      "text/html": [
       "<table>\n",
       "    <thead>\n",
       "        <tr>\n",
       "            <th>name</th>\n",
       "        </tr>\n",
       "    </thead>\n",
       "    <tbody>\n",
       "        <tr>\n",
       "            <td>Norris Campground</td>\n",
       "        </tr>\n",
       "        <tr>\n",
       "            <td>Pebble Creek Campground</td>\n",
       "        </tr>\n",
       "        <tr>\n",
       "            <td>Tower Fall Campground</td>\n",
       "        </tr>\n",
       "        <tr>\n",
       "            <td>Bridge Bay Campground</td>\n",
       "        </tr>\n",
       "        <tr>\n",
       "            <td>Canyon Campground</td>\n",
       "        </tr>\n",
       "        <tr>\n",
       "            <td>Fishing Bridge RV Park</td>\n",
       "        </tr>\n",
       "        <tr>\n",
       "            <td>Grant Village Campground</td>\n",
       "        </tr>\n",
       "        <tr>\n",
       "            <td>Indian Creek Campground</td>\n",
       "        </tr>\n",
       "        <tr>\n",
       "            <td>Lewis Lake Campground</td>\n",
       "        </tr>\n",
       "        <tr>\n",
       "            <td>Madison Campground</td>\n",
       "        </tr>\n",
       "        <tr>\n",
       "            <td>Mammoth Campground</td>\n",
       "        </tr>\n",
       "        <tr>\n",
       "            <td>Slough Creek Campground</td>\n",
       "        </tr>\n",
       "    </tbody>\n",
       "</table>"
      ],
      "text/plain": [
       "+--------------------------+\n",
       "|           name           |\n",
       "+--------------------------+\n",
       "|    Norris Campground     |\n",
       "| Pebble Creek Campground  |\n",
       "|  Tower Fall Campground   |\n",
       "|  Bridge Bay Campground   |\n",
       "|    Canyon Campground     |\n",
       "|  Fishing Bridge RV Park  |\n",
       "| Grant Village Campground |\n",
       "| Indian Creek Campground  |\n",
       "|  Lewis Lake Campground   |\n",
       "|    Madison Campground    |\n",
       "|    Mammoth Campground    |\n",
       "| Slough Creek Campground  |\n",
       "+--------------------------+"
      ]
     },
     "execution_count": 10,
     "metadata": {},
     "output_type": "execute_result"
    }
   ],
   "source": [
    "%%sql\n",
    "SELECT\n",
    "    c.name\n",
    "FROM nps_public_data.campgrounds c\n",
    "INNER JOIN nps_public_data.parks p\n",
    "    ON c.parkcode = p.parkcode\n",
    "    AND p.designation = 'National Park'\n",
    "    AND p.fullname = 'Yellowstone National Park'"
   ]
  },
  {
   "cell_type": "code",
   "execution_count": null,
   "metadata": {
    "vscode": {
     "languageId": "sql"
    }
   },
   "outputs": [],
   "source": []
  }
 ],
 "metadata": {
  "kernelspec": {
   "display_name": "lil-cdt",
   "language": "python",
   "name": "python3"
  },
  "language_info": {
   "codemirror_mode": {
    "name": "ipython",
    "version": 3
   },
   "file_extension": ".py",
   "mimetype": "text/x-python",
   "name": "python",
   "nbconvert_exporter": "python",
   "pygments_lexer": "ipython3",
   "version": "3.10.0"
  }
 },
 "nbformat": 4,
 "nbformat_minor": 2
}
