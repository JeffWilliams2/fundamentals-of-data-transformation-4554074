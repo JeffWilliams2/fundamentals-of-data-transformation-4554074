{
 "cells": [
  {
   "cell_type": "code",
   "execution_count": null,
   "metadata": {},
   "outputs": [],
   "source": [
    "import duckdb\n",
    "\n",
    "# Load SQL extension, configure display limit\n",
    "%load_ext sql\n",
    "%config SqlMagic.displaylimit = 0\n",
    "\n",
    "# Initialize 🦆 DuckDB connection\n",
    "conn = duckdb.connect()\n",
    "\n",
    "# Import database\n",
    "%sql conn --alias duckdb\n",
    "%sql IMPORT DATABASE '../../data/nps';"
   ]
  },
  {
   "cell_type": "markdown",
   "metadata": {},
   "source": [
    "The Basics"
   ]
  },
  {
   "cell_type": "code",
   "execution_count": null,
   "metadata": {},
   "outputs": [],
   "source": [
    "%%sql\n",
    "SELECT\n",
    "    states,\n",
    "    COUNT(*) as num_parks\n",
    "FROM nps_public_data.parks p\n",
    "WHERE designation = 'National Park'\n",
    "GROUP BY 1\n",
    "ORDER BY 2 DESC\n",
    "LIMIT 20;"
   ]
  },
  {
   "cell_type": "code",
   "execution_count": null,
   "metadata": {},
   "outputs": [],
   "source": [
    "%%sql\n",
    "WITH park_list AS (\n",
    "    SELECT\n",
    "        fullname,\n",
    "        UNNEST(\n",
    "            SPLIT(states, ',')::string[]\n",
    "            ) as state\n",
    "    FROM nps_public_data.parks p\n",
    "    WHERE designation = 'National Park'\n",
    ")\n",
    "SELECT\n",
    "    state,\n",
    "    COUNT(*) as num_parks\n",
    "FROM park_list\n",
    "GROUP BY 1\n",
    "ORDER BY 2 DESC, 1\n",
    "LIMIT 10"
   ]
  },
  {
   "cell_type": "markdown",
   "metadata": {},
   "source": [
    "How do we find the campgrounds with the least and most sites using aggregations?"
   ]
  },
  {
   "cell_type": "code",
   "execution_count": null,
   "metadata": {
    "vscode": {
     "languageId": "sql"
    }
   },
   "outputs": [],
   "source": [
    "%%sql\n",
    "WITH park_campgrounds AS (\n",
    "    SELECT\n",
    "        c.name as campgroud_name,\n",
    "        p.fullname as park_name,\n",
    "        c.numberofsitesfirstcomefirstserve + c.numberofsitesreservable as total_sites,\n",
    "    FROM nps_public_data.campgrounds c\n",
    "    INNER JOIN nps_public_data.parks p\n",
    "        ON c.parkcode = p.parkcode\n",
    "        AND p.designation = 'National Park'\n",
    "    GROUP BY 1,2,3\n",
    "), min_max_sites AS (\n",
    "SELECT\n",
    "    MIN(total_sites) as min_sites,\n",
    "    MAX(total_sites) as max_sites\n",
    "FROM park_campgrounds\n",
    "WHERE total_sites > 0\n",
    ")\n",
    "SELECT\n",
    "    campgroud_name,\n",
    "    total_sites as num_sites,\n",
    "    CASE total_sites WHEN min_sites THEN 'least' ELSE 'most' END as sites_rank\n",
    "FROM park_campgrounds pc\n",
    "INNER JOIN min_max_sites mms\n",
    "    ON (pc.total_sites = mms.min_sites OR pc.total_sites = mms.max_sites)\n",
    "ORDER BY num_sites, campgroud_name"
   ]
  },
  {
   "cell_type": "markdown",
   "metadata": {},
   "source": [
    "What about the parks?"
   ]
  },
  {
   "cell_type": "code",
   "execution_count": null,
   "metadata": {
    "vscode": {
     "languageId": "sql"
    }
   },
   "outputs": [],
   "source": [
    "%%sql\n",
    "WITH park_campgrounds AS (\n",
    "    SELECT\n",
    "        c.name as campgroud_name,\n",
    "        p.fullname as park_name,\n",
    "        c.numberofsitesfirstcomefirstserve + c.numberofsitesreservable as total_sites,\n",
    "    FROM nps_public_data.campgrounds c\n",
    "    INNER JOIN nps_public_data.parks p\n",
    "        ON c.parkcode = p.parkcode\n",
    "        AND p.designation = 'National Park'\n",
    "    GROUP BY 1,2,3\n",
    "), park_sites AS (\n",
    "    SELECT\n",
    "        park_name,\n",
    "        SUM(total_sites) as num_sites\n",
    "    FROM park_campgrounds\n",
    "    GROUP BY 1\n",
    "    ORDER BY 2 DESC\n",
    "), min_max_sites AS (\n",
    "    SELECT\n",
    "        MIN(num_sites) as min_sites,\n",
    "        MAX(num_sites) as max_sites\n",
    "    FROM park_sites ps\n",
    ")\n",
    "SELECT\n",
    "    ps.*,\n",
    "    CASE num_sites WHEN min_sites THEN 'least' ELSE 'most' END as sites_rank\n",
    "FROM park_sites ps\n",
    "INNER JOIN min_max_sites mms\n",
    "    ON (num_sites = mms.min_sites or num_sites = mms.max_sites)\n",
    "ORDER BY ps.num_sites DESC"
   ]
  },
  {
   "cell_type": "markdown",
   "metadata": {},
   "source": [
    "Other basic aggregations"
   ]
  },
  {
   "cell_type": "code",
   "execution_count": null,
   "metadata": {
    "vscode": {
     "languageId": "sql"
    }
   },
   "outputs": [],
   "source": [
    "%%sql\n",
    "SELECT\n",
    "    p.fullname as park_name,\n",
    "    -- COUNT the number of campgrounds\n",
    "    COUNT(DISTINCT c.name) as num_campgrounds,\n",
    "    -- Get the average number of sites— what is this returning?\n",
    "    ROUND(AVG(numberofsitesreservable), 2) as avg_sites_reservable,\n",
    "    ROUND(AVG(numberofsitesfirstcomefirstserve), 2) as avg_sites_fcfs,\n",
    "    ROUND(AVG(numberofsitesreservable + numberofsitesfirstcomefirstserve), 2) as avg_total_sites\n",
    "FROM nps_public_data.campgrounds c\n",
    "INNER JOIN nps_public_data.parks p\n",
    "    ON c.parkcode = p.parkcode\n",
    "    AND p.designation = 'National Park'\n",
    "GROUP BY 1\n",
    "ORDER BY 2 DESC\n",
    "LIMIT 10\n",
    "-- Read more about aggregates here: https://duckdb.org/docs/sql/aggregates"
   ]
  },
  {
   "cell_type": "code",
   "execution_count": null,
   "metadata": {
    "vscode": {
     "languageId": "sql"
    }
   },
   "outputs": [],
   "source": [
    "%%sql\n",
    "SELECT\n",
    "    c.name\n",
    "FROM nps_public_data.campgrounds c\n",
    "INNER JOIN nps_public_data.parks p\n",
    "    ON c.parkcode = p.parkcode\n",
    "    AND p.designation = 'National Park'\n",
    "    AND p.fullname = 'Yellowstone National Park'"
   ]
  },
  {
   "cell_type": "code",
   "execution_count": null,
   "metadata": {
    "vscode": {
     "languageId": "sql"
    }
   },
   "outputs": [],
   "source": []
  }
 ],
 "metadata": {
  "kernelspec": {
   "display_name": "lil-cdt",
   "language": "python",
   "name": "python3"
  },
  "language_info": {
   "codemirror_mode": {
    "name": "ipython",
    "version": 3
   },
   "file_extension": ".py",
   "mimetype": "text/x-python",
   "name": "python",
   "nbconvert_exporter": "python",
   "pygments_lexer": "ipython3",
   "version": "3.10.0"
  }
 },
 "nbformat": 4,
 "nbformat_minor": 2
}
