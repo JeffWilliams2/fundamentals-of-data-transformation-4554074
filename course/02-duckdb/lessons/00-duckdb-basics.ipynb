{
 "cells": [
  {
   "cell_type": "markdown",
   "metadata": {},
   "source": [
    "The SQL component to the is course will use DuckDB— an _in-memory_ analytics engine that let's you write full-featured SQL without the need for a stand-alone database.\n",
    "\n",
    "If you nerd out over that stuff, like me, you can read more [here](https://open.substack.com/pub/casewhen/p/data-explained-what-is-duckdb?r=rnul&utm_campaign=post&utm_medium=web). \n",
    "\n",
    "For now, you can just assume that the following code will load DuckDB + the necessary datasets, so you can sit back and relax:"
   ]
  },
  {
   "cell_type": "code",
   "execution_count": null,
   "metadata": {},
   "outputs": [],
   "source": [
    "import duckdb\n",
    "\n",
    "# Load SQL extension\n",
    "%load_ext sql\n",
    "\n",
    "# Initialize 🦆 DuckDB connection\n",
    "conn = duckdb.connect()\n",
    "\n",
    "# Import database\n",
    "%sql conn --alias duckdb\n",
    "%sql IMPORT DATABASE '../../data/nps';"
   ]
  },
  {
   "cell_type": "markdown",
   "metadata": {},
   "source": [
    "Now, we can focus on writing SQL! DuckDB is like any other variant— you can `SELECT` columns `FROM` some data source. (note we need %%sql at the beginning of the cell to make it work with our setup)"
   ]
  },
  {
   "cell_type": "code",
   "execution_count": null,
   "metadata": {},
   "outputs": [],
   "source": [
    "%%sql \n",
    "SELECT\n",
    "    *\n",
    "FROM nps_public_data.parks\n",
    "LIMIT 1"
   ]
  },
  {
   "cell_type": "markdown",
   "metadata": {},
   "source": [
    "Some SQL basics and refreshers:\n",
    "- Every query is made up of a `SELECT` and `FROM` \n",
    "- Between those two, we list the columns, separated by a comma. \n",
    "- We can _alias_ columns or our data source using _as_ (technically not required, but a good idea)"
   ]
  },
  {
   "cell_type": "code",
   "execution_count": null,
   "metadata": {},
   "outputs": [],
   "source": [
    "%%sql \n",
    "SELECT\n",
    "    fullName as full_name,\n",
    "    weatherInfo as weather_info,\n",
    "    operatingHours as operating_hours\n",
    "FROM nps_public_data.parks as not_parks\n",
    "LIMIT 3"
   ]
  },
  {
   "cell_type": "markdown",
   "metadata": {},
   "source": [
    "Using `DISTINCT` in SQL will only return unique values— it's like `set()` in Python. We can also use `UNION` to concatenate the results of any queries together (as long as they have the same column length). This query shows how `DISTINCT` works— duplicated rows are collapsed and the distinct example only counts 10 rows, while the complete one counts 100."
   ]
  },
  {
   "cell_type": "code",
   "execution_count": null,
   "metadata": {},
   "outputs": [],
   "source": [
    "%%sql\n",
    "SELECT\n",
    "   COUNT(*) as num_rows\n",
    "FROM range(0, 10) r\n",
    "CROSS JOIN range(0, 10) r2\n",
    "\n",
    "UNION\n",
    "\n",
    "SELECT\n",
    "    COUNT(DISTINCT r) as num_rows\n",
    "FROM range(0, 10) r\n",
    "CROSS JOIN range(0, 10) r2"
   ]
  },
  {
   "cell_type": "markdown",
   "metadata": {},
   "source": [
    "`CASE WHEN` is a SQL logic that let's us define conditions on columns— here we're taking the `designation` column and saying \"when designation is equal to `National Park`, return that. Otherwise, return `Not a National Park`\".\n",
    "\n",
    "You can use:\n",
    "```sql\n",
    "CASE [column] WHEN [key_1] THEN [value_1] WHEN [key_2] THEN [value_2] ... WHEN [key_n] THEN [value_n] ... ELSE [default_value] END\n",
    "```\n",
    "\n",
    "OR\n",
    "\n",
    "```sql\n",
    "CASE WHEN [logical_condition] THEN [value_1] ... ELSE [default_value] END"
   ]
  },
  {
   "cell_type": "code",
   "execution_count": null,
   "metadata": {},
   "outputs": [],
   "source": [
    "%%sql\n",
    "SELECT\n",
    "    DISTINCT designation,\n",
    "    CASE designation \n",
    "        WHEN 'National Parks' \n",
    "        THEN 'National Park' \n",
    "        WHEN 'National Park' \n",
    "        THEN 'National Park' \n",
    "        WHEN 'National and State Parks'\n",
    "        THEN 'National Park'\n",
    "        ELSE 'Not a National Park' \n",
    "    END as park_type,\n",
    "    CASE WHEN len(designation) > 20 THEN 'I am not reading that' ELSE designation END as short_designation\n",
    "FROM nps_public_data.parks\n",
    "WHERE len(designation) > 0\n",
    "ORDER BY 1 DESC\n",
    "LIMIT 10"
   ]
  },
  {
   "cell_type": "markdown",
   "metadata": {},
   "source": [
    "You might notice from the above example we're adding `LIMIT` and `ORDER` clauses to our results. They're pretty self explanatory— they limit the number of results being returned and define how we're ordering those results.\n",
    "\n",
    "When we say `ORDER BY 1 DESC`, we're saying \"Order by the first column descending,\" but you could also say `ORDER BY designation DESC`.\n",
    "\n",
    "The `WHERE` clause acts as a filter, returning only the rows that meet the logical condition `len(designation) > 0`\n",
    "\n",
    "Do note that the clauses _must_ appear in that order— `FROM, WHERE, ORDER, LIMIT`"
   ]
  },
  {
   "cell_type": "markdown",
   "metadata": {},
   "source": [
    "We're going to keep our SQL refresher short & sweet, so if you'd like to read more, feel free to check out [this article](https://www.dataquest.io/blog/sql-basics/), which does an excellent job of going over some of these intro concepts."
   ]
  }
 ],
 "metadata": {
  "kernelspec": {
   "display_name": "lil-cdt",
   "language": "python",
   "name": "python3"
  },
  "language_info": {
   "codemirror_mode": {
    "name": "ipython",
    "version": 3
   },
   "file_extension": ".py",
   "mimetype": "text/x-python",
   "name": "python",
   "nbconvert_exporter": "python",
   "pygments_lexer": "ipython3",
   "version": "3.12.0"
  }
 },
 "nbformat": 4,
 "nbformat_minor": 2
}
