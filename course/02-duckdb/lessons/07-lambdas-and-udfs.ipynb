{
 "cells": [
  {
   "cell_type": "code",
   "execution_count": null,
   "metadata": {},
   "outputs": [],
   "source": [
    "import duckdb\n",
    "\n",
    "# Load SQL extension\n",
    "%load_ext sql\n",
    "\n",
    "# Initialize 🦆 DuckDB connection\n",
    "conn = duckdb.connect()\n",
    "\n",
    "# Import database\n",
    "%sql conn --alias duckdb\n",
    "%sql IMPORT DATABASE '../../data/nps';"
   ]
  },
  {
   "cell_type": "markdown",
   "metadata": {},
   "source": [
    "Now, there will be times when you'd like to do something in SQL that... well isn't possible in SQL. That's one of the reason we're covering _three_ tools in this course. An additional option, however, is to define what's known as a UDF, or \"User Defined Function.\" Certain SQL dialects (Redshift, BigQuery, DuckDB) support UDFs in languages other than SQL.\n",
    "\n",
    "If you end up working as an analyst or engineer, it's likely UDFs will come in handy at some point. This lesson is mainly to let you know they exist and show you some basic functionality. DuckDB supports Python UDFs— so if you'd like to use a function in SQL on a dataset, you can!\n",
    "\n",
    "UDFs take a regular function and make them accessible to DuckDB using the `create_function`, function. In the next cell, we'll create a function that returns a random emoji per row. In DuckDB the `side_effects` parameter is to apply the function to every row when the result is independent of the row, like for random data."
   ]
  },
  {
   "cell_type": "code",
   "execution_count": null,
   "metadata": {},
   "outputs": [],
   "source": [
    "from duckdb.typing import *\n",
    "from faker import Faker\n",
    "\n",
    "\n",
    "def random_emoji():\n",
    "    fake = Faker()\n",
    "    fake.add_provider(\"emoji\")\n",
    "    return fake.emoji()\n",
    "\n",
    "\n",
    "conn.create_function(\"random_emoji\", random_emoji, [], \"VARCHAR\", side_effects=True)"
   ]
  },
  {
   "cell_type": "markdown",
   "metadata": {},
   "source": [
    "Since we created the function in the connection, we can call it directly in SQL. This one is a bit playful:"
   ]
  },
  {
   "cell_type": "code",
   "execution_count": null,
   "metadata": {},
   "outputs": [],
   "source": [
    "%%sql\n",
    "SELECT\n",
    "    fullname,\n",
    "    random_emoji() as 👋\n",
    "FROM nps_public_data.parks\n",
    "LIMIT 10;\n",
    "    "
   ]
  },
  {
   "cell_type": "markdown",
   "metadata": {},
   "source": [
    "Now, that might not be the most _useful_ function, so let's give another example. Can you think of how to swap the casing of every letter in SQL? Me neither. Luckily, it's a pretty standard function in most libraries. Here, we use the pyarrow implementation to define a `swap_case` UDF"
   ]
  },
  {
   "cell_type": "code",
   "execution_count": null,
   "metadata": {},
   "outputs": [],
   "source": [
    "import pyarrow.compute as pc\n",
    "\n",
    "\n",
    "def swap_case(x):\n",
    "    # Swap the case of the 'column' using utf8_swapcase and return the result\n",
    "    return pc.utf8_swapcase(x)\n",
    "\n",
    "\n",
    "# To register the function, we must define it's type to be 'arrow'\n",
    "conn.create_function(\"swap_case\", swap_case, [\"VARCHAR\"], \"VARCHAR\", type=\"arrow\")"
   ]
  },
  {
   "cell_type": "markdown",
   "metadata": {},
   "source": [
    "This let's up perform what might be an otherwise complex operation in SQL with relative simplicity _directly_ in the SQL context."
   ]
  },
  {
   "cell_type": "code",
   "execution_count": null,
   "metadata": {
    "vscode": {
     "languageId": "sql"
    }
   },
   "outputs": [],
   "source": [
    "%%sql\n",
    "SELECT\n",
    "    swap_case(fullname) as pARK_nAME\n",
    "FROM nps_public_data.parks\n",
    "LIMIT 10"
   ]
  },
  {
   "cell_type": "markdown",
   "metadata": {},
   "source": [
    "DuckDB also supports _lambdas_, which operate on every item in a list. Take for example `list_transform`, which can [act on every element in a list](https://duckdb.org/docs/sql/functions/lambda.html#transform).\n",
    "\n",
    "This is important: there are sometimes when exploding a list (as we did in earlier sections) would be a nightmare. Lambda functions are a great way to keep a table at a certain grain while being able to apply transformations across those lists.\n",
    "\n",
    "In the following example, we apply a list transform to modify the entries of our `states_list`s."
   ]
  },
  {
   "cell_type": "code",
   "execution_count": null,
   "metadata": {
    "vscode": {
     "languageId": "sql"
    }
   },
   "outputs": [],
   "source": [
    "%%sql\n",
    "-- Which parks are fully or partially in Utah?\n",
    "WITH park_states AS (\n",
    "    SELECT \n",
    "        fullname,\n",
    "        states AS states_string, \n",
    "        split(states, ',') ::string[] AS states_list\n",
    "    FROM nps_public_data.parks p\n",
    "    )\n",
    "SELECT \n",
    "    fullname,\n",
    "    states_list,\n",
    "    -- Transform lists of strings to lowercase\n",
    "    list_transform(states_list, x -> lower(x)) as lower_states_list,\n",
    "    -- You can even combine lambdas with UDFs\n",
    "    list_transform(states_list, x -> swap_case(x)) as lower_states_list,\n",
    "FROM park_states\n",
    "WHERE list_contains(states_list, 'UT')\n",
    "LIMIT 5"
   ]
  },
  {
   "cell_type": "markdown",
   "metadata": {},
   "source": [
    "Other functions like `list_reduce` or `list_filter` can be helpful, too. Here's another example:"
   ]
  },
  {
   "cell_type": "code",
   "execution_count": null,
   "metadata": {
    "vscode": {
     "languageId": "sql"
    }
   },
   "outputs": [],
   "source": [
    "%%sql\n",
    "-- Which parks are fully or partially in Utah?\n",
    "WITH park_states AS (\n",
    "    SELECT \n",
    "        fullname,\n",
    "        states AS states_string, \n",
    "        split(states, ',') ::string[] AS states_list\n",
    "    FROM nps_public_data.parks p\n",
    "    )\n",
    "SELECT \n",
    "    fullname,\n",
    "    states_string,\n",
    "    states_list,\n",
    "    -- Transform list back to a string 🙃\n",
    "    list_reduce(states_list, (x, y) -> concat(x, ', ', y)) as new_states_string,\n",
    "    -- Filter out utah from list\n",
    "    list_filter(states_list, x -> x != 'UT') as states_list_no_ut,\n",
    "FROM park_states\n",
    "WHERE list_contains(states_list, 'UT')\n",
    "AND len(states_list) > 1\n",
    "LIMIT 5"
   ]
  },
  {
   "cell_type": "markdown",
   "metadata": {},
   "source": [
    "Note how we were able to use `list_reduce` to transform our list _back_ to a string and `list_filter` to _remove_ an element from our list.\n",
    "\n",
    "So our _patterns_ for this section are:\n",
    "\n",
    "- **User Defined Functions (UDFs):** can be valuable when you need the flexibility of Python or JavaScript, but would prefer your function execute in SQL, whether for practical or organizational purposes. UDFs can be incredibly valuable, but you should keep a close eye on performance. They're often overlooked by query optimizers and can quickly lead to bottlenecks in performance. \n",
    "- **Lambdas:** can be used to operate on every element in a list. This can be valuable for keeping `STRUCT` columns intact without needing to explode and re-create them... A very computationally intensive operation. These functions may go by different names in different databases, or might not be possible. "
   ]
  }
 ],
 "metadata": {
  "kernelspec": {
   "display_name": "lil-cdt",
   "language": "python",
   "name": "python3"
  },
  "language_info": {
   "codemirror_mode": {
    "name": "ipython",
    "version": 3
   },
   "file_extension": ".py",
   "mimetype": "text/x-python",
   "name": "python",
   "nbconvert_exporter": "python",
   "pygments_lexer": "ipython3",
   "version": "3.12.0"
  }
 },
 "nbformat": 4,
 "nbformat_minor": 2
}
