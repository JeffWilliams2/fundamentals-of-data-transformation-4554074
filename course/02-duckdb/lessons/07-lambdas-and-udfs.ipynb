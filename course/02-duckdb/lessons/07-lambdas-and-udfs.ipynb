{
 "cells": [
  {
   "cell_type": "code",
   "execution_count": null,
   "metadata": {},
   "outputs": [],
   "source": [
    "import duckdb\n",
    "\n",
    "# Load SQL extension\n",
    "%load_ext sql\n",
    "\n",
    "# Initialize 🦆 DuckDB connection\n",
    "conn = duckdb.connect()\n",
    "\n",
    "# Import database\n",
    "%sql conn --alias duckdb\n",
    "%sql IMPORT DATABASE '../../data/nps';"
   ]
  },
  {
   "cell_type": "markdown",
   "metadata": {},
   "source": [
    "DuckDB supports Python UDFs— so if you'd like to use a function in SQL on a dataset, you can!"
   ]
  },
  {
   "cell_type": "code",
   "execution_count": null,
   "metadata": {},
   "outputs": [],
   "source": [
    "import duckdb\n",
    "from duckdb.typing import *\n",
    "from faker import Faker\n",
    "\n",
    "\n",
    "def random_emoji():\n",
    "    fake = Faker()\n",
    "    fake.add_provider(\"emoji\")\n",
    "    return fake.emoji()\n",
    "\n",
    "\n",
    "conn.create_function(\"random_emoji\", random_emoji, [], \"VARCHAR\", side_effects=True)"
   ]
  },
  {
   "cell_type": "code",
   "execution_count": null,
   "metadata": {},
   "outputs": [],
   "source": [
    "%%sql\n",
    "SELECT\n",
    "    fullname,\n",
    "    random_emoji() as 👋\n",
    "FROM nps_public_data.parks\n",
    "LIMIT 10;\n",
    "    "
   ]
  },
  {
   "cell_type": "code",
   "execution_count": null,
   "metadata": {},
   "outputs": [],
   "source": [
    "import pyarrow.compute as pc\n",
    "\n",
    "\n",
    "def swap_case(x):\n",
    "    # Swap the case of the 'column' using utf8_swapcase and return the result\n",
    "    return pc.utf8_swapcase(x)\n",
    "\n",
    "\n",
    "# To register the function, we must define it's type to be 'arrow'\n",
    "conn.create_function(\"swap_case\", swap_case, [\"VARCHAR\"], \"VARCHAR\", type=\"arrow\")"
   ]
  },
  {
   "cell_type": "code",
   "execution_count": null,
   "metadata": {
    "vscode": {
     "languageId": "sql"
    }
   },
   "outputs": [],
   "source": [
    "%%sql\n",
    "SELECT\n",
    "    swap_case(fullname) as pARK_nAME\n",
    "FROM nps_public_data.parks\n",
    "LIMIT 10"
   ]
  },
  {
   "cell_type": "markdown",
   "metadata": {},
   "source": [
    "DuckDB also supports _lambdas_, which operate on every item in a list. Take for example `list_transform`, which can [act on every element in a list](https://duckdb.org/docs/sql/functions/lambda.html#transform)."
   ]
  },
  {
   "cell_type": "code",
   "execution_count": null,
   "metadata": {
    "vscode": {
     "languageId": "sql"
    }
   },
   "outputs": [],
   "source": [
    "%%sql\n",
    "-- Which parks are fully or partially in Utah?\n",
    "WITH park_states AS (\n",
    "    SELECT \n",
    "        fullname,\n",
    "        states AS states_string, \n",
    "        split(states, ',') ::string[] AS states_list\n",
    "    FROM nps_public_data.parks p\n",
    "    )\n",
    "SELECT \n",
    "    fullname,\n",
    "    states_list,\n",
    "    -- Transform lists of strings to lowercase\n",
    "    list_transform(states_list, x -> lower(x)) as lower_states_list,\n",
    "    -- You can even combine lambdas with UDFs\n",
    "    list_transform(states_list, x -> swap_case(x)) as lower_states_list,\n",
    "FROM park_states\n",
    "WHERE list_contains(states_list, 'UT')\n",
    "LIMIT 5"
   ]
  },
  {
   "cell_type": "markdown",
   "metadata": {},
   "source": [
    "Other functions like `list_reduce` or `list_filter` can be helpful, too."
   ]
  },
  {
   "cell_type": "code",
   "execution_count": null,
   "metadata": {
    "vscode": {
     "languageId": "sql"
    }
   },
   "outputs": [],
   "source": [
    "%%sql\n",
    "-- Which parks are fully or partially in Utah?\n",
    "WITH park_states AS (\n",
    "    SELECT \n",
    "        fullname,\n",
    "        states AS states_string, \n",
    "        split(states, ',') ::string[] AS states_list\n",
    "    FROM nps_public_data.parks p\n",
    "    )\n",
    "SELECT \n",
    "    fullname,\n",
    "    states_string,\n",
    "    states_list,\n",
    "    -- Transform list back to a string 🙃\n",
    "    list_reduce(states_list, (x, y) -> concat(x, ', ', y)) as new_states_string,\n",
    "    -- Filter out utah from list\n",
    "    list_filter(states_list, x -> x != 'UT') as states_list_no_ut,\n",
    "FROM park_states\n",
    "WHERE list_contains(states_list, 'UT')\n",
    "AND len(states_list) > 1\n",
    "LIMIT 5"
   ]
  },
  {
   "cell_type": "code",
   "execution_count": null,
   "metadata": {
    "vscode": {
     "languageId": "sql"
    }
   },
   "outputs": [],
   "source": []
  }
 ],
 "metadata": {
  "kernelspec": {
   "display_name": "lil-cdt",
   "language": "python",
   "name": "python3"
  },
  "language_info": {
   "codemirror_mode": {
    "name": "ipython",
    "version": 3
   },
   "file_extension": ".py",
   "mimetype": "text/x-python",
   "name": "python",
   "nbconvert_exporter": "python",
   "pygments_lexer": "ipython3",
   "version": "3.10.0"
  }
 },
 "nbformat": 4,
 "nbformat_minor": 2
}
