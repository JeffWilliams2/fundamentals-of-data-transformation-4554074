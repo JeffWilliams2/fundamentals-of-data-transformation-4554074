{
 "cells": [
  {
   "cell_type": "code",
   "execution_count": null,
   "metadata": {},
   "outputs": [],
   "source": [
    "import duckdb\n",
    "\n",
    "# Load SQL extension\n",
    "%load_ext sql\n",
    "\n",
    "# Initialize 🦆 DuckDB connection\n",
    "conn = duckdb.connect()\n",
    "\n",
    "# Import database\n",
    "%sql conn --alias duckdb\n",
    "%sql IMPORT DATABASE '../../data/nps';"
   ]
  },
  {
   "cell_type": "markdown",
   "metadata": {},
   "source": [
    "Sometimes, _joins themselves_ can be incredibly useful for data transformation. Don't underestimate the power of _self-joins_ or `CROSS JOINS` using SQL.\n",
    "\n",
    "A self-join is when we join data _to itself_ to answer a question. A `CROSS JOIN` joins _every_ record on the left to _every_ record on the right. They can be useful in certain cases, but be careful, as they can easily blow up a query. As an example, a cross-join of two 1000 record tables will produce 1,000 * 1,000 = 1,000,000 rows."
   ]
  },
  {
   "cell_type": "code",
   "execution_count": null,
   "metadata": {
    "vscode": {
     "languageId": "sql"
    }
   },
   "outputs": [],
   "source": [
    "%%sql\n",
    "-- If I have two nights to camp at Joshua Tree,\n",
    "-- how many different ways could I camp?\n",
    "WITH joshua_tree_campgrounds AS (\n",
    "    SELECT\n",
    "        *\n",
    "    FROM nps_public_data.campgrounds c\n",
    "    INNER JOIN nps_public_data.parks p\n",
    "        USING(parkcode)\n",
    "    WHERE fullname = 'Joshua Tree National Park'\n",
    ")\n",
    "SELECT\n",
    "    --     COUNT(*),\n",
    "    --     COUNT(DISTINCT jtc.name)\n",
    "    jtc.name,\n",
    "    jtc2.name,\n",
    "    ROW_NUMBER() OVER () as rn\n",
    "FROM joshua_tree_campgrounds jtc\n",
    "CROSS JOIN joshua_tree_campgrounds jtc2\n",
    "WHERE jtc.name != jtc2.name\n",
    "ORDER BY rn DESC"
   ]
  },
  {
   "cell_type": "code",
   "execution_count": null,
   "metadata": {},
   "outputs": [],
   "source": [
    "%%sql\n",
    "-- What about 3?\n",
    "WITH joshua_tree_campgrounds AS (\n",
    "    SELECT\n",
    "        *\n",
    "    FROM nps_public_data.campgrounds c\n",
    "    INNER JOIN nps_public_data.parks p\n",
    "        USING(parkcode)\n",
    "    WHERE fullname = 'Joshua Tree National Park'\n",
    ")\n",
    "SELECT\n",
    "    --     COUNT(*),\n",
    "    --     COUNT(DISTINCT jtc.name)\n",
    "    jtc.name,\n",
    "    jtc2.name,\n",
    "    jtc3.name,\n",
    "    ROW_NUMBER() OVER () as rn\n",
    "FROM joshua_tree_campgrounds jtc\n",
    "CROSS JOIN joshua_tree_campgrounds jtc2\n",
    "CROSS JOIN joshua_tree_campgrounds jtc3\n",
    "WHERE 1 = 1\n",
    "    AND jtc.name != jtc2.name\n",
    "    AND jtc.name != jtc3.name\n",
    "    AND jtc2.name != jtc3.name\n",
    "ORDER BY rn desc"
   ]
  },
  {
   "cell_type": "markdown",
   "metadata": {},
   "source": [
    "And we can check both: [2 nights](https://www.calculatorsoup.com/calculators/discretemathematics/permutations.php?n=9&r=2&action=solve), [3 nights](https://www.calculatorsoup.com/calculators/discretemathematics/permutations.php?n=9&r=3&action=solve)"
   ]
  },
  {
   "cell_type": "markdown",
   "metadata": {},
   "source": []
  }
 ],
 "metadata": {
  "kernelspec": {
   "display_name": "lil-cdt",
   "language": "python",
   "name": "python3"
  },
  "language_info": {
   "codemirror_mode": {
    "name": "ipython",
    "version": 3
   },
   "file_extension": ".py",
   "mimetype": "text/x-python",
   "name": "python",
   "nbconvert_exporter": "python",
   "pygments_lexer": "ipython3",
   "version": "3.10.0"
  }
 },
 "nbformat": 4,
 "nbformat_minor": 2
}
