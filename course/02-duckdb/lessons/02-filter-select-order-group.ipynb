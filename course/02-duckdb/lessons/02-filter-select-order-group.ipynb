{
 "cells": [
  {
   "cell_type": "markdown",
   "metadata": {},
   "source": [
    "## Topics\n",
    "1. `WHERE` clause\n",
    "2. [Comparisons](https://duckdb.org/docs/sql/expressions/comparison_operators)\n",
    "   1. Logical\n",
    "   2. `IS NULL`\n",
    "   3. `BETWEEN`\n",
    "3. Filtering with `JOINS`\n",
    "4. `LIKE` & `ILIKE` [comparisons](https://duckdb.org/docs/sql/functions/patternmatching)\n",
    "   1. Mention GLOB, REGEX\n",
    "5. `IN` https://duckdb.org/docs/sql/expressions/in.html\n",
    "6. `ORDER BY`\n",
    "7. `GROUP BY`"
   ]
  },
  {
   "cell_type": "code",
   "execution_count": 48,
   "metadata": {},
   "outputs": [
    {
     "name": "stdout",
     "output_type": "stream",
     "text": [
      "The sql extension is already loaded. To reload it, use:\n",
      "  %reload_ext sql\n"
     ]
    }
   ],
   "source": [
    "import duckdb\n",
    "\n",
    "%load_ext sql\n",
    "%config SqlMagic.displaylimit = 100"
   ]
  },
  {
   "cell_type": "code",
   "execution_count": 2,
   "metadata": {},
   "outputs": [],
   "source": [
    "conn = duckdb.connect()\n",
    "%sql conn --alias duckdb"
   ]
  },
  {
   "cell_type": "code",
   "execution_count": 3,
   "metadata": {
    "vscode": {
     "languageId": "sql"
    }
   },
   "outputs": [
    {
     "data": {
      "text/html": [
       "<span style=\"None\">Running query in &#x27;duckdb&#x27;</span>"
      ],
      "text/plain": [
       "Running query in 'duckdb'"
      ]
     },
     "metadata": {},
     "output_type": "display_data"
    },
    {
     "data": {
      "text/html": [
       "<table>\n",
       "    <thead>\n",
       "        <tr>\n",
       "            <th>Count</th>\n",
       "        </tr>\n",
       "    </thead>\n",
       "    <tbody>\n",
       "        <tr>\n",
       "            <td>448</td>\n",
       "        </tr>\n",
       "    </tbody>\n",
       "</table>"
      ],
      "text/plain": [
       "+-------+\n",
       "| Count |\n",
       "+-------+\n",
       "|  448  |\n",
       "+-------+"
      ]
     },
     "execution_count": 3,
     "metadata": {},
     "output_type": "execute_result"
    }
   ],
   "source": [
    "%%sql\n",
    "IMPORT DATABASE '../../data/nps';"
   ]
  },
  {
   "cell_type": "markdown",
   "metadata": {},
   "source": [
    "Creating fields you commonly filter on can drastically improve readability. String/column manipulation is great for that."
   ]
  },
  {
   "cell_type": "code",
   "execution_count": 4,
   "metadata": {
    "vscode": {
     "languageId": "sql"
    }
   },
   "outputs": [
    {
     "data": {
      "text/html": [
       "<span style=\"None\">Running query in &#x27;duckdb&#x27;</span>"
      ],
      "text/plain": [
       "Running query in 'duckdb'"
      ]
     },
     "metadata": {},
     "output_type": "display_data"
    },
    {
     "data": {
      "text/html": [
       "<table>\n",
       "    <thead>\n",
       "        <tr>\n",
       "            <th>name</th>\n",
       "            <th>category</th>\n",
       "            <th>thursday</th>\n",
       "            <th>closed_open</th>\n",
       "            <th>is_closed</th>\n",
       "        </tr>\n",
       "    </thead>\n",
       "    <tbody>\n",
       "        <tr>\n",
       "            <td>Eleanor Roosevelt</td>\n",
       "            <td>Val-Kill Cottage Tours</td>\n",
       "            <td>Closed</td>\n",
       "            <td>Closed</td>\n",
       "            <td>True</td>\n",
       "        </tr>\n",
       "        <tr>\n",
       "            <td>Morristown</td>\n",
       "            <td>Winter Hours</td>\n",
       "            <td>Closed</td>\n",
       "            <td>Closed</td>\n",
       "            <td>True</td>\n",
       "        </tr>\n",
       "        <tr>\n",
       "            <td>Freedom Riders</td>\n",
       "            <td>Anniston Greyhound Bus Depot</td>\n",
       "            <td>Closed</td>\n",
       "            <td>Closed</td>\n",
       "            <td>True</td>\n",
       "        </tr>\n",
       "        <tr>\n",
       "            <td>Black Canyon Of The Gunnison</td>\n",
       "            <td>East Portal</td>\n",
       "            <td>Closed</td>\n",
       "            <td>Closed</td>\n",
       "            <td>True</td>\n",
       "        </tr>\n",
       "        <tr>\n",
       "            <td>Golden Gate</td>\n",
       "            <td>Fort Point National Historic Site</td>\n",
       "            <td>Closed</td>\n",
       "            <td>Closed</td>\n",
       "            <td>True</td>\n",
       "        </tr>\n",
       "    </tbody>\n",
       "</table>\n",
       "<span style=\"font-style:italic;text-align:center;\">Truncated to <a href=\"https://jupysql.ploomber.io/en/latest/api/configuration.html#displaylimit\">displaylimit</a> of 5.</span>"
      ],
      "text/plain": [
       "+------------------------------+-----------------------------------+----------+-------------+-----------+\n",
       "|             name             |              category             | thursday | closed_open | is_closed |\n",
       "+------------------------------+-----------------------------------+----------+-------------+-----------+\n",
       "|      Eleanor Roosevelt       |       Val-Kill Cottage Tours      |  Closed  |    Closed   |    True   |\n",
       "|          Morristown          |            Winter Hours           |  Closed  |    Closed   |    True   |\n",
       "|        Freedom Riders        |    Anniston Greyhound Bus Depot   |  Closed  |    Closed   |    True   |\n",
       "| Black Canyon Of The Gunnison |            East Portal            |  Closed  |    Closed   |    True   |\n",
       "|         Golden Gate          | Fort Point National Historic Site |  Closed  |    Closed   |    True   |\n",
       "+------------------------------+-----------------------------------+----------+-------------+-----------+\n",
       "Truncated to displaylimit of 5."
      ]
     },
     "execution_count": 4,
     "metadata": {},
     "output_type": "execute_result"
    }
   ],
   "source": [
    "%%sql \n",
    "WITH thursday AS (\n",
    "    SELECT\n",
    "        p.name,\n",
    "        closed_thurs.category,\n",
    "        closed_thurs.thursday,\n",
    "        COALESCE(closed_thurs.thursday, 'Open') as closed_open,\n",
    "        NOT closed_thurs.thursday IS NULL as is_closed\n",
    "    FROM nps_public_data.parks p\n",
    "    LEFT JOIN nps_public_data.park_hours closed_thurs\n",
    "        ON closed_thurs.park_id = p.id\n",
    "        AND closed_thurs.thursday = 'Closed'\n",
    "    WHERE 1 = 1\n",
    ")\n",
    "SELECT\n",
    "    *\n",
    "FROM thursday\n",
    "WHERE is_closed\n",
    "LIMIT 5"
   ]
  },
  {
   "cell_type": "markdown",
   "metadata": {},
   "source": [
    "We commonly use the `WHERE` clause to filter aggregate queries, but we can also do so in `JOIN`s. \n",
    "\n",
    "However, we need to be very careful with how joins work."
   ]
  },
  {
   "cell_type": "code",
   "execution_count": 7,
   "metadata": {
    "vscode": {
     "languageId": "sql"
    }
   },
   "outputs": [
    {
     "data": {
      "text/html": [
       "<span style=\"None\">Running query in &#x27;duckdb&#x27;</span>"
      ],
      "text/plain": [
       "Running query in 'duckdb'"
      ]
     },
     "metadata": {},
     "output_type": "display_data"
    },
    {
     "data": {
      "text/html": [
       "<table>\n",
       "    <thead>\n",
       "        <tr>\n",
       "            <th>name</th>\n",
       "            <th>visitor_center_name</th>\n",
       "        </tr>\n",
       "    </thead>\n",
       "    <tbody>\n",
       "        <tr>\n",
       "            <td>Statue Of Liberty</td>\n",
       "            <td>Liberty Island Information Center</td>\n",
       "        </tr>\n",
       "    </tbody>\n",
       "</table>"
      ],
      "text/plain": [
       "+-------------------+-----------------------------------+\n",
       "|        name       |        visitor_center_name        |\n",
       "+-------------------+-----------------------------------+\n",
       "| Statue Of Liberty | Liberty Island Information Center |\n",
       "+-------------------+-----------------------------------+"
      ]
     },
     "execution_count": 7,
     "metadata": {},
     "output_type": "execute_result"
    }
   ],
   "source": [
    "%%sql\n",
    "SELECT\n",
    "    p.name,\n",
    "    vc.name as visitor_center_name\n",
    "FROM nps_public_data.parks p\n",
    "LEFT JOIN nps_public_data.visitorcenters vc\n",
    "    ON p.parkcode = vc.parkcode\n",
    "WHERE 1 = 1\n",
    "-- Filter base query (parks) for national monument\n",
    "    AND p.designation = 'National Monument'\n",
    "-- Filter JOIN (!) for passport stamp locations.\n",
    "-- what will happen to parks without visitor centers?\n",
    "    AND vc.ispassportstamplocation\n",
    "LIMIT 1"
   ]
  },
  {
   "cell_type": "markdown",
   "metadata": {},
   "source": [
    "How many rows are returned with/without the `LEFT JOIN`? What does that say about the number of parks we're querying? Why do you think that is?"
   ]
  },
  {
   "cell_type": "code",
   "execution_count": 9,
   "metadata": {
    "vscode": {
     "languageId": "sql"
    }
   },
   "outputs": [
    {
     "data": {
      "text/html": [
       "<span style=\"None\">Running query in &#x27;duckdb&#x27;</span>"
      ],
      "text/plain": [
       "Running query in 'duckdb'"
      ]
     },
     "metadata": {},
     "output_type": "display_data"
    },
    {
     "data": {
      "text/html": [
       "<table>\n",
       "    <thead>\n",
       "        <tr>\n",
       "            <th>ct</th>\n",
       "        </tr>\n",
       "    </thead>\n",
       "    <tbody>\n",
       "        <tr>\n",
       "            <td>2820</td>\n",
       "        </tr>\n",
       "        <tr>\n",
       "            <td>2820</td>\n",
       "        </tr>\n",
       "    </tbody>\n",
       "</table>"
      ],
      "text/plain": [
       "+------+\n",
       "|  ct  |\n",
       "+------+\n",
       "| 2820 |\n",
       "| 2820 |\n",
       "+------+"
      ]
     },
     "execution_count": 9,
     "metadata": {},
     "output_type": "execute_result"
    }
   ],
   "source": [
    "%%sql\n",
    "WITH filter_in_join AS (\n",
    "    SELECT\n",
    "        p.name,\n",
    "        vc.name as visitor_center_name\n",
    "    FROM nps_public_data.parks p\n",
    "    INNER JOIN nps_public_data.visitorcenters vc\n",
    "        ON p.parkcode = vc.parkcode\n",
    "), filter_in_where AS (\n",
    "    SELECT\n",
    "        p.name,\n",
    "        vc.name as visitor_center_name\n",
    "    FROM nps_public_data.parks p\n",
    "    LEFT JOIN nps_public_data.visitorcenters vc\n",
    "        ON p.parkcode = vc.parkcode\n",
    "    WHERE vc.parkcode IS NOT NULL\n",
    ")\n",
    "SELECT\n",
    "    COUNT(*) as ct\n",
    "FROM filter_in_join\n",
    "\n",
    "UNION ALL\n",
    "\n",
    "SELECT\n",
    "    COUNT(*) as ct\n",
    "FROM filter_in_where\n"
   ]
  },
  {
   "cell_type": "markdown",
   "metadata": {},
   "source": [
    "Some common ways of filtering data\n",
    "\n",
    "1. Comparisons (`>`, `<`, `=`)\n",
    "2. `BETWEEN`\n",
    "3. `IN`\n",
    "4. `IS NULL`\n",
    "5. `LIKE` & `ILIKE` // `REGEXP`\n",
    "\n",
    "Comparisons and `BETWEEN` are good for integers, but also timestamps and dates (as we'll see). `IN` can be helpful for lists of data, while `IS NULL` can help us when `NULL` values are a possibility.\n",
    "\n",
    "`ILIKE`, `LIKE`, and `REGEXP` are all useful when pattern matching is at play."
   ]
  },
  {
   "cell_type": "markdown",
   "metadata": {},
   "source": [
    "We can filter numbers and dates with comparisons or between statements"
   ]
  },
  {
   "cell_type": "code",
   "execution_count": 36,
   "metadata": {
    "vscode": {
     "languageId": "sql"
    }
   },
   "outputs": [
    {
     "data": {
      "text/html": [
       "<span style=\"None\">Running query in &#x27;duckdb&#x27;</span>"
      ],
      "text/plain": [
       "Running query in 'duckdb'"
      ]
     },
     "metadata": {},
     "output_type": "display_data"
    },
    {
     "data": {
      "text/html": [
       "<table>\n",
       "    <thead>\n",
       "        <tr>\n",
       "            <th>title</th>\n",
       "            <th>parkfullname</th>\n",
       "            <th>category</th>\n",
       "            <th>isfree</th>\n",
       "            <th>description</th>\n",
       "        </tr>\n",
       "    </thead>\n",
       "    <tbody>\n",
       "        <tr>\n",
       "            <td>Acadian Cultural Center - Louisiana Talks & Tales</td>\n",
       "            <td>Jean Lafitte National Historical Park and Preserve</td>\n",
       "            <td>Regular Event</td>\n",
       "            <td>True</td>\n",
       "            <td><p>Join a ranger to learn about the history, culture, or environment of south Louisiana.</p></td>\n",
       "        </tr>\n",
       "        <tr>\n",
       "            <td>Acadian Cultural Center - Louisiana Talks & Tales</td>\n",
       "            <td>Jean Lafitte National Historical Park and Preserve</td>\n",
       "            <td>Regular Event</td>\n",
       "            <td>True</td>\n",
       "            <td><p>Join a ranger to learn about the history, culture, or environment of south Louisiana.</p></td>\n",
       "        </tr>\n",
       "    </tbody>\n",
       "</table>"
      ],
      "text/plain": [
       "+---------------------------------------------------+----------------------------------------------------+---------------+--------+----------------------------------------------------------------------------------------------+\n",
       "|                       title                       |                    parkfullname                    |    category   | isfree |                                         description                                          |\n",
       "+---------------------------------------------------+----------------------------------------------------+---------------+--------+----------------------------------------------------------------------------------------------+\n",
       "| Acadian Cultural Center - Louisiana Talks & Tales | Jean Lafitte National Historical Park and Preserve | Regular Event |  True  | <p>Join a ranger to learn about the history, culture, or environment of south Louisiana.</p> |\n",
       "| Acadian Cultural Center - Louisiana Talks & Tales | Jean Lafitte National Historical Park and Preserve | Regular Event |  True  | <p>Join a ranger to learn about the history, culture, or environment of south Louisiana.</p> |\n",
       "+---------------------------------------------------+----------------------------------------------------+---------------+--------+----------------------------------------------------------------------------------------------+"
      ]
     },
     "execution_count": 36,
     "metadata": {},
     "output_type": "execute_result"
    }
   ],
   "source": [
    "%%sql\n",
    "SELECT\n",
    "    title,\n",
    "    parkfullname,\n",
    "    category,\n",
    "    isfree,\n",
    "    description\n",
    "FROM nps_public_data.events e\n",
    "WHERE 1 = 1\n",
    "    AND recurrencedatestart > '2024-01-01'\n",
    "    AND recurrencedatestart < '2024-01-23'\n",
    "ORDER BY RANDOM()\n",
    "LIMIT 2\n"
   ]
  },
  {
   "cell_type": "code",
   "execution_count": 35,
   "metadata": {
    "vscode": {
     "languageId": "sql"
    }
   },
   "outputs": [
    {
     "data": {
      "text/html": [
       "<span style=\"None\">Running query in &#x27;duckdb&#x27;</span>"
      ],
      "text/plain": [
       "Running query in 'duckdb'"
      ]
     },
     "metadata": {},
     "output_type": "display_data"
    },
    {
     "data": {
      "text/html": [
       "<table>\n",
       "    <thead>\n",
       "        <tr>\n",
       "            <th>title</th>\n",
       "            <th>parkfullname</th>\n",
       "            <th>category</th>\n",
       "            <th>isfree</th>\n",
       "            <th>description</th>\n",
       "        </tr>\n",
       "    </thead>\n",
       "    <tbody>\n",
       "        <tr>\n",
       "            <td>Acadian Cultural Center - Youth Art Showcase</td>\n",
       "            <td>Jean Lafitte National Historical Park and Preserve</td>\n",
       "            <td>Regular Event</td>\n",
       "            <td>True</td>\n",
       "            <td><p>Join us for this special exhibition of artwork from local students who placed in this year's <a href=\"https://www.nps.gov/jela/learn/kidsyouth/youth-art-showcase.htm\">Youth Art Showcase</a>. The 2023 theme was \"Waterways of the Atchafalaya Area.\"</p></td>\n",
       "        </tr>\n",
       "        <tr>\n",
       "            <td>Acadian Cultural Center - Louisiana Talks & Tales</td>\n",
       "            <td>Jean Lafitte National Historical Park and Preserve</td>\n",
       "            <td>Regular Event</td>\n",
       "            <td>True</td>\n",
       "            <td><p>Join a ranger to learn about the history, culture, or environment of south Louisiana.</p></td>\n",
       "        </tr>\n",
       "    </tbody>\n",
       "</table>"
      ],
      "text/plain": [
       "+---------------------------------------------------+----------------------------------------------------+---------------+--------+---------------------------------------------------------------------------------------------------------------------------------------------------------------------------------------------------------------------------------------------------------------+\n",
       "|                       title                       |                    parkfullname                    |    category   | isfree |                                                                                                                          description                                                                                                                          |\n",
       "+---------------------------------------------------+----------------------------------------------------+---------------+--------+---------------------------------------------------------------------------------------------------------------------------------------------------------------------------------------------------------------------------------------------------------------+\n",
       "|    Acadian Cultural Center - Youth Art Showcase   | Jean Lafitte National Historical Park and Preserve | Regular Event |  True  | <p>Join us for this special exhibition of artwork from local students who placed in this year's <a href=\"https://www.nps.gov/jela/learn/kidsyouth/youth-art-showcase.htm\">Youth Art Showcase</a>. The 2023 theme was \"Waterways of the Atchafalaya Area.\"</p> |\n",
       "| Acadian Cultural Center - Louisiana Talks & Tales | Jean Lafitte National Historical Park and Preserve | Regular Event |  True  |                                                                                  <p>Join a ranger to learn about the history, culture, or environment of south Louisiana.</p>                                                                                 |\n",
       "+---------------------------------------------------+----------------------------------------------------+---------------+--------+---------------------------------------------------------------------------------------------------------------------------------------------------------------------------------------------------------------------------------------------------------------+"
      ]
     },
     "execution_count": 35,
     "metadata": {},
     "output_type": "execute_result"
    }
   ],
   "source": [
    "%%sql\n",
    "SELECT\n",
    "    title,\n",
    "    parkfullname,\n",
    "    category,\n",
    "    isfree,\n",
    "    description\n",
    "FROM nps_public_data.events e\n",
    "WHERE 1 = 1\n",
    "    AND recurrencedatestart BETWEEN '2024-01-01' AND '2024-01-23'\n",
    "ORDER BY RANDOM()\n",
    "LIMIT 2"
   ]
  },
  {
   "cell_type": "markdown",
   "metadata": {},
   "source": [
    "But we have to note, `BETWEEN` is _inclusive_~"
   ]
  },
  {
   "cell_type": "code",
   "execution_count": 34,
   "metadata": {
    "vscode": {
     "languageId": "sql"
    }
   },
   "outputs": [
    {
     "data": {
      "text/html": [
       "<span style=\"None\">Running query in &#x27;duckdb&#x27;</span>"
      ],
      "text/plain": [
       "Running query in 'duckdb'"
      ]
     },
     "metadata": {},
     "output_type": "display_data"
    },
    {
     "data": {
      "text/html": [
       "<table>\n",
       "    <thead>\n",
       "        <tr>\n",
       "            <th>f</th>\n",
       "            <th>ct</th>\n",
       "        </tr>\n",
       "    </thead>\n",
       "    <tbody>\n",
       "        <tr>\n",
       "            <td>between</td>\n",
       "            <td>6</td>\n",
       "        </tr>\n",
       "        <tr>\n",
       "            <td>greater than</td>\n",
       "            <td>2</td>\n",
       "        </tr>\n",
       "    </tbody>\n",
       "</table>"
      ],
      "text/plain": [
       "+--------------+----+\n",
       "|      f       | ct |\n",
       "+--------------+----+\n",
       "|   between    | 6  |\n",
       "| greater than | 2  |\n",
       "+--------------+----+"
      ]
     },
     "execution_count": 34,
     "metadata": {},
     "output_type": "execute_result"
    }
   ],
   "source": [
    "%%sql\n",
    "SELECT\n",
    "    'between' as f,\n",
    "    COUNT(*) as ct\n",
    "FROM nps_public_data.events e\n",
    "WHERE 1 = 1\n",
    "    AND recurrencedatestart BETWEEN '2024-01-01' AND '2024-01-23'\n",
    "GROUP BY f\n",
    "\n",
    "UNION ALL\n",
    "\n",
    "SELECT\n",
    "    'greater than' as f,\n",
    "    COUNT(*) as ct\n",
    "FROM nps_public_data.events e\n",
    "WHERE 1 = 1\n",
    "    AND recurrencedatestart > '2024-01-01'\n",
    "    AND recurrencedatestart < '2024-01-23'\n",
    "GROUP BY f"
   ]
  },
  {
   "cell_type": "markdown",
   "metadata": {},
   "source": [
    "Another handy way to filter datasets is through string matching— if you're familiar with Python, you probably know regex, but SQL has a few other, simpler ways. First, `LIKE`:"
   ]
  },
  {
   "cell_type": "code",
   "execution_count": 42,
   "metadata": {
    "vscode": {
     "languageId": "sql"
    }
   },
   "outputs": [
    {
     "data": {
      "text/html": [
       "<span style=\"None\">Running query in &#x27;duckdb&#x27;</span>"
      ],
      "text/plain": [
       "Running query in 'duckdb'"
      ]
     },
     "metadata": {},
     "output_type": "display_data"
    },
    {
     "data": {
      "text/html": [
       "<table>\n",
       "    <thead>\n",
       "        <tr>\n",
       "            <th>title</th>\n",
       "            <th>parkfullname</th>\n",
       "            <th>category</th>\n",
       "            <th>isfree</th>\n",
       "            <th>description</th>\n",
       "        </tr>\n",
       "    </thead>\n",
       "    <tbody>\n",
       "        <tr>\n",
       "            <td>Afternoon Stroll</td>\n",
       "            <td>Joshua Tree National Park</td>\n",
       "            <td>Regular Event</td>\n",
       "            <td>True</td>\n",
       "            <td><p>Join a ranger for a 0.4 mile (0.6 km) guided walk! Learn about various topics like plants, animals, geology, cultural history, and more. Topics vary by ranger. Bring water, closed–toe shoes, and layers for this 45–minute walk.</p><br><p><strong>Difficulty:</strong> easy, unpaved trail<br /><br /></p></td>\n",
       "        </tr>\n",
       "        <tr>\n",
       "            <td>Afternoon Stroll</td>\n",
       "            <td>Joshua Tree National Park</td>\n",
       "            <td>Regular Event</td>\n",
       "            <td>True</td>\n",
       "            <td><p>Join a ranger for a 0.4 mile (0.6 km) guided walk! Learn about various topics like plants, animals, geology, cultural history, and more. Topics vary by ranger. Bring water, closed–toe shoes, and layers for this 45–minute walk.</p><br><p><strong>Difficulty:</strong> easy, unpaved trail<br /><br /></p></td>\n",
       "        </tr>\n",
       "    </tbody>\n",
       "</table>"
      ],
      "text/plain": [
       "+------------------+---------------------------+---------------+--------+-------------------------------------------------------------------------------------------------------------------------------------------------------------------------------------------------------------------------------------------+\n",
       "|      title       |        parkfullname       |    category   | isfree |                                                                                                                description                                                                                                                |\n",
       "+------------------+---------------------------+---------------+--------+-------------------------------------------------------------------------------------------------------------------------------------------------------------------------------------------------------------------------------------------+\n",
       "| Afternoon Stroll | Joshua Tree National Park | Regular Event |  True  | <p>Join a ranger for a 0.4 mile (0.6 km) guided walk! Learn about various topics like plants, animals, geology, cultural history, and more. Topics vary by ranger. Bring water, closed–toe shoes, and layers for this 45–minute walk.</p> |\n",
       "|                  |                           |               |        |                                                                                    <p><strong>Difficulty:</strong> easy, unpaved trail<br /><br /></p>                                                                                    |\n",
       "| Afternoon Stroll | Joshua Tree National Park | Regular Event |  True  | <p>Join a ranger for a 0.4 mile (0.6 km) guided walk! Learn about various topics like plants, animals, geology, cultural history, and more. Topics vary by ranger. Bring water, closed–toe shoes, and layers for this 45–minute walk.</p> |\n",
       "|                  |                           |               |        |                                                                                    <p><strong>Difficulty:</strong> easy, unpaved trail<br /><br /></p>                                                                                    |\n",
       "+------------------+---------------------------+---------------+--------+-------------------------------------------------------------------------------------------------------------------------------------------------------------------------------------------------------------------------------------------+"
      ]
     },
     "execution_count": 42,
     "metadata": {},
     "output_type": "execute_result"
    }
   ],
   "source": [
    "%%sql\n",
    "SELECT\n",
    "    title,\n",
    "    parkfullname,\n",
    "    category,\n",
    "    isfree,\n",
    "    description\n",
    "FROM nps_public_data.events e\n",
    "WHERE 1 = 1\n",
    "    AND title LIKE '%Stroll%'\n",
    "LIMIT 5"
   ]
  },
  {
   "cell_type": "markdown",
   "metadata": {},
   "source": [
    "But `LIKE` is case sensitive, so it's easy to miss results."
   ]
  },
  {
   "cell_type": "code",
   "execution_count": 52,
   "metadata": {
    "vscode": {
     "languageId": "sql"
    }
   },
   "outputs": [
    {
     "data": {
      "text/html": [
       "<span style=\"None\">Running query in &#x27;duckdb&#x27;</span>"
      ],
      "text/plain": [
       "Running query in 'duckdb'"
      ]
     },
     "metadata": {},
     "output_type": "display_data"
    },
    {
     "data": {
      "text/html": [
       "<table>\n",
       "    <thead>\n",
       "        <tr>\n",
       "            <th>title</th>\n",
       "            <th>parkfullname</th>\n",
       "            <th>category</th>\n",
       "            <th>isfree</th>\n",
       "            <th>description</th>\n",
       "        </tr>\n",
       "    </thead>\n",
       "    <tbody>\n",
       "    </tbody>\n",
       "</table>"
      ],
      "text/plain": [
       "+-------+--------------+----------+--------+-------------+\n",
       "| title | parkfullname | category | isfree | description |\n",
       "+-------+--------------+----------+--------+-------------+\n",
       "+-------+--------------+----------+--------+-------------+"
      ]
     },
     "execution_count": 52,
     "metadata": {},
     "output_type": "execute_result"
    }
   ],
   "source": [
    "%%sql\n",
    "SELECT\n",
    "    title,\n",
    "    parkfullname,\n",
    "    category,\n",
    "    isfree,\n",
    "    description\n",
    "FROM nps_public_data.events e\n",
    "WHERE 1 = 1\n",
    "    AND title LIKE '%hike%'\n",
    "LIMIT 5"
   ]
  },
  {
   "cell_type": "markdown",
   "metadata": {},
   "source": [
    "Instead, we can use `ILIKE`:"
   ]
  },
  {
   "cell_type": "code",
   "execution_count": 53,
   "metadata": {
    "vscode": {
     "languageId": "sql"
    }
   },
   "outputs": [
    {
     "data": {
      "text/html": [
       "<span style=\"None\">Running query in &#x27;duckdb&#x27;</span>"
      ],
      "text/plain": [
       "Running query in 'duckdb'"
      ]
     },
     "metadata": {},
     "output_type": "display_data"
    },
    {
     "data": {
      "text/html": [
       "<table>\n",
       "    <thead>\n",
       "        <tr>\n",
       "            <th>title</th>\n",
       "            <th>parkfullname</th>\n",
       "            <th>category</th>\n",
       "            <th>isfree</th>\n",
       "            <th>description</th>\n",
       "        </tr>\n",
       "    </thead>\n",
       "    <tbody>\n",
       "        <tr>\n",
       "            <td>A Hike Through The (Cactus) Forest (East District)</td>\n",
       "            <td>Saguaro National Park</td>\n",
       "            <td>Regular Event</td>\n",
       "            <td>True</td>\n",
       "            <td><p>Let your interest reach new heights and join us for a hike through the heart of the cactus forest, getting to know the giant cactus.</p><br><p>Hike will up to 2 miles round trip on a flat trail. Bring sun protection and water. Hiking boots are recommended.</p></td>\n",
       "        </tr>\n",
       "        <tr>\n",
       "            <td>A Hike Through The (Cactus) Forest (East District)</td>\n",
       "            <td>Saguaro National Park</td>\n",
       "            <td>Regular Event</td>\n",
       "            <td>True</td>\n",
       "            <td><p>Let your interest reach new heights and join us for a hike through the heart of the cactus forest, getting to know the giant cactus.</p><br><p>Hike will up to 2 miles round trip on a flat trail. Bring sun protection and water. Hiking boots are recommended.</p></td>\n",
       "        </tr>\n",
       "    </tbody>\n",
       "</table>"
      ],
      "text/plain": [
       "+----------------------------------------------------+-----------------------+---------------+--------+---------------------------------------------------------------------------------------------------------------------------------------------+\n",
       "|                       title                        |      parkfullname     |    category   | isfree |                                                                 description                                                                 |\n",
       "+----------------------------------------------------+-----------------------+---------------+--------+---------------------------------------------------------------------------------------------------------------------------------------------+\n",
       "| A Hike Through The (Cactus) Forest (East District) | Saguaro National Park | Regular Event |  True  | <p>Let your interest reach new heights and join us for a hike through the heart of the cactus forest, getting to know the giant cactus.</p> |\n",
       "|                                                    |                       |               |        |           <p>Hike will up to 2 miles round trip on a flat trail. Bring sun protection and water. Hiking boots are recommended.</p>          |\n",
       "| A Hike Through The (Cactus) Forest (East District) | Saguaro National Park | Regular Event |  True  | <p>Let your interest reach new heights and join us for a hike through the heart of the cactus forest, getting to know the giant cactus.</p> |\n",
       "|                                                    |                       |               |        |           <p>Hike will up to 2 miles round trip on a flat trail. Bring sun protection and water. Hiking boots are recommended.</p>          |\n",
       "+----------------------------------------------------+-----------------------+---------------+--------+---------------------------------------------------------------------------------------------------------------------------------------------+"
      ]
     },
     "execution_count": 53,
     "metadata": {},
     "output_type": "execute_result"
    }
   ],
   "source": [
    "%%sql\n",
    "SELECT\n",
    "    title,\n",
    "    parkfullname,\n",
    "    category,\n",
    "    isfree,\n",
    "    description\n",
    "FROM nps_public_data.events e\n",
    "WHERE 1 = 1\n",
    "    AND title ILIKE '%hike%'\n",
    "LIMIT 5"
   ]
  },
  {
   "cell_type": "markdown",
   "metadata": {},
   "source": [
    "Depending on your flavor of SQL, there might be other ways to pattern match. DuckDB also has `glob` matching & `regex` matching, too.\n",
    "\n",
    "Read more [here](https://duckdb.org/docs/sql/functions/patternmatching.html)."
   ]
  },
  {
   "cell_type": "markdown",
   "metadata": {},
   "source": [
    "Sometimes, we might need to construct a list to perform a more robust filter."
   ]
  },
  {
   "cell_type": "markdown",
   "metadata": {},
   "source": []
  },
  {
   "cell_type": "code",
   "execution_count": null,
   "metadata": {
    "vscode": {
     "languageId": "sql"
    }
   },
   "outputs": [],
   "source": []
  },
  {
   "cell_type": "markdown",
   "metadata": {},
   "source": []
  },
  {
   "cell_type": "code",
   "execution_count": null,
   "metadata": {
    "vscode": {
     "languageId": "sql"
    }
   },
   "outputs": [],
   "source": [
    "%%sql\n",
    "WITH park_states AS (\n",
    "    SELECT \n",
    "        name, \n",
    "        states AS states_string, \n",
    "        split(states, ',') ::string[] AS states_list\n",
    "    FROM nps_public_data.parks p\n",
    "    )\n",
    "SELECT \n",
    "    * \n",
    "FROM park_states\n",
    "WHERE list_contains(states_list, 'UT')"
   ]
  }
 ],
 "metadata": {
  "kernelspec": {
   "display_name": "lil-cdt",
   "language": "python",
   "name": "python3"
  },
  "language_info": {
   "codemirror_mode": {
    "name": "ipython",
    "version": 3
   },
   "file_extension": ".py",
   "mimetype": "text/x-python",
   "name": "python",
   "nbconvert_exporter": "python",
   "pygments_lexer": "ipython3",
   "version": "3.10.0"
  }
 },
 "nbformat": 4,
 "nbformat_minor": 2
}
