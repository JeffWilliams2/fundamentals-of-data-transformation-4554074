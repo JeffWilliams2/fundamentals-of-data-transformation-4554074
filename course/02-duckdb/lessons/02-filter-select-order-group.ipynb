{
 "cells": [
  {
   "cell_type": "markdown",
   "metadata": {},
   "source": [
    "## Topics\n",
    "1. `WHERE` clause\n",
    "2. [Comparisons](https://duckdb.org/docs/sql/expressions/comparison_operators)\n",
    "   1. Logical\n",
    "   2. `IS NULL`\n",
    "   3. `BETWEEN`\n",
    "3. Filtering with `JOINS`\n",
    "4. `LIKE` & `ILIKE` [comparisons](https://duckdb.org/docs/sql/functions/patternmatching)\n",
    "   1. Mention GLOB, REGEX\n",
    "5. `IN` https://duckdb.org/docs/sql/expressions/in.html\n",
    "6. `REGEXP`\n",
    "7. `ORDER BY`\n",
    "8. `GROUP BY`"
   ]
  },
  {
   "cell_type": "code",
   "execution_count": 1,
   "metadata": {},
   "outputs": [],
   "source": [
    "import duckdb\n",
    "\n",
    "%load_ext sql\n",
    "%config SqlMagic.displaylimit = 5"
   ]
  },
  {
   "cell_type": "code",
   "execution_count": 2,
   "metadata": {},
   "outputs": [],
   "source": [
    "conn = duckdb.connect()\n",
    "%sql conn --alias duckdb"
   ]
  },
  {
   "cell_type": "code",
   "execution_count": 3,
   "metadata": {
    "vscode": {
     "languageId": "sql"
    }
   },
   "outputs": [
    {
     "data": {
      "text/html": [
       "<span style=\"None\">Running query in &#x27;duckdb&#x27;</span>"
      ],
      "text/plain": [
       "Running query in 'duckdb'"
      ]
     },
     "metadata": {},
     "output_type": "display_data"
    },
    {
     "data": {
      "text/html": [
       "<table>\n",
       "    <thead>\n",
       "        <tr>\n",
       "            <th>Count</th>\n",
       "        </tr>\n",
       "    </thead>\n",
       "    <tbody>\n",
       "        <tr>\n",
       "            <td>448</td>\n",
       "        </tr>\n",
       "    </tbody>\n",
       "</table>"
      ],
      "text/plain": [
       "+-------+\n",
       "| Count |\n",
       "+-------+\n",
       "|  448  |\n",
       "+-------+"
      ]
     },
     "execution_count": 3,
     "metadata": {},
     "output_type": "execute_result"
    }
   ],
   "source": [
    "%%sql\n",
    "IMPORT DATABASE '../../data/nps';"
   ]
  },
  {
   "cell_type": "markdown",
   "metadata": {},
   "source": [
    "Creating fields you commonly filter on can drastically improve readability. String/column manipulation is great for that."
   ]
  },
  {
   "cell_type": "code",
   "execution_count": 4,
   "metadata": {
    "vscode": {
     "languageId": "sql"
    }
   },
   "outputs": [
    {
     "data": {
      "text/html": [
       "<span style=\"None\">Running query in &#x27;duckdb&#x27;</span>"
      ],
      "text/plain": [
       "Running query in 'duckdb'"
      ]
     },
     "metadata": {},
     "output_type": "display_data"
    },
    {
     "data": {
      "text/html": [
       "<table>\n",
       "    <thead>\n",
       "        <tr>\n",
       "            <th>name</th>\n",
       "            <th>category</th>\n",
       "            <th>thursday</th>\n",
       "            <th>closed_open</th>\n",
       "            <th>is_closed</th>\n",
       "        </tr>\n",
       "    </thead>\n",
       "    <tbody>\n",
       "        <tr>\n",
       "            <td>Eleanor Roosevelt</td>\n",
       "            <td>Val-Kill Cottage Tours</td>\n",
       "            <td>Closed</td>\n",
       "            <td>Closed</td>\n",
       "            <td>True</td>\n",
       "        </tr>\n",
       "        <tr>\n",
       "            <td>Morristown</td>\n",
       "            <td>Winter Hours</td>\n",
       "            <td>Closed</td>\n",
       "            <td>Closed</td>\n",
       "            <td>True</td>\n",
       "        </tr>\n",
       "        <tr>\n",
       "            <td>Freedom Riders</td>\n",
       "            <td>Anniston Greyhound Bus Depot</td>\n",
       "            <td>Closed</td>\n",
       "            <td>Closed</td>\n",
       "            <td>True</td>\n",
       "        </tr>\n",
       "        <tr>\n",
       "            <td>Black Canyon Of The Gunnison</td>\n",
       "            <td>East Portal</td>\n",
       "            <td>Closed</td>\n",
       "            <td>Closed</td>\n",
       "            <td>True</td>\n",
       "        </tr>\n",
       "        <tr>\n",
       "            <td>Golden Gate</td>\n",
       "            <td>Fort Point National Historic Site</td>\n",
       "            <td>Closed</td>\n",
       "            <td>Closed</td>\n",
       "            <td>True</td>\n",
       "        </tr>\n",
       "    </tbody>\n",
       "</table>\n",
       "<span style=\"font-style:italic;text-align:center;\">Truncated to <a href=\"https://jupysql.ploomber.io/en/latest/api/configuration.html#displaylimit\">displaylimit</a> of 5.</span>"
      ],
      "text/plain": [
       "+------------------------------+-----------------------------------+----------+-------------+-----------+\n",
       "|             name             |              category             | thursday | closed_open | is_closed |\n",
       "+------------------------------+-----------------------------------+----------+-------------+-----------+\n",
       "|      Eleanor Roosevelt       |       Val-Kill Cottage Tours      |  Closed  |    Closed   |    True   |\n",
       "|          Morristown          |            Winter Hours           |  Closed  |    Closed   |    True   |\n",
       "|        Freedom Riders        |    Anniston Greyhound Bus Depot   |  Closed  |    Closed   |    True   |\n",
       "| Black Canyon Of The Gunnison |            East Portal            |  Closed  |    Closed   |    True   |\n",
       "|         Golden Gate          | Fort Point National Historic Site |  Closed  |    Closed   |    True   |\n",
       "+------------------------------+-----------------------------------+----------+-------------+-----------+\n",
       "Truncated to displaylimit of 5."
      ]
     },
     "execution_count": 4,
     "metadata": {},
     "output_type": "execute_result"
    }
   ],
   "source": [
    "%%sql \n",
    "WITH thursday AS (\n",
    "    SELECT\n",
    "        p.name,\n",
    "        closed_thurs.category,\n",
    "        closed_thurs.thursday,\n",
    "        COALESCE(closed_thurs.thursday, 'Open') as closed_open,\n",
    "        NOT closed_thurs.thursday IS NULL as is_closed\n",
    "    FROM nps_public_data.parks p\n",
    "    LEFT JOIN nps_public_data.park_hours closed_thurs\n",
    "        ON closed_thurs.park_id = p.id\n",
    "        AND closed_thurs.thursday = 'Closed'\n",
    "    WHERE 1 = 1\n",
    ")\n",
    "SELECT\n",
    "    *\n",
    "FROM thursday\n",
    "WHERE is_closed\n",
    "LIMIT 5"
   ]
  },
  {
   "cell_type": "markdown",
   "metadata": {},
   "source": [
    "We commonly use the `WHERE` clause to filter aggregate queries, but we can also do so in `JOIN`s. \n",
    "\n",
    "However, we need to be very careful with how joins work."
   ]
  },
  {
   "cell_type": "code",
   "execution_count": 7,
   "metadata": {
    "vscode": {
     "languageId": "sql"
    }
   },
   "outputs": [
    {
     "data": {
      "text/html": [
       "<span style=\"None\">Running query in &#x27;duckdb&#x27;</span>"
      ],
      "text/plain": [
       "Running query in 'duckdb'"
      ]
     },
     "metadata": {},
     "output_type": "display_data"
    },
    {
     "data": {
      "text/html": [
       "<table>\n",
       "    <thead>\n",
       "        <tr>\n",
       "            <th>name</th>\n",
       "            <th>visitor_center_name</th>\n",
       "        </tr>\n",
       "    </thead>\n",
       "    <tbody>\n",
       "        <tr>\n",
       "            <td>Statue Of Liberty</td>\n",
       "            <td>Liberty Island Information Center</td>\n",
       "        </tr>\n",
       "    </tbody>\n",
       "</table>"
      ],
      "text/plain": [
       "+-------------------+-----------------------------------+\n",
       "|        name       |        visitor_center_name        |\n",
       "+-------------------+-----------------------------------+\n",
       "| Statue Of Liberty | Liberty Island Information Center |\n",
       "+-------------------+-----------------------------------+"
      ]
     },
     "execution_count": 7,
     "metadata": {},
     "output_type": "execute_result"
    }
   ],
   "source": [
    "%%sql\n",
    "SELECT\n",
    "    p.name,\n",
    "    vc.name as visitor_center_name\n",
    "FROM nps_public_data.parks p\n",
    "LEFT JOIN nps_public_data.visitorcenters vc\n",
    "    ON p.parkcode = vc.parkcode\n",
    "WHERE 1 = 1\n",
    "-- Filter base query (parks) for national monument\n",
    "    AND p.designation = 'National Monument'\n",
    "-- Filter JOIN (!) for passport stamp locations.\n",
    "-- what will happen to parks without visitor centers?\n",
    "    AND vc.ispassportstamplocation\n",
    "LIMIT 1"
   ]
  },
  {
   "cell_type": "markdown",
   "metadata": {},
   "source": [
    "How many rows are returned with/without the `LEFT JOIN`? What does that say about the number of parks we're querying? Why do you think that is?"
   ]
  },
  {
   "cell_type": "code",
   "execution_count": 9,
   "metadata": {
    "vscode": {
     "languageId": "sql"
    }
   },
   "outputs": [
    {
     "data": {
      "text/html": [
       "<span style=\"None\">Running query in &#x27;duckdb&#x27;</span>"
      ],
      "text/plain": [
       "Running query in 'duckdb'"
      ]
     },
     "metadata": {},
     "output_type": "display_data"
    },
    {
     "data": {
      "text/html": [
       "<table>\n",
       "    <thead>\n",
       "        <tr>\n",
       "            <th>ct</th>\n",
       "        </tr>\n",
       "    </thead>\n",
       "    <tbody>\n",
       "        <tr>\n",
       "            <td>2820</td>\n",
       "        </tr>\n",
       "        <tr>\n",
       "            <td>2820</td>\n",
       "        </tr>\n",
       "    </tbody>\n",
       "</table>"
      ],
      "text/plain": [
       "+------+\n",
       "|  ct  |\n",
       "+------+\n",
       "| 2820 |\n",
       "| 2820 |\n",
       "+------+"
      ]
     },
     "execution_count": 9,
     "metadata": {},
     "output_type": "execute_result"
    }
   ],
   "source": [
    "%%sql\n",
    "WITH filter_in_join AS (\n",
    "    SELECT\n",
    "        p.name,\n",
    "        vc.name as visitor_center_name\n",
    "    FROM nps_public_data.parks p\n",
    "    INNER JOIN nps_public_data.visitorcenters vc\n",
    "        ON p.parkcode = vc.parkcode\n",
    "), filter_in_where AS (\n",
    "    SELECT\n",
    "        p.name,\n",
    "        vc.name as visitor_center_name\n",
    "    FROM nps_public_data.parks p\n",
    "    LEFT JOIN nps_public_data.visitorcenters vc\n",
    "        ON p.parkcode = vc.parkcode\n",
    "    WHERE vc.parkcode IS NOT NULL\n",
    ")\n",
    "SELECT\n",
    "    COUNT(*) as ct\n",
    "FROM filter_in_join\n",
    "\n",
    "UNION ALL\n",
    "\n",
    "SELECT\n",
    "    COUNT(*) as ct\n",
    "FROM filter_in_where\n"
   ]
  },
  {
   "cell_type": "code",
   "execution_count": null,
   "metadata": {
    "vscode": {
     "languageId": "sql"
    }
   },
   "outputs": [],
   "source": []
  }
 ],
 "metadata": {
  "kernelspec": {
   "display_name": "lil-cdt",
   "language": "python",
   "name": "python3"
  },
  "language_info": {
   "codemirror_mode": {
    "name": "ipython",
    "version": 3
   },
   "file_extension": ".py",
   "mimetype": "text/x-python",
   "name": "python",
   "nbconvert_exporter": "python",
   "pygments_lexer": "ipython3",
   "version": "3.10.0"
  }
 },
 "nbformat": 4,
 "nbformat_minor": 2
}
