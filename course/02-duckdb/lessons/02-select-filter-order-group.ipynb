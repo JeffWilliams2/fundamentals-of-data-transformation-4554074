{
 "cells": [
  {
   "cell_type": "markdown",
   "metadata": {},
   "source": [
    "**Goal**: Understanding the basics of `SELECT`ing and filtering through examples, including comparisons (logical, `IS NULL`, `BETWEEN`), the `WHERE` clause, filtering with `JOIN`, `LIKE`, `IN`, `ORDER`, and `GROUP`."
   ]
  },
  {
   "cell_type": "code",
   "execution_count": 9,
   "metadata": {},
   "outputs": [
    {
     "name": "stdout",
     "output_type": "stream",
     "text": [
      "The sql extension is already loaded. To reload it, use:\n",
      "  %reload_ext sql\n"
     ]
    }
   ],
   "source": [
    "import duckdb\n",
    "\n",
    "# Load SQL extension, configure display limit\n",
    "%load_ext sql\n",
    "%config SqlMagic.displaylimit = 0\n",
    "\n",
    "# Initialize 🦆 DuckDB connection\n",
    "conn = duckdb.connect()\n",
    "\n",
    "# Import database\n",
    "%sql conn --alias duckdb\n",
    "%sql IMPORT DATABASE '../../data/nps';"
   ]
  },
  {
   "cell_type": "markdown",
   "metadata": {},
   "source": [
    "Creating fields you commonly filter on can drastically improve readability. String/column manipulation is great for that."
   ]
  },
  {
   "cell_type": "code",
   "execution_count": 12,
   "metadata": {
    "vscode": {
     "languageId": "sql"
    }
   },
   "outputs": [
    {
     "data": {
      "text/html": [
       "<span style=\"None\">Running query in &#x27;duckdb&#x27;</span>"
      ],
      "text/plain": [
       "Running query in 'duckdb'"
      ]
     },
     "metadata": {},
     "output_type": "display_data"
    },
    {
     "data": {
      "text/html": [
       "<table>\n",
       "    <thead>\n",
       "        <tr>\n",
       "            <th>name</th>\n",
       "            <th>category</th>\n",
       "            <th>thursday</th>\n",
       "            <th>closed_open</th>\n",
       "            <th>is_closed</th>\n",
       "        </tr>\n",
       "    </thead>\n",
       "    <tbody>\n",
       "        <tr>\n",
       "            <td>Eleanor Roosevelt</td>\n",
       "            <td>Val-Kill Cottage Tours</td>\n",
       "            <td>Closed</td>\n",
       "            <td>Closed</td>\n",
       "            <td>True</td>\n",
       "        </tr>\n",
       "        <tr>\n",
       "            <td>Morristown</td>\n",
       "            <td>Winter Hours</td>\n",
       "            <td>Closed</td>\n",
       "            <td>Closed</td>\n",
       "            <td>True</td>\n",
       "        </tr>\n",
       "        <tr>\n",
       "            <td>Freedom Riders</td>\n",
       "            <td>Anniston Greyhound Bus Depot</td>\n",
       "            <td>Closed</td>\n",
       "            <td>Closed</td>\n",
       "            <td>True</td>\n",
       "        </tr>\n",
       "        <tr>\n",
       "            <td>Black Canyon Of The Gunnison</td>\n",
       "            <td>East Portal</td>\n",
       "            <td>Closed</td>\n",
       "            <td>Closed</td>\n",
       "            <td>True</td>\n",
       "        </tr>\n",
       "        <tr>\n",
       "            <td>Golden Gate</td>\n",
       "            <td>Fort Point National Historic Site</td>\n",
       "            <td>Closed</td>\n",
       "            <td>Closed</td>\n",
       "            <td>True</td>\n",
       "        </tr>\n",
       "    </tbody>\n",
       "</table>"
      ],
      "text/plain": [
       "+------------------------------+-----------------------------------+----------+-------------+-----------+\n",
       "|             name             |              category             | thursday | closed_open | is_closed |\n",
       "+------------------------------+-----------------------------------+----------+-------------+-----------+\n",
       "|      Eleanor Roosevelt       |       Val-Kill Cottage Tours      |  Closed  |    Closed   |    True   |\n",
       "|          Morristown          |            Winter Hours           |  Closed  |    Closed   |    True   |\n",
       "|        Freedom Riders        |    Anniston Greyhound Bus Depot   |  Closed  |    Closed   |    True   |\n",
       "| Black Canyon Of The Gunnison |            East Portal            |  Closed  |    Closed   |    True   |\n",
       "|         Golden Gate          | Fort Point National Historic Site |  Closed  |    Closed   |    True   |\n",
       "+------------------------------+-----------------------------------+----------+-------------+-----------+"
      ]
     },
     "execution_count": 12,
     "metadata": {},
     "output_type": "execute_result"
    }
   ],
   "source": [
    "%%sql \n",
    "WITH thursday AS (\n",
    "    SELECT\n",
    "        p.name,\n",
    "        closed_thurs.category,\n",
    "        closed_thurs.thursday,\n",
    "        COALESCE(closed_thurs.thursday, 'Open') as closed_open,\n",
    "        NOT closed_thurs.thursday IS NULL as is_closed\n",
    "    FROM nps_public_data.parks p\n",
    "    LEFT JOIN nps_public_data.park_hours closed_thurs\n",
    "        ON closed_thurs.park_id = p.id\n",
    "        AND closed_thurs.thursday = 'Closed'\n",
    "    WHERE 1 = 1\n",
    ")\n",
    "SELECT\n",
    "    *\n",
    "FROM thursday\n",
    "WHERE \n",
    "    is_closed\n",
    "    -- Don't forget we can use OR :)\n",
    "    -- OR closed_ope = 'Closed'\n",
    "LIMIT 5"
   ]
  },
  {
   "cell_type": "markdown",
   "metadata": {},
   "source": [
    "We commonly use the `WHERE` clause to filter aggregate queries, but we can also do so in `JOIN`s. \n",
    "\n",
    "However, we need to be very careful with how joins work."
   ]
  },
  {
   "cell_type": "code",
   "execution_count": 13,
   "metadata": {
    "vscode": {
     "languageId": "sql"
    }
   },
   "outputs": [
    {
     "data": {
      "text/html": [
       "<span style=\"None\">Running query in &#x27;duckdb&#x27;</span>"
      ],
      "text/plain": [
       "Running query in 'duckdb'"
      ]
     },
     "metadata": {},
     "output_type": "display_data"
    },
    {
     "data": {
      "text/html": [
       "<table>\n",
       "    <thead>\n",
       "        <tr>\n",
       "            <th>name</th>\n",
       "            <th>visitor_center_name</th>\n",
       "        </tr>\n",
       "    </thead>\n",
       "    <tbody>\n",
       "        <tr>\n",
       "            <td>Statue Of Liberty</td>\n",
       "            <td>Liberty Island Information Center</td>\n",
       "        </tr>\n",
       "    </tbody>\n",
       "</table>"
      ],
      "text/plain": [
       "+-------------------+-----------------------------------+\n",
       "|        name       |        visitor_center_name        |\n",
       "+-------------------+-----------------------------------+\n",
       "| Statue Of Liberty | Liberty Island Information Center |\n",
       "+-------------------+-----------------------------------+"
      ]
     },
     "execution_count": 13,
     "metadata": {},
     "output_type": "execute_result"
    }
   ],
   "source": [
    "%%sql\n",
    "SELECT\n",
    "    p.name,\n",
    "    vc.name as visitor_center_name\n",
    "FROM nps_public_data.parks p\n",
    "LEFT JOIN nps_public_data.visitorcenters vc\n",
    "    ON p.parkcode = vc.parkcode\n",
    "WHERE 1 = 1\n",
    "-- Filter base query (parks) for national monument\n",
    "    AND p.designation = 'National Monument'\n",
    "-- Filter JOIN (!) for passport stamp locations.\n",
    "-- what will happen to parks without visitor centers?\n",
    "    AND vc.ispassportstamplocation\n",
    "LIMIT 1"
   ]
  },
  {
   "cell_type": "markdown",
   "metadata": {},
   "source": [
    "How many rows are returned with/without the `LEFT JOIN`? What does that say about the number of parks we're querying? Why do you think that is?"
   ]
  },
  {
   "cell_type": "markdown",
   "metadata": {},
   "source": [
    "`INNER JOINS` are identical to `LEFT JOINS` with a `NOT NULL` clause. Why is that?"
   ]
  },
  {
   "cell_type": "code",
   "execution_count": 14,
   "metadata": {
    "vscode": {
     "languageId": "sql"
    }
   },
   "outputs": [
    {
     "data": {
      "text/html": [
       "<span style=\"None\">Running query in &#x27;duckdb&#x27;</span>"
      ],
      "text/plain": [
       "Running query in 'duckdb'"
      ]
     },
     "metadata": {},
     "output_type": "display_data"
    },
    {
     "data": {
      "text/html": [
       "<table>\n",
       "    <thead>\n",
       "        <tr>\n",
       "            <th>ct</th>\n",
       "        </tr>\n",
       "    </thead>\n",
       "    <tbody>\n",
       "        <tr>\n",
       "            <td>705</td>\n",
       "        </tr>\n",
       "        <tr>\n",
       "            <td>705</td>\n",
       "        </tr>\n",
       "    </tbody>\n",
       "</table>"
      ],
      "text/plain": [
       "+-----+\n",
       "|  ct |\n",
       "+-----+\n",
       "| 705 |\n",
       "| 705 |\n",
       "+-----+"
      ]
     },
     "execution_count": 14,
     "metadata": {},
     "output_type": "execute_result"
    }
   ],
   "source": [
    "%%sql\n",
    "WITH filter_in_join AS (\n",
    "    SELECT\n",
    "        p.name,\n",
    "        vc.name as visitor_center_name\n",
    "    FROM nps_public_data.parks p\n",
    "    INNER JOIN nps_public_data.visitorcenters vc\n",
    "        ON p.parkcode = vc.parkcode\n",
    "), filter_in_where AS (\n",
    "    SELECT\n",
    "        p.name,\n",
    "        vc.name as visitor_center_name\n",
    "    FROM nps_public_data.parks p\n",
    "    LEFT JOIN nps_public_data.visitorcenters vc\n",
    "        ON p.parkcode = vc.parkcode\n",
    "    WHERE vc.parkcode IS NOT NULL\n",
    ")\n",
    "SELECT\n",
    "    COUNT(*) as ct\n",
    "FROM filter_in_join\n",
    "\n",
    "UNION ALL\n",
    "\n",
    "SELECT\n",
    "    COUNT(*) as ct\n",
    "FROM filter_in_where\n"
   ]
  },
  {
   "cell_type": "markdown",
   "metadata": {},
   "source": [
    "Some common ways of filtering data\n",
    "\n",
    "1. Comparisons (`>`, `<`, `=`)\n",
    "2. `BETWEEN`\n",
    "3. `IN`\n",
    "4. `IS NULL`\n",
    "5. `LIKE` & `ILIKE` // `REGEXP`\n",
    "\n",
    "Comparisons and `BETWEEN` are good for integers, but also timestamps and dates (as we'll see). `IN` can be helpful for lists of data, while `IS NULL` can help us when `NULL` values are a possibility.\n",
    "\n",
    "`ILIKE`, `LIKE`, and `REGEXP` are all useful when pattern matching is at play."
   ]
  },
  {
   "cell_type": "markdown",
   "metadata": {},
   "source": [
    "We can filter numbers and dates with comparisons or between statements"
   ]
  },
  {
   "cell_type": "code",
   "execution_count": 15,
   "metadata": {
    "vscode": {
     "languageId": "sql"
    }
   },
   "outputs": [
    {
     "data": {
      "text/html": [
       "<span style=\"None\">Running query in &#x27;duckdb&#x27;</span>"
      ],
      "text/plain": [
       "Running query in 'duckdb'"
      ]
     },
     "metadata": {},
     "output_type": "display_data"
    },
    {
     "data": {
      "text/html": [
       "<table>\n",
       "    <thead>\n",
       "        <tr>\n",
       "            <th>title</th>\n",
       "            <th>parkfullname</th>\n",
       "            <th>category</th>\n",
       "            <th>isfree</th>\n",
       "            <th>description</th>\n",
       "        </tr>\n",
       "    </thead>\n",
       "    <tbody>\n",
       "        <tr>\n",
       "            <td>Acadian Cultural Center - Louisiana Talks & Tales</td>\n",
       "            <td>Jean Lafitte National Historical Park and Preserve</td>\n",
       "            <td>Regular Event</td>\n",
       "            <td>True</td>\n",
       "            <td><p>Join a ranger to learn about the history, culture, or environment of south Louisiana.</p></td>\n",
       "        </tr>\n",
       "    </tbody>\n",
       "</table>"
      ],
      "text/plain": [
       "+---------------------------------------------------+----------------------------------------------------+---------------+--------+----------------------------------------------------------------------------------------------+\n",
       "|                       title                       |                    parkfullname                    |    category   | isfree |                                         description                                          |\n",
       "+---------------------------------------------------+----------------------------------------------------+---------------+--------+----------------------------------------------------------------------------------------------+\n",
       "| Acadian Cultural Center - Louisiana Talks & Tales | Jean Lafitte National Historical Park and Preserve | Regular Event |  True  | <p>Join a ranger to learn about the history, culture, or environment of south Louisiana.</p> |\n",
       "+---------------------------------------------------+----------------------------------------------------+---------------+--------+----------------------------------------------------------------------------------------------+"
      ]
     },
     "execution_count": 15,
     "metadata": {},
     "output_type": "execute_result"
    }
   ],
   "source": [
    "%%sql\n",
    "SELECT\n",
    "    title,\n",
    "    parkfullname,\n",
    "    category,\n",
    "    isfree,\n",
    "    description\n",
    "FROM nps_public_data.events e\n",
    "WHERE 1 = 1\n",
    "    AND recurrencedatestart > '2024-01-01'\n",
    "    AND recurrencedatestart < '2024-01-23'\n",
    "ORDER BY RANDOM()\n",
    "LIMIT 2\n"
   ]
  },
  {
   "cell_type": "code",
   "execution_count": 16,
   "metadata": {
    "vscode": {
     "languageId": "sql"
    }
   },
   "outputs": [
    {
     "data": {
      "text/html": [
       "<span style=\"None\">Running query in &#x27;duckdb&#x27;</span>"
      ],
      "text/plain": [
       "Running query in 'duckdb'"
      ]
     },
     "metadata": {},
     "output_type": "display_data"
    },
    {
     "data": {
      "text/html": [
       "<table>\n",
       "    <thead>\n",
       "        <tr>\n",
       "            <th>title</th>\n",
       "            <th>parkfullname</th>\n",
       "            <th>category</th>\n",
       "            <th>isfree</th>\n",
       "            <th>description</th>\n",
       "        </tr>\n",
       "    </thead>\n",
       "    <tbody>\n",
       "        <tr>\n",
       "            <td>Acadian Cultural Center - Louisiana Talks & Tales</td>\n",
       "            <td>Jean Lafitte National Historical Park and Preserve</td>\n",
       "            <td>Regular Event</td>\n",
       "            <td>True</td>\n",
       "            <td><p>Join a ranger to learn about the history, culture, or environment of south Louisiana.</p></td>\n",
       "        </tr>\n",
       "        <tr>\n",
       "            <td>Afternoon Stroll</td>\n",
       "            <td>Joshua Tree National Park</td>\n",
       "            <td>Regular Event</td>\n",
       "            <td>True</td>\n",
       "            <td><p>Join a ranger for a 0.4 mile (0.6 km) guided walk! Learn about various topics like plants, animals, geology, cultural history, and more. Topics vary by ranger. Bring water, closed–toe shoes, and layers for this 45–minute walk.</p><br><p><strong>Difficulty:</strong> easy, unpaved trail<br /><br /></p></td>\n",
       "        </tr>\n",
       "    </tbody>\n",
       "</table>"
      ],
      "text/plain": [
       "+---------------------------------------------------+----------------------------------------------------+---------------+--------+-------------------------------------------------------------------------------------------------------------------------------------------------------------------------------------------------------------------------------------------+\n",
       "|                       title                       |                    parkfullname                    |    category   | isfree |                                                                                                                description                                                                                                                |\n",
       "+---------------------------------------------------+----------------------------------------------------+---------------+--------+-------------------------------------------------------------------------------------------------------------------------------------------------------------------------------------------------------------------------------------------+\n",
       "| Acadian Cultural Center - Louisiana Talks & Tales | Jean Lafitte National Historical Park and Preserve | Regular Event |  True  |                                                                        <p>Join a ranger to learn about the history, culture, or environment of south Louisiana.</p>                                                                       |\n",
       "|                  Afternoon Stroll                 |             Joshua Tree National Park              | Regular Event |  True  | <p>Join a ranger for a 0.4 mile (0.6 km) guided walk! Learn about various topics like plants, animals, geology, cultural history, and more. Topics vary by ranger. Bring water, closed–toe shoes, and layers for this 45–minute walk.</p> |\n",
       "|                                                   |                                                    |               |        |                                                                                    <p><strong>Difficulty:</strong> easy, unpaved trail<br /><br /></p>                                                                                    |\n",
       "+---------------------------------------------------+----------------------------------------------------+---------------+--------+-------------------------------------------------------------------------------------------------------------------------------------------------------------------------------------------------------------------------------------------+"
      ]
     },
     "execution_count": 16,
     "metadata": {},
     "output_type": "execute_result"
    }
   ],
   "source": [
    "%%sql\n",
    "SELECT\n",
    "    title,\n",
    "    parkfullname,\n",
    "    category,\n",
    "    isfree,\n",
    "    description\n",
    "FROM nps_public_data.events e\n",
    "WHERE 1 = 1\n",
    "    AND recurrencedatestart BETWEEN '2024-01-01' AND '2024-01-23'\n",
    "ORDER BY RANDOM()\n",
    "LIMIT 2"
   ]
  },
  {
   "cell_type": "markdown",
   "metadata": {},
   "source": [
    "But we have to note, `BETWEEN` is _inclusive_~"
   ]
  },
  {
   "cell_type": "code",
   "execution_count": 17,
   "metadata": {
    "vscode": {
     "languageId": "sql"
    }
   },
   "outputs": [
    {
     "data": {
      "text/html": [
       "<span style=\"None\">Running query in &#x27;duckdb&#x27;</span>"
      ],
      "text/plain": [
       "Running query in 'duckdb'"
      ]
     },
     "metadata": {},
     "output_type": "display_data"
    },
    {
     "data": {
      "text/html": [
       "<table>\n",
       "    <thead>\n",
       "        <tr>\n",
       "            <th>f</th>\n",
       "            <th>ct</th>\n",
       "        </tr>\n",
       "    </thead>\n",
       "    <tbody>\n",
       "        <tr>\n",
       "            <td>between</td>\n",
       "            <td>3</td>\n",
       "        </tr>\n",
       "        <tr>\n",
       "            <td>greater than</td>\n",
       "            <td>1</td>\n",
       "        </tr>\n",
       "    </tbody>\n",
       "</table>"
      ],
      "text/plain": [
       "+--------------+----+\n",
       "|      f       | ct |\n",
       "+--------------+----+\n",
       "|   between    | 3  |\n",
       "| greater than | 1  |\n",
       "+--------------+----+"
      ]
     },
     "execution_count": 17,
     "metadata": {},
     "output_type": "execute_result"
    }
   ],
   "source": [
    "%%sql\n",
    "SELECT\n",
    "    'between' as f,\n",
    "    COUNT(*) as ct\n",
    "FROM nps_public_data.events e\n",
    "WHERE 1 = 1\n",
    "    AND recurrencedatestart BETWEEN '2024-01-01' AND '2024-01-23'\n",
    "GROUP BY f\n",
    "\n",
    "UNION ALL\n",
    "\n",
    "SELECT\n",
    "    'greater than' as f,\n",
    "    COUNT(*) as ct\n",
    "FROM nps_public_data.events e\n",
    "WHERE 1 = 1\n",
    "    AND recurrencedatestart > '2024-01-01'\n",
    "    AND recurrencedatestart < '2024-01-23'\n",
    "GROUP BY f"
   ]
  },
  {
   "cell_type": "markdown",
   "metadata": {},
   "source": [
    "Don't forget that we can nest logic!"
   ]
  },
  {
   "cell_type": "code",
   "execution_count": 35,
   "metadata": {
    "vscode": {
     "languageId": "sql"
    }
   },
   "outputs": [
    {
     "data": {
      "text/html": [
       "<span style=\"None\">Running query in &#x27;duckdb&#x27;</span>"
      ],
      "text/plain": [
       "Running query in 'duckdb'"
      ]
     },
     "metadata": {},
     "output_type": "display_data"
    },
    {
     "data": {
      "text/html": [
       "<table>\n",
       "    <thead>\n",
       "        <tr>\n",
       "            <th>title</th>\n",
       "            <th>parkfullname</th>\n",
       "            <th>category</th>\n",
       "            <th>isfree</th>\n",
       "            <th>description</th>\n",
       "        </tr>\n",
       "    </thead>\n",
       "    <tbody>\n",
       "        <tr>\n",
       "            <td>Acadian Cultural Center - Youth Art Showcase</td>\n",
       "            <td>Jean Lafitte National Historical Park and Preserve</td>\n",
       "            <td>Regular Event</td>\n",
       "            <td>True</td>\n",
       "            <td><p>Join us for this special exhibition of artwork from local students who placed in this year's <a href=\"https://www.nps.gov/jela/learn/kidsyouth/youth-art-showcase.htm\">Youth Art Showcase</a>. The 2023 theme was \"Waterways of the Atchafalaya Area.\"</p></td>\n",
       "        </tr>\n",
       "        <tr>\n",
       "            <td>8 am to 6 pm: Village — History Exhibit: The Amazing Kolb Brothers; A Grand Life at Grand Canyon</td>\n",
       "            <td>Grand Canyon National Park</td>\n",
       "            <td>Regular Event</td>\n",
       "            <td>True</td>\n",
       "            <td><p>For those with an interest in Grand Canyon history, see the Amazing Kolb Brothers Exhibit at Kolb Studio, house-turned-museum perched perilously on a western precipice in Grand Canyon Village. — View the antique cameras used by the canyon's pioneer photographers, study paintings by plein-air artists, and watch their 1912 motion picture travelogue, about their exploration of Grand Canyon and river trips down the Colorado River. <br /><br />Nearly demolished in the 1960s, this structure stands today as a park icon, art gallery, and bookstore for visitors in the vicinity of Bright Angel Trail.<br /><br />Currently operated by the park's non-profit partner, Grand Canyon Conservancy, visitors can purchase artwork, books, gifts, souvenirs, and basic hiking gear, or simply stop by for park information and the Amazing the Kolb Brothers Exhibit about the life and adventures on the edge of Grand Canyon. <br /><br />In addition, you can join Grand Canyon Conservancy guides for a behind-the-scenes tour of the historic Kolb Studio Residence! Walk through the home of Emery, Blanche, Edith, Ellsworth and family and learn about the fascinating history of private entrepreneurship and art at Grand Canyon. Details &gt; <a href=\"https://www.grandcanyon.org/experience-grand-canyon/guided-tours/kolb-studio-tour\">Kolb Studio Tour | Grand Canyon Conservancy</a></p></td>\n",
       "        </tr>\n",
       "    </tbody>\n",
       "</table>"
      ],
      "text/plain": [
       "+--------------------------------------------------------------------------------------------------+----------------------------------------------------+---------------+--------+------------------------------------------------------------------------------------------------------------------------------------------------------------------------------------------------------------------------------------------------------------------------------------------------------------------------------------------------------------------------------------------------------------------------------------------------------------------------------------------------------------------------------------------------------------------------------------------------------------------------------------------------------------------------------------------------------------------------------------------------------------------------------------------------------------------------------------------------------------------------------------------------------------------------------------------------------------------------------------------------------------------------------------------------------------------------------------------------------------------------------------------------------------------------------------------------------------------------------------------------------------------------------------------------------------------------------------------------------------------------------------------------------------------------+\n",
       "|                                              title                                               |                    parkfullname                    |    category   | isfree |                                                                                                                                                                                                                                                                                                                                                                                                                                                                                                                                                                                                                                                                                                      description                                                                                                                                                                                                                                                                                                                                                                                                                                                                                                                                                                                                                                                                                                       |\n",
       "+--------------------------------------------------------------------------------------------------+----------------------------------------------------+---------------+--------+------------------------------------------------------------------------------------------------------------------------------------------------------------------------------------------------------------------------------------------------------------------------------------------------------------------------------------------------------------------------------------------------------------------------------------------------------------------------------------------------------------------------------------------------------------------------------------------------------------------------------------------------------------------------------------------------------------------------------------------------------------------------------------------------------------------------------------------------------------------------------------------------------------------------------------------------------------------------------------------------------------------------------------------------------------------------------------------------------------------------------------------------------------------------------------------------------------------------------------------------------------------------------------------------------------------------------------------------------------------------------------------------------------------------+\n",
       "|                           Acadian Cultural Center - Youth Art Showcase                           | Jean Lafitte National Historical Park and Preserve | Regular Event |  True  |                                                                                                                                                                                                                                                                                                                                                                                                                                                                                                                                                                             <p>Join us for this special exhibition of artwork from local students who placed in this year's <a href=\"https://www.nps.gov/jela/learn/kidsyouth/youth-art-showcase.htm\">Youth Art Showcase</a>. The 2023 theme was \"Waterways of the Atchafalaya Area.\"</p>                                                                                                                                                                                                                                                                                                                                                                                                                                                                                                                                                                              |\n",
       "| 8 am to 6 pm: Village — History Exhibit: The Amazing Kolb Brothers; A Grand Life at Grand Canyon |             Grand Canyon National Park             | Regular Event |  True  | <p>For those with an interest in Grand Canyon history, see the Amazing Kolb Brothers Exhibit at Kolb Studio, house-turned-museum perched perilously on a western precipice in Grand Canyon Village. — View the antique cameras used by the canyon's pioneer photographers, study paintings by plein-air artists, and watch their 1912 motion picture travelogue, about their exploration of Grand Canyon and river trips down the Colorado River. <br /><br />Nearly demolished in the 1960s, this structure stands today as a park icon, art gallery, and bookstore for visitors in the vicinity of Bright Angel Trail.<br /><br />Currently operated by the park's non-profit partner, Grand Canyon Conservancy, visitors can purchase artwork, books, gifts, souvenirs, and basic hiking gear, or simply stop by for park information and the Amazing the Kolb Brothers Exhibit about the life and adventures on the edge of Grand Canyon. <br /><br />In addition, you can join Grand Canyon Conservancy guides for a behind-the-scenes tour of the historic Kolb Studio Residence! Walk through the home of Emery, Blanche, Edith, Ellsworth and family and learn about the fascinating history of private entrepreneurship and art at Grand Canyon. Details > <a href=\"https://www.grandcanyon.org/experience-grand-canyon/guided-tours/kolb-studio-tour\">Kolb Studio Tour | Grand Canyon Conservancy</a></p> |\n",
       "+--------------------------------------------------------------------------------------------------+----------------------------------------------------+---------------+--------+------------------------------------------------------------------------------------------------------------------------------------------------------------------------------------------------------------------------------------------------------------------------------------------------------------------------------------------------------------------------------------------------------------------------------------------------------------------------------------------------------------------------------------------------------------------------------------------------------------------------------------------------------------------------------------------------------------------------------------------------------------------------------------------------------------------------------------------------------------------------------------------------------------------------------------------------------------------------------------------------------------------------------------------------------------------------------------------------------------------------------------------------------------------------------------------------------------------------------------------------------------------------------------------------------------------------------------------------------------------------------------------------------------------------+"
      ]
     },
     "execution_count": 35,
     "metadata": {},
     "output_type": "execute_result"
    }
   ],
   "source": [
    "%%sql\n",
    "SELECT\n",
    "    title,\n",
    "    parkfullname,\n",
    "    category,\n",
    "    isfree,\n",
    "    description\n",
    "FROM nps_public_data.events e\n",
    "WHERE 1 = 1\n",
    "    -- Fetch events with dates in January _or_ March\n",
    "    AND (\n",
    "            (recurrencedatestart BETWEEN '2024-01-01' AND '2024-01-31') OR\n",
    "            (recurrencedatestart BETWEEN '2024-03-01' AND '2024-03-31')\n",
    "    ) \n",
    "ORDER BY RANDOM()\n",
    "LIMIT 2"
   ]
  },
  {
   "cell_type": "markdown",
   "metadata": {},
   "source": [
    "Another handy way to filter datasets is through string matching— if you're familiar with Python, you probably know regex, but SQL has a few other, simpler ways. First, `LIKE`:"
   ]
  },
  {
   "cell_type": "code",
   "execution_count": 18,
   "metadata": {
    "vscode": {
     "languageId": "sql"
    }
   },
   "outputs": [
    {
     "data": {
      "text/html": [
       "<span style=\"None\">Running query in &#x27;duckdb&#x27;</span>"
      ],
      "text/plain": [
       "Running query in 'duckdb'"
      ]
     },
     "metadata": {},
     "output_type": "display_data"
    },
    {
     "data": {
      "text/html": [
       "<table>\n",
       "    <thead>\n",
       "        <tr>\n",
       "            <th>title</th>\n",
       "            <th>parkfullname</th>\n",
       "            <th>category</th>\n",
       "            <th>isfree</th>\n",
       "            <th>description</th>\n",
       "        </tr>\n",
       "    </thead>\n",
       "    <tbody>\n",
       "        <tr>\n",
       "            <td>Afternoon Stroll</td>\n",
       "            <td>Joshua Tree National Park</td>\n",
       "            <td>Regular Event</td>\n",
       "            <td>True</td>\n",
       "            <td><p>Join a ranger for a 0.4 mile (0.6 km) guided walk! Learn about various topics like plants, animals, geology, cultural history, and more. Topics vary by ranger. Bring water, closed–toe shoes, and layers for this 45–minute walk.</p><br><p><strong>Difficulty:</strong> easy, unpaved trail<br /><br /></p></td>\n",
       "        </tr>\n",
       "    </tbody>\n",
       "</table>"
      ],
      "text/plain": [
       "+------------------+---------------------------+---------------+--------+-------------------------------------------------------------------------------------------------------------------------------------------------------------------------------------------------------------------------------------------+\n",
       "|      title       |        parkfullname       |    category   | isfree |                                                                                                                description                                                                                                                |\n",
       "+------------------+---------------------------+---------------+--------+-------------------------------------------------------------------------------------------------------------------------------------------------------------------------------------------------------------------------------------------+\n",
       "| Afternoon Stroll | Joshua Tree National Park | Regular Event |  True  | <p>Join a ranger for a 0.4 mile (0.6 km) guided walk! Learn about various topics like plants, animals, geology, cultural history, and more. Topics vary by ranger. Bring water, closed–toe shoes, and layers for this 45–minute walk.</p> |\n",
       "|                  |                           |               |        |                                                                                    <p><strong>Difficulty:</strong> easy, unpaved trail<br /><br /></p>                                                                                    |\n",
       "+------------------+---------------------------+---------------+--------+-------------------------------------------------------------------------------------------------------------------------------------------------------------------------------------------------------------------------------------------+"
      ]
     },
     "execution_count": 18,
     "metadata": {},
     "output_type": "execute_result"
    }
   ],
   "source": [
    "%%sql\n",
    "SELECT\n",
    "    title,\n",
    "    parkfullname,\n",
    "    category,\n",
    "    isfree,\n",
    "    description\n",
    "FROM nps_public_data.events e\n",
    "WHERE 1 = 1\n",
    "    AND title LIKE '%Stroll%'\n",
    "LIMIT 5"
   ]
  },
  {
   "cell_type": "markdown",
   "metadata": {},
   "source": [
    "But `LIKE` is case sensitive, so it's easy to miss results."
   ]
  },
  {
   "cell_type": "code",
   "execution_count": 19,
   "metadata": {
    "vscode": {
     "languageId": "sql"
    }
   },
   "outputs": [
    {
     "data": {
      "text/html": [
       "<span style=\"None\">Running query in &#x27;duckdb&#x27;</span>"
      ],
      "text/plain": [
       "Running query in 'duckdb'"
      ]
     },
     "metadata": {},
     "output_type": "display_data"
    },
    {
     "data": {
      "text/html": [
       "<table>\n",
       "    <thead>\n",
       "        <tr>\n",
       "            <th>title</th>\n",
       "            <th>parkfullname</th>\n",
       "            <th>category</th>\n",
       "            <th>isfree</th>\n",
       "            <th>description</th>\n",
       "        </tr>\n",
       "    </thead>\n",
       "    <tbody>\n",
       "    </tbody>\n",
       "</table>"
      ],
      "text/plain": [
       "+-------+--------------+----------+--------+-------------+\n",
       "| title | parkfullname | category | isfree | description |\n",
       "+-------+--------------+----------+--------+-------------+\n",
       "+-------+--------------+----------+--------+-------------+"
      ]
     },
     "execution_count": 19,
     "metadata": {},
     "output_type": "execute_result"
    }
   ],
   "source": [
    "%%sql\n",
    "SELECT\n",
    "    title,\n",
    "    parkfullname,\n",
    "    category,\n",
    "    isfree,\n",
    "    description\n",
    "FROM nps_public_data.events e\n",
    "WHERE 1 = 1\n",
    "    AND title LIKE '%hike%'\n",
    "LIMIT 5"
   ]
  },
  {
   "cell_type": "markdown",
   "metadata": {},
   "source": [
    "Instead, we can use `ILIKE`:"
   ]
  },
  {
   "cell_type": "code",
   "execution_count": 20,
   "metadata": {
    "vscode": {
     "languageId": "sql"
    }
   },
   "outputs": [
    {
     "data": {
      "text/html": [
       "<span style=\"None\">Running query in &#x27;duckdb&#x27;</span>"
      ],
      "text/plain": [
       "Running query in 'duckdb'"
      ]
     },
     "metadata": {},
     "output_type": "display_data"
    },
    {
     "data": {
      "text/html": [
       "<table>\n",
       "    <thead>\n",
       "        <tr>\n",
       "            <th>title</th>\n",
       "            <th>parkfullname</th>\n",
       "            <th>category</th>\n",
       "            <th>isfree</th>\n",
       "            <th>description</th>\n",
       "        </tr>\n",
       "    </thead>\n",
       "    <tbody>\n",
       "        <tr>\n",
       "            <td>A Hike Through The (Cactus) Forest (East District)</td>\n",
       "            <td>Saguaro National Park</td>\n",
       "            <td>Regular Event</td>\n",
       "            <td>True</td>\n",
       "            <td><p>Let your interest reach new heights and join us for a hike through the heart of the cactus forest, getting to know the giant cactus.</p><br><p>Hike will up to 2 miles round trip on a flat trail. Bring sun protection and water. Hiking boots are recommended.</p></td>\n",
       "        </tr>\n",
       "    </tbody>\n",
       "</table>"
      ],
      "text/plain": [
       "+----------------------------------------------------+-----------------------+---------------+--------+---------------------------------------------------------------------------------------------------------------------------------------------+\n",
       "|                       title                        |      parkfullname     |    category   | isfree |                                                                 description                                                                 |\n",
       "+----------------------------------------------------+-----------------------+---------------+--------+---------------------------------------------------------------------------------------------------------------------------------------------+\n",
       "| A Hike Through The (Cactus) Forest (East District) | Saguaro National Park | Regular Event |  True  | <p>Let your interest reach new heights and join us for a hike through the heart of the cactus forest, getting to know the giant cactus.</p> |\n",
       "|                                                    |                       |               |        |           <p>Hike will up to 2 miles round trip on a flat trail. Bring sun protection and water. Hiking boots are recommended.</p>          |\n",
       "+----------------------------------------------------+-----------------------+---------------+--------+---------------------------------------------------------------------------------------------------------------------------------------------+"
      ]
     },
     "execution_count": 20,
     "metadata": {},
     "output_type": "execute_result"
    }
   ],
   "source": [
    "%%sql\n",
    "SELECT\n",
    "    title,\n",
    "    parkfullname,\n",
    "    category,\n",
    "    isfree,\n",
    "    description\n",
    "FROM nps_public_data.events e\n",
    "WHERE 1 = 1\n",
    "    AND title ILIKE '%hike%'\n",
    "LIMIT 5"
   ]
  },
  {
   "cell_type": "markdown",
   "metadata": {},
   "source": [
    "Depending on your flavor of SQL, there might be other ways to pattern match. DuckDB also has `glob` matching & `regex` matching, too. Those are outside the scope of this course, but you can read more [here](https://duckdb.org/docs/sql/functions/patternmatching.html)."
   ]
  },
  {
   "cell_type": "markdown",
   "metadata": {},
   "source": [
    "Sometimes, we might need to construct a list to perform a more robust filter. We can use `split` and cast the result to a list of strings to turn the `states` field in parks into a list. Then, we can query the list more properly.\n",
    "\n",
    "In this course, we'll challenge you to think critically about the structure of your data and how you can manipulate it to achieve a desired outcome."
   ]
  },
  {
   "cell_type": "code",
   "execution_count": 21,
   "metadata": {
    "vscode": {
     "languageId": "sql"
    }
   },
   "outputs": [
    {
     "data": {
      "text/html": [
       "<span style=\"None\">Running query in &#x27;duckdb&#x27;</span>"
      ],
      "text/plain": [
       "Running query in 'duckdb'"
      ]
     },
     "metadata": {},
     "output_type": "display_data"
    },
    {
     "data": {
      "text/html": [
       "<table>\n",
       "    <thead>\n",
       "        <tr>\n",
       "            <th>fullName</th>\n",
       "            <th>states_string</th>\n",
       "            <th>states_list</th>\n",
       "        </tr>\n",
       "    </thead>\n",
       "    <tbody>\n",
       "        <tr>\n",
       "            <td>Cedar Breaks National Monument</td>\n",
       "            <td>UT</td>\n",
       "            <td>['UT']</td>\n",
       "        </tr>\n",
       "        <tr>\n",
       "            <td>Arches National Park</td>\n",
       "            <td>UT</td>\n",
       "            <td>['UT']</td>\n",
       "        </tr>\n",
       "        <tr>\n",
       "            <td>Bryce Canyon National Park</td>\n",
       "            <td>UT</td>\n",
       "            <td>['UT']</td>\n",
       "        </tr>\n",
       "        <tr>\n",
       "            <td>California National Historic Trail</td>\n",
       "            <td>CA,CO,ID,KS,MO,NE,NV,OR,UT,WY</td>\n",
       "            <td>['CA', 'CO', 'ID', 'KS', 'MO', 'NE', 'NV', 'OR', 'UT', 'WY']</td>\n",
       "        </tr>\n",
       "        <tr>\n",
       "            <td>Canyonlands National Park</td>\n",
       "            <td>UT</td>\n",
       "            <td>['UT']</td>\n",
       "        </tr>\n",
       "    </tbody>\n",
       "</table>"
      ],
      "text/plain": [
       "+------------------------------------+-------------------------------+--------------------------------------------------------------+\n",
       "|              fullName              |         states_string         |                         states_list                          |\n",
       "+------------------------------------+-------------------------------+--------------------------------------------------------------+\n",
       "|   Cedar Breaks National Monument   |               UT              |                            ['UT']                            |\n",
       "|        Arches National Park        |               UT              |                            ['UT']                            |\n",
       "|     Bryce Canyon National Park     |               UT              |                            ['UT']                            |\n",
       "| California National Historic Trail | CA,CO,ID,KS,MO,NE,NV,OR,UT,WY | ['CA', 'CO', 'ID', 'KS', 'MO', 'NE', 'NV', 'OR', 'UT', 'WY'] |\n",
       "|     Canyonlands National Park      |               UT              |                            ['UT']                            |\n",
       "+------------------------------------+-------------------------------+--------------------------------------------------------------+"
      ]
     },
     "execution_count": 21,
     "metadata": {},
     "output_type": "execute_result"
    }
   ],
   "source": [
    "%%sql\n",
    "-- Which parks are fully or partially in Utah?\n",
    "WITH park_states AS (\n",
    "    SELECT \n",
    "        fullname,\n",
    "        states AS states_string, \n",
    "        split(states, ',') ::string[] AS states_list\n",
    "    FROM nps_public_data.parks p\n",
    "    )\n",
    "SELECT \n",
    "    * \n",
    "FROM park_states\n",
    "WHERE list_contains(states_list, 'UT')\n",
    "LIMIT 5"
   ]
  },
  {
   "cell_type": "markdown",
   "metadata": {},
   "source": [
    "This allows for some nifty queries in DuckDB for cross-border parks"
   ]
  },
  {
   "cell_type": "code",
   "execution_count": 22,
   "metadata": {
    "vscode": {
     "languageId": "sql"
    }
   },
   "outputs": [
    {
     "data": {
      "text/html": [
       "<span style=\"None\">Running query in &#x27;duckdb&#x27;</span>"
      ],
      "text/plain": [
       "Running query in 'duckdb'"
      ]
     },
     "metadata": {},
     "output_type": "display_data"
    },
    {
     "data": {
      "text/html": [
       "<table>\n",
       "    <thead>\n",
       "        <tr>\n",
       "            <th>fullName</th>\n",
       "            <th>states_list</th>\n",
       "        </tr>\n",
       "    </thead>\n",
       "    <tbody>\n",
       "        <tr>\n",
       "            <td>California National Historic Trail</td>\n",
       "            <td>['CA', 'CO', 'ID', 'KS', 'MO', 'NE', 'NV', 'OR', 'UT', 'WY']</td>\n",
       "        </tr>\n",
       "        <tr>\n",
       "            <td>Mormon Pioneer National Historic Trail</td>\n",
       "            <td>['IL', 'IA', 'NE', 'UT', 'WY']</td>\n",
       "        </tr>\n",
       "        <tr>\n",
       "            <td>Pony Express National Historic Trail</td>\n",
       "            <td>['CA', 'CO', 'KS', 'MO', 'NE', 'NV', 'UT', 'WY']</td>\n",
       "        </tr>\n",
       "    </tbody>\n",
       "</table>"
      ],
      "text/plain": [
       "+----------------------------------------+--------------------------------------------------------------+\n",
       "|                fullName                |                         states_list                          |\n",
       "+----------------------------------------+--------------------------------------------------------------+\n",
       "|   California National Historic Trail   | ['CA', 'CO', 'ID', 'KS', 'MO', 'NE', 'NV', 'OR', 'UT', 'WY'] |\n",
       "| Mormon Pioneer National Historic Trail |                ['IL', 'IA', 'NE', 'UT', 'WY']                |\n",
       "|  Pony Express National Historic Trail  |       ['CA', 'CO', 'KS', 'MO', 'NE', 'NV', 'UT', 'WY']       |\n",
       "+----------------------------------------+--------------------------------------------------------------+"
      ]
     },
     "execution_count": 22,
     "metadata": {},
     "output_type": "execute_result"
    }
   ],
   "source": [
    "%%sql\n",
    "-- Which parks are both in Utah and Wyoming?\n",
    "WITH park_states AS (\n",
    "    SELECT \n",
    "        fullname,\n",
    "        split(states, ',') ::string[] AS states_list\n",
    "    FROM nps_public_data.parks p\n",
    "    )\n",
    "SELECT \n",
    "    * \n",
    "FROM park_states\n",
    "WHERE list_has_all(states_list, ['UT', 'WY'])"
   ]
  },
  {
   "cell_type": "code",
   "execution_count": 23,
   "metadata": {
    "vscode": {
     "languageId": "sql"
    }
   },
   "outputs": [
    {
     "data": {
      "text/html": [
       "<span style=\"None\">Running query in &#x27;duckdb&#x27;</span>"
      ],
      "text/plain": [
       "Running query in 'duckdb'"
      ]
     },
     "metadata": {},
     "output_type": "display_data"
    },
    {
     "data": {
      "text/html": [
       "<table>\n",
       "    <thead>\n",
       "        <tr>\n",
       "            <th>fullName</th>\n",
       "            <th>states_list</th>\n",
       "        </tr>\n",
       "    </thead>\n",
       "    <tbody>\n",
       "        <tr>\n",
       "            <td>Cedar Breaks National Monument</td>\n",
       "            <td>['UT']</td>\n",
       "        </tr>\n",
       "        <tr>\n",
       "            <td>Yellowstone National Park</td>\n",
       "            <td>['ID', 'MT', 'WY']</td>\n",
       "        </tr>\n",
       "        <tr>\n",
       "            <td>Arches National Park</td>\n",
       "            <td>['UT']</td>\n",
       "        </tr>\n",
       "        <tr>\n",
       "            <td>Bryce Canyon National Park</td>\n",
       "            <td>['UT']</td>\n",
       "        </tr>\n",
       "        <tr>\n",
       "            <td>California National Historic Trail</td>\n",
       "            <td>['CA', 'CO', 'ID', 'KS', 'MO', 'NE', 'NV', 'OR', 'UT', 'WY']</td>\n",
       "        </tr>\n",
       "    </tbody>\n",
       "</table>"
      ],
      "text/plain": [
       "+------------------------------------+--------------------------------------------------------------+\n",
       "|              fullName              |                         states_list                          |\n",
       "+------------------------------------+--------------------------------------------------------------+\n",
       "|   Cedar Breaks National Monument   |                            ['UT']                            |\n",
       "|     Yellowstone National Park      |                      ['ID', 'MT', 'WY']                      |\n",
       "|        Arches National Park        |                            ['UT']                            |\n",
       "|     Bryce Canyon National Park     |                            ['UT']                            |\n",
       "| California National Historic Trail | ['CA', 'CO', 'ID', 'KS', 'MO', 'NE', 'NV', 'OR', 'UT', 'WY'] |\n",
       "+------------------------------------+--------------------------------------------------------------+"
      ]
     },
     "execution_count": 23,
     "metadata": {},
     "output_type": "execute_result"
    }
   ],
   "source": [
    "%%sql\n",
    "-- Which parks are in Utah and/or Wyoming?\n",
    "WITH park_states AS (\n",
    "    SELECT \n",
    "        fullname,\n",
    "        split(states, ',') ::string[] AS states_list\n",
    "    FROM nps_public_data.parks p\n",
    "    )\n",
    "SELECT \n",
    "    * \n",
    "FROM park_states\n",
    "WHERE list_has_any(states_list, ['UT', 'WY'])\n",
    "LIMIT 5"
   ]
  },
  {
   "cell_type": "markdown",
   "metadata": {},
   "source": [
    "To deduplicate our first query, we can group or use `DISTINCT`. We'll discuss in a later chapter, but grouping data without an aggregation can be used to collapse identical rows, though `DISTINCT` is a bit cleaner."
   ]
  },
  {
   "cell_type": "markdown",
   "metadata": {},
   "source": [
    "We can also filter values in some list using `IN`"
   ]
  },
  {
   "cell_type": "code",
   "execution_count": 26,
   "metadata": {
    "vscode": {
     "languageId": "sql"
    }
   },
   "outputs": [
    {
     "data": {
      "text/html": [
       "<span style=\"None\">Running query in &#x27;duckdb&#x27;</span>"
      ],
      "text/plain": [
       "Running query in 'duckdb'"
      ]
     },
     "metadata": {},
     "output_type": "display_data"
    },
    {
     "data": {
      "text/html": [
       "<table>\n",
       "    <thead>\n",
       "        <tr>\n",
       "            <th>id</th>\n",
       "            <th>fullName</th>\n",
       "            <th>states</th>\n",
       "            <th>description</th>\n",
       "        </tr>\n",
       "    </thead>\n",
       "    <tbody>\n",
       "        <tr>\n",
       "            <td>36240051-018E-4915-B6EA-3F1A7F24FBE4</td>\n",
       "            <td>Arches National Park</td>\n",
       "            <td>UT</td>\n",
       "            <td>Discover a landscape of contrasting colors, land forms, and textures unlike any other. The park has over 2,000 natural stone arches, hundreds of soaring pinnacles, massive rock fins, and giant balanced rocks. This red-rock wonderland will amaze you with its formations, refresh you with its trails, and inspire you with its sunsets.</td>\n",
       "        </tr>\n",
       "        <tr>\n",
       "            <td>6B1D053D-714F-46D1-B410-04BE868F14C1</td>\n",
       "            <td>Bryce Canyon National Park</td>\n",
       "            <td>UT</td>\n",
       "            <td>Hoodoos (irregular columns of rock) exist on every continent, but here is the largest concentration found anywhere on Earth. Situated along a high plateau at the top of the Grand Staircase, the park's high elevations include numerous life communities, fantastic dark skies, and geological wonders that defy description.</td>\n",
       "        </tr>\n",
       "        <tr>\n",
       "            <td>41BAB8ED-C95F-447D-9DA1-FCC4E4D808B2</td>\n",
       "            <td>Zion National Park</td>\n",
       "            <td>UT</td>\n",
       "            <td>Follow the paths where people have walked for thousands of years. Gaze up at massive sandstone cliffs of cream, pink, and red that soar into a brilliant blue sky. Experience wilderness in a narrow slot canyon. Zion’s unique array of plants and animals will enchant you as you absorb the rich history of the past and enjoy the excitement of present-day adventures.</td>\n",
       "        </tr>\n",
       "    </tbody>\n",
       "</table>"
      ],
      "text/plain": [
       "+--------------------------------------+----------------------------+--------+-----------------------------------------------------------------------------------------------------------------------------------------------------------------------------------------------------------------------------------------------------------------------------------------------------------------------------------------------------------------------------+\n",
       "|                  id                  |          fullName          | states |                                                                                                                                                                                 description                                                                                                                                                                                 |\n",
       "+--------------------------------------+----------------------------+--------+-----------------------------------------------------------------------------------------------------------------------------------------------------------------------------------------------------------------------------------------------------------------------------------------------------------------------------------------------------------------------------+\n",
       "| 36240051-018E-4915-B6EA-3F1A7F24FBE4 |    Arches National Park    |   UT   |                 Discover a landscape of contrasting colors, land forms, and textures unlike any other. The park has over 2,000 natural stone arches, hundreds of soaring pinnacles, massive rock fins, and giant balanced rocks. This red-rock wonderland will amaze you with its formations, refresh you with its trails, and inspire you with its sunsets.                |\n",
       "| 6B1D053D-714F-46D1-B410-04BE868F14C1 | Bryce Canyon National Park |   UT   |                       Hoodoos (irregular columns of rock) exist on every continent, but here is the largest concentration found anywhere on Earth. Situated along a high plateau at the top of the Grand Staircase, the park's high elevations include numerous life communities, fantastic dark skies, and geological wonders that defy description.                       |\n",
       "| 41BAB8ED-C95F-447D-9DA1-FCC4E4D808B2 |     Zion National Park     |   UT   | Follow the paths where people have walked for thousands of years. Gaze up at massive sandstone cliffs of cream, pink, and red that soar into a brilliant blue sky. Experience wilderness in a narrow slot canyon. Zion’s unique array of plants and animals will enchant you as you absorb the rich history of the past and enjoy the excitement of present-day adventures. |\n",
       "+--------------------------------------+----------------------------+--------+-----------------------------------------------------------------------------------------------------------------------------------------------------------------------------------------------------------------------------------------------------------------------------------------------------------------------------------------------------------------------------+"
      ]
     },
     "execution_count": 26,
     "metadata": {},
     "output_type": "execute_result"
    }
   ],
   "source": [
    "%%sql\n",
    "SELECT \n",
    "    id,\n",
    "    fullname,\n",
    "    states,\n",
    "    description\n",
    "FROM nps_public_data.parks p\n",
    "WHERE name IN ('Arches', 'Bryce Canyon', 'Zion')"
   ]
  },
  {
   "cell_type": "markdown",
   "metadata": {},
   "source": [
    "When we return cells, we can order the results using the `ORDER BY` clause. We can also `GROUP` results. We'll discuss grouping more in the next section on aggregations, but `GROUPING` can be used to eliminate duplicates, like `DISTINCT`"
   ]
  },
  {
   "cell_type": "code",
   "execution_count": 29,
   "metadata": {
    "vscode": {
     "languageId": "sql"
    }
   },
   "outputs": [
    {
     "data": {
      "text/html": [
       "<span style=\"None\">Running query in &#x27;duckdb&#x27;</span>"
      ],
      "text/plain": [
       "Running query in 'duckdb'"
      ]
     },
     "metadata": {},
     "output_type": "display_data"
    },
    {
     "data": {
      "text/html": [
       "<table>\n",
       "    <thead>\n",
       "        <tr>\n",
       "            <th>fullName</th>\n",
       "            <th>states</th>\n",
       "        </tr>\n",
       "    </thead>\n",
       "    <tbody>\n",
       "        <tr>\n",
       "            <td>Zion National Park</td>\n",
       "            <td>UT</td>\n",
       "        </tr>\n",
       "        <tr>\n",
       "            <td>Yukon - Charley Rivers National Preserve</td>\n",
       "            <td>AK</td>\n",
       "        </tr>\n",
       "        <tr>\n",
       "            <td>Yucca House National Monument</td>\n",
       "            <td>CO</td>\n",
       "        </tr>\n",
       "        <tr>\n",
       "            <td>Yosemite National Park</td>\n",
       "            <td>CA</td>\n",
       "        </tr>\n",
       "        <tr>\n",
       "            <td>Yorktown Battlefield Part of Colonial National Historical Park</td>\n",
       "            <td>VA</td>\n",
       "        </tr>\n",
       "    </tbody>\n",
       "</table>"
      ],
      "text/plain": [
       "+----------------------------------------------------------------+--------+\n",
       "|                            fullName                            | states |\n",
       "+----------------------------------------------------------------+--------+\n",
       "|                       Zion National Park                       |   UT   |\n",
       "|            Yukon - Charley Rivers National Preserve            |   AK   |\n",
       "|                 Yucca House National Monument                  |   CO   |\n",
       "|                     Yosemite National Park                     |   CA   |\n",
       "| Yorktown Battlefield Part of Colonial National Historical Park |   VA   |\n",
       "+----------------------------------------------------------------+--------+"
      ]
     },
     "execution_count": 29,
     "metadata": {},
     "output_type": "execute_result"
    }
   ],
   "source": [
    "%%sql\n",
    "SELECT\n",
    "    fullname,\n",
    "    states\n",
    "FROM nps_public_data.parks\n",
    "ORDER BY fullname DESC\n",
    "LIMIT 5"
   ]
  },
  {
   "cell_type": "code",
   "execution_count": 32,
   "metadata": {
    "vscode": {
     "languageId": "sql"
    }
   },
   "outputs": [
    {
     "data": {
      "text/html": [
       "<span style=\"None\">Running query in &#x27;duckdb&#x27;</span>"
      ],
      "text/plain": [
       "Running query in 'duckdb'"
      ]
     },
     "metadata": {},
     "output_type": "display_data"
    },
    {
     "data": {
      "text/html": [
       "<table>\n",
       "    <thead>\n",
       "        <tr>\n",
       "            <th>states</th>\n",
       "        </tr>\n",
       "    </thead>\n",
       "    <tbody>\n",
       "        <tr>\n",
       "            <td>WI</td>\n",
       "        </tr>\n",
       "        <tr>\n",
       "            <td>CO</td>\n",
       "        </tr>\n",
       "        <tr>\n",
       "            <td>OR</td>\n",
       "        </tr>\n",
       "        <tr>\n",
       "            <td>AK</td>\n",
       "        </tr>\n",
       "        <tr>\n",
       "            <td>MD,VA</td>\n",
       "        </tr>\n",
       "    </tbody>\n",
       "</table>"
      ],
      "text/plain": [
       "+--------+\n",
       "| states |\n",
       "+--------+\n",
       "|   WI   |\n",
       "|   CO   |\n",
       "|   OR   |\n",
       "|   AK   |\n",
       "| MD,VA  |\n",
       "+--------+"
      ]
     },
     "execution_count": 32,
     "metadata": {},
     "output_type": "execute_result"
    }
   ],
   "source": [
    "%%sql\n",
    "SELECT\n",
    "    DISTINCT states\n",
    "FROM nps_public_data.parks\n",
    "LIMIT 5"
   ]
  }
 ],
 "metadata": {
  "kernelspec": {
   "display_name": "lil-cdt",
   "language": "python",
   "name": "python3"
  },
  "language_info": {
   "codemirror_mode": {
    "name": "ipython",
    "version": 3
   },
   "file_extension": ".py",
   "mimetype": "text/x-python",
   "name": "python",
   "nbconvert_exporter": "python",
   "pygments_lexer": "ipython3",
   "version": "3.10.0"
  }
 },
 "nbformat": 4,
 "nbformat_minor": 2
}
