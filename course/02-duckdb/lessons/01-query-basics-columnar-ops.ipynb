{
 "cells": [
  {
   "cell_type": "markdown",
   "id": "1bd61496",
   "metadata": {},
   "source": [
    "**Goal**: Introduce basic SQL structure and show some example data transformations. Understand CTEs, aliases, and `CASE` statements. Preview boolean logic, `COALESCE`, `NOT NULL`, and other forms of filtering."
   ]
  },
  {
   "cell_type": "code",
   "execution_count": 15,
   "id": "37125b65-2361-44e2-80e4-18f2b215a5bb",
   "metadata": {},
   "outputs": [
    {
     "name": "stdout",
     "output_type": "stream",
     "text": [
      "The sql extension is already loaded. To reload it, use:\n",
      "  %reload_ext sql\n"
     ]
    },
    {
     "data": {
      "text/html": [
       "<span style=\"None\">Running query in &#x27;duckdb&#x27;</span>"
      ],
      "text/plain": [
       "Running query in 'duckdb'"
      ]
     },
     "metadata": {},
     "output_type": "display_data"
    },
    {
     "data": {
      "text/html": [
       "<table>\n",
       "    <thead>\n",
       "        <tr>\n",
       "            <th>Count</th>\n",
       "        </tr>\n",
       "    </thead>\n",
       "    <tbody>\n",
       "        <tr>\n",
       "            <td>224</td>\n",
       "        </tr>\n",
       "    </tbody>\n",
       "</table>"
      ],
      "text/plain": [
       "+-------+\n",
       "| Count |\n",
       "+-------+\n",
       "|  224  |\n",
       "+-------+"
      ]
     },
     "execution_count": 15,
     "metadata": {},
     "output_type": "execute_result"
    }
   ],
   "source": [
    "import duckdb\n",
    "\n",
    "# Load SQL extension, configure display limit\n",
    "%load_ext sql\n",
    "%config SqlMagic.displaylimit = 0\n",
    "\n",
    "# Initialize 🦆 DuckDB connection\n",
    "conn = duckdb.connect()\n",
    "\n",
    "# Import database\n",
    "%sql conn --alias duckdb\n",
    "%sql IMPORT DATABASE '../../data/nps';"
   ]
  },
  {
   "cell_type": "markdown",
   "id": "7137f423",
   "metadata": {},
   "source": [
    "We often deal with a mix of structured and semi-structured data in SQL transformations, let's see what our parks dataset looks like."
   ]
  },
  {
   "cell_type": "code",
   "execution_count": 4,
   "id": "1e4905ec-b2d8-4db5-9a20-db4edda23bef",
   "metadata": {
    "vscode": {
     "languageId": "sql"
    }
   },
   "outputs": [
    {
     "data": {
      "text/html": [
       "<span style=\"None\">Running query in &#x27;duckdb&#x27;</span>"
      ],
      "text/plain": [
       "Running query in 'duckdb'"
      ]
     },
     "metadata": {},
     "output_type": "display_data"
    },
    {
     "data": {
      "text/html": [
       "<table>\n",
       "    <thead>\n",
       "        <tr>\n",
       "            <th>column_name</th>\n",
       "            <th>column_type</th>\n",
       "            <th>null</th>\n",
       "            <th>key</th>\n",
       "            <th>default</th>\n",
       "            <th>extra</th>\n",
       "        </tr>\n",
       "    </thead>\n",
       "    <tbody>\n",
       "        <tr>\n",
       "            <td>relevanceScore</td>\n",
       "            <td>BIGINT</td>\n",
       "            <td>YES</td>\n",
       "            <td>None</td>\n",
       "            <td>None</td>\n",
       "            <td>None</td>\n",
       "        </tr>\n",
       "        <tr>\n",
       "            <td>designation</td>\n",
       "            <td>VARCHAR</td>\n",
       "            <td>YES</td>\n",
       "            <td>None</td>\n",
       "            <td>None</td>\n",
       "            <td>None</td>\n",
       "        </tr>\n",
       "        <tr>\n",
       "            <td>weatherInfo</td>\n",
       "            <td>VARCHAR</td>\n",
       "            <td>YES</td>\n",
       "            <td>None</td>\n",
       "            <td>None</td>\n",
       "            <td>None</td>\n",
       "        </tr>\n",
       "        <tr>\n",
       "            <td>addresses</td>\n",
       "            <td>STRUCT(\"type\" VARCHAR, line2 VARCHAR, line1 VARCHAR, stateCode VARCHAR, countryCode VARCHAR, line3 VARCHAR, city VARCHAR, provinceTerritoryCode VARCHAR, postalCode VARCHAR)[]</td>\n",
       "            <td>YES</td>\n",
       "            <td>None</td>\n",
       "            <td>None</td>\n",
       "            <td>None</td>\n",
       "        </tr>\n",
       "        <tr>\n",
       "            <td>operatingHours</td>\n",
       "            <td>STRUCT(\"name\" VARCHAR, standardHours STRUCT(friday VARCHAR, sunday VARCHAR, thursday VARCHAR, tuesday VARCHAR, saturday VARCHAR, monday VARCHAR, wednesday VARCHAR), description VARCHAR, exceptions STRUCT(endDate DATE, \"name\" VARCHAR, startDate DATE, exceptionHours STRUCT(friday VARCHAR, sunday VARCHAR, thursday VARCHAR, tuesday VARCHAR, saturday VARCHAR, monday VARCHAR, wednesday VARCHAR))[])[]</td>\n",
       "            <td>YES</td>\n",
       "            <td>None</td>\n",
       "            <td>None</td>\n",
       "            <td>None</td>\n",
       "        </tr>\n",
       "        <tr>\n",
       "            <td>entrancePasses</td>\n",
       "            <td>STRUCT(description VARCHAR, title VARCHAR, \"cost\" DOUBLE)[]</td>\n",
       "            <td>YES</td>\n",
       "            <td>None</td>\n",
       "            <td>None</td>\n",
       "            <td>None</td>\n",
       "        </tr>\n",
       "        <tr>\n",
       "            <td>name</td>\n",
       "            <td>VARCHAR</td>\n",
       "            <td>YES</td>\n",
       "            <td>None</td>\n",
       "            <td>None</td>\n",
       "            <td>None</td>\n",
       "        </tr>\n",
       "        <tr>\n",
       "            <td>description</td>\n",
       "            <td>VARCHAR</td>\n",
       "            <td>YES</td>\n",
       "            <td>None</td>\n",
       "            <td>None</td>\n",
       "            <td>None</td>\n",
       "        </tr>\n",
       "        <tr>\n",
       "            <td>directionsUrl</td>\n",
       "            <td>VARCHAR</td>\n",
       "            <td>YES</td>\n",
       "            <td>None</td>\n",
       "            <td>None</td>\n",
       "            <td>None</td>\n",
       "        </tr>\n",
       "        <tr>\n",
       "            <td>fees</td>\n",
       "            <td>VARCHAR[]</td>\n",
       "            <td>YES</td>\n",
       "            <td>None</td>\n",
       "            <td>None</td>\n",
       "            <td>None</td>\n",
       "        </tr>\n",
       "        <tr>\n",
       "            <td>topics</td>\n",
       "            <td>STRUCT(\"name\" VARCHAR, id VARCHAR)[]</td>\n",
       "            <td>YES</td>\n",
       "            <td>None</td>\n",
       "            <td>None</td>\n",
       "            <td>None</td>\n",
       "        </tr>\n",
       "        <tr>\n",
       "            <td>states</td>\n",
       "            <td>VARCHAR</td>\n",
       "            <td>YES</td>\n",
       "            <td>None</td>\n",
       "            <td>None</td>\n",
       "            <td>None</td>\n",
       "        </tr>\n",
       "        <tr>\n",
       "            <td>entranceFees</td>\n",
       "            <td>STRUCT(description VARCHAR, title VARCHAR, \"cost\" DOUBLE)[]</td>\n",
       "            <td>YES</td>\n",
       "            <td>None</td>\n",
       "            <td>None</td>\n",
       "            <td>None</td>\n",
       "        </tr>\n",
       "        <tr>\n",
       "            <td>contacts</td>\n",
       "            <td>STRUCT(emailAddresses STRUCT(emailAddress VARCHAR, description VARCHAR)[], phoneNumbers STRUCT(\"extension\" BIGINT, \"type\" VARCHAR, description VARCHAR, phoneNumber VARCHAR)[])</td>\n",
       "            <td>YES</td>\n",
       "            <td>None</td>\n",
       "            <td>None</td>\n",
       "            <td>None</td>\n",
       "        </tr>\n",
       "        <tr>\n",
       "            <td>activities</td>\n",
       "            <td>STRUCT(\"name\" VARCHAR, id VARCHAR)[]</td>\n",
       "            <td>YES</td>\n",
       "            <td>None</td>\n",
       "            <td>None</td>\n",
       "            <td>None</td>\n",
       "        </tr>\n",
       "        <tr>\n",
       "            <td>url</td>\n",
       "            <td>VARCHAR</td>\n",
       "            <td>YES</td>\n",
       "            <td>None</td>\n",
       "            <td>None</td>\n",
       "            <td>None</td>\n",
       "        </tr>\n",
       "        <tr>\n",
       "            <td>longitude</td>\n",
       "            <td>DOUBLE</td>\n",
       "            <td>YES</td>\n",
       "            <td>None</td>\n",
       "            <td>None</td>\n",
       "            <td>None</td>\n",
       "        </tr>\n",
       "        <tr>\n",
       "            <td>id</td>\n",
       "            <td>VARCHAR</td>\n",
       "            <td>YES</td>\n",
       "            <td>None</td>\n",
       "            <td>None</td>\n",
       "            <td>None</td>\n",
       "        </tr>\n",
       "        <tr>\n",
       "            <td>images</td>\n",
       "            <td>STRUCT(url VARCHAR, caption VARCHAR, altText VARCHAR, title VARCHAR, credit VARCHAR)[]</td>\n",
       "            <td>YES</td>\n",
       "            <td>None</td>\n",
       "            <td>None</td>\n",
       "            <td>None</td>\n",
       "        </tr>\n",
       "        <tr>\n",
       "            <td>directionsInfo</td>\n",
       "            <td>VARCHAR</td>\n",
       "            <td>YES</td>\n",
       "            <td>None</td>\n",
       "            <td>None</td>\n",
       "            <td>None</td>\n",
       "        </tr>\n",
       "        <tr>\n",
       "            <td>fullName</td>\n",
       "            <td>VARCHAR</td>\n",
       "            <td>YES</td>\n",
       "            <td>None</td>\n",
       "            <td>None</td>\n",
       "            <td>None</td>\n",
       "        </tr>\n",
       "        <tr>\n",
       "            <td>parkCode</td>\n",
       "            <td>VARCHAR</td>\n",
       "            <td>YES</td>\n",
       "            <td>None</td>\n",
       "            <td>None</td>\n",
       "            <td>None</td>\n",
       "        </tr>\n",
       "        <tr>\n",
       "            <td>latLong</td>\n",
       "            <td>VARCHAR</td>\n",
       "            <td>YES</td>\n",
       "            <td>None</td>\n",
       "            <td>None</td>\n",
       "            <td>None</td>\n",
       "        </tr>\n",
       "        <tr>\n",
       "            <td>latitude</td>\n",
       "            <td>DOUBLE</td>\n",
       "            <td>YES</td>\n",
       "            <td>None</td>\n",
       "            <td>None</td>\n",
       "            <td>None</td>\n",
       "        </tr>\n",
       "    </tbody>\n",
       "</table>"
      ],
      "text/plain": [
       "+----------------+---------------------------------------------------------------------------------------------------------------------------------------------------------------------------------------------------------------------------------------------------------------------------------------------------------------------------------------------------------------------------------------------------------------+------+------+---------+-------+\n",
       "|  column_name   |                                                                                                                                                                                                  column_type                                                                                                                                                                                                  | null | key  | default | extra |\n",
       "+----------------+---------------------------------------------------------------------------------------------------------------------------------------------------------------------------------------------------------------------------------------------------------------------------------------------------------------------------------------------------------------------------------------------------------------+------+------+---------+-------+\n",
       "| relevanceScore |                                                                                                                                                                                                     BIGINT                                                                                                                                                                                                    | YES  | None |   None  |  None |\n",
       "|  designation   |                                                                                                                                                                                                    VARCHAR                                                                                                                                                                                                    | YES  | None |   None  |  None |\n",
       "|  weatherInfo   |                                                                                                                                                                                                    VARCHAR                                                                                                                                                                                                    | YES  | None |   None  |  None |\n",
       "|   addresses    |                                                                                                                 STRUCT(\"type\" VARCHAR, line2 VARCHAR, line1 VARCHAR, stateCode VARCHAR, countryCode VARCHAR, line3 VARCHAR, city VARCHAR, provinceTerritoryCode VARCHAR, postalCode VARCHAR)[]                                                                                                                | YES  | None |   None  |  None |\n",
       "| operatingHours | STRUCT(\"name\" VARCHAR, standardHours STRUCT(friday VARCHAR, sunday VARCHAR, thursday VARCHAR, tuesday VARCHAR, saturday VARCHAR, monday VARCHAR, wednesday VARCHAR), description VARCHAR, exceptions STRUCT(endDate DATE, \"name\" VARCHAR, startDate DATE, exceptionHours STRUCT(friday VARCHAR, sunday VARCHAR, thursday VARCHAR, tuesday VARCHAR, saturday VARCHAR, monday VARCHAR, wednesday VARCHAR))[])[] | YES  | None |   None  |  None |\n",
       "| entrancePasses |                                                                                                                                                                          STRUCT(description VARCHAR, title VARCHAR, \"cost\" DOUBLE)[]                                                                                                                                                                          | YES  | None |   None  |  None |\n",
       "|      name      |                                                                                                                                                                                                    VARCHAR                                                                                                                                                                                                    | YES  | None |   None  |  None |\n",
       "|  description   |                                                                                                                                                                                                    VARCHAR                                                                                                                                                                                                    | YES  | None |   None  |  None |\n",
       "| directionsUrl  |                                                                                                                                                                                                    VARCHAR                                                                                                                                                                                                    | YES  | None |   None  |  None |\n",
       "|      fees      |                                                                                                                                                                                                   VARCHAR[]                                                                                                                                                                                                   | YES  | None |   None  |  None |\n",
       "|     topics     |                                                                                                                                                                                      STRUCT(\"name\" VARCHAR, id VARCHAR)[]                                                                                                                                                                                     | YES  | None |   None  |  None |\n",
       "|     states     |                                                                                                                                                                                                    VARCHAR                                                                                                                                                                                                    | YES  | None |   None  |  None |\n",
       "|  entranceFees  |                                                                                                                                                                          STRUCT(description VARCHAR, title VARCHAR, \"cost\" DOUBLE)[]                                                                                                                                                                          | YES  | None |   None  |  None |\n",
       "|    contacts    |                                                                                                                STRUCT(emailAddresses STRUCT(emailAddress VARCHAR, description VARCHAR)[], phoneNumbers STRUCT(\"extension\" BIGINT, \"type\" VARCHAR, description VARCHAR, phoneNumber VARCHAR)[])                                                                                                                | YES  | None |   None  |  None |\n",
       "|   activities   |                                                                                                                                                                                      STRUCT(\"name\" VARCHAR, id VARCHAR)[]                                                                                                                                                                                     | YES  | None |   None  |  None |\n",
       "|      url       |                                                                                                                                                                                                    VARCHAR                                                                                                                                                                                                    | YES  | None |   None  |  None |\n",
       "|   longitude    |                                                                                                                                                                                                     DOUBLE                                                                                                                                                                                                    | YES  | None |   None  |  None |\n",
       "|       id       |                                                                                                                                                                                                    VARCHAR                                                                                                                                                                                                    | YES  | None |   None  |  None |\n",
       "|     images     |                                                                                                                                                             STRUCT(url VARCHAR, caption VARCHAR, altText VARCHAR, title VARCHAR, credit VARCHAR)[]                                                                                                                                                            | YES  | None |   None  |  None |\n",
       "| directionsInfo |                                                                                                                                                                                                    VARCHAR                                                                                                                                                                                                    | YES  | None |   None  |  None |\n",
       "|    fullName    |                                                                                                                                                                                                    VARCHAR                                                                                                                                                                                                    | YES  | None |   None  |  None |\n",
       "|    parkCode    |                                                                                                                                                                                                    VARCHAR                                                                                                                                                                                                    | YES  | None |   None  |  None |\n",
       "|    latLong     |                                                                                                                                                                                                    VARCHAR                                                                                                                                                                                                    | YES  | None |   None  |  None |\n",
       "|    latitude    |                                                                                                                                                                                                     DOUBLE                                                                                                                                                                                                    | YES  | None |   None  |  None |\n",
       "+----------------+---------------------------------------------------------------------------------------------------------------------------------------------------------------------------------------------------------------------------------------------------------------------------------------------------------------------------------------------------------------------------------------------------------------+------+------+---------+-------+"
      ]
     },
     "execution_count": 4,
     "metadata": {},
     "output_type": "execute_result"
    }
   ],
   "source": [
    "%%sql\n",
    "DESCRIBE nps_public_data.parks"
   ]
  },
  {
   "cell_type": "markdown",
   "id": "1e4c4260",
   "metadata": {},
   "source": [
    "Note the type of `operatingHours`— `STRUCT`! That means it's a list or JSON."
   ]
  },
  {
   "cell_type": "code",
   "execution_count": 5,
   "id": "fd969db8-3815-42af-aa81-6598b14da5f8",
   "metadata": {
    "vscode": {
     "languageId": "sql"
    }
   },
   "outputs": [
    {
     "data": {
      "text/html": [
       "<span style=\"None\">Running query in &#x27;duckdb&#x27;</span>"
      ],
      "text/plain": [
       "Running query in 'duckdb'"
      ]
     },
     "metadata": {},
     "output_type": "display_data"
    },
    {
     "data": {
      "text/html": [
       "<table>\n",
       "    <thead>\n",
       "        <tr>\n",
       "            <th>name</th>\n",
       "            <th>operating_hours</th>\n",
       "        </tr>\n",
       "    </thead>\n",
       "    <tbody>\n",
       "        <tr>\n",
       "            <td>Federal Hall</td>\n",
       "            <td>[{'name': 'Hours of Operation', 'standardHours': {'friday': '10:00AM - 5:00PM', 'sunday': 'Closed', 'thursday': '10:00AM - 5:00PM', 'tuesday': '10:00AM - 5:00PM', 'saturday': 'Closed', 'monday': '10:00AM - 5:00PM', 'wednesday': '10:00AM - 5:00PM'}, 'description': 'Federal Hall is Open.', 'exceptions': [{'endDate': datetime.date(2025, 1, 15), 'name': 'Martin Luther King Jr. Day', 'startDate': datetime.date(2025, 1, 15), 'exceptionHours': {'friday': None, 'sunday': None, 'thursday': None, 'tuesday': None, 'saturday': None, 'monday': '10:00AM - 5:00PM', 'wednesday': None}}, {'endDate': datetime.date(2024, 2, 19), 'name': \"Washington's Birthday\", 'startDate': datetime.date(2024, 2, 19), 'exceptionHours': {'friday': None, 'sunday': None, 'thursday': None, 'tuesday': None, 'saturday': None, 'monday': '10:00AM - 5:00PM', 'wednesday': None}}, {'endDate': datetime.date(2024, 5, 27), 'name': 'Memorial Day', 'startDate': datetime.date(2024, 5, 27), 'exceptionHours': {'friday': None, 'sunday': None, 'thursday': None, 'tuesday': None, 'saturday': None, 'monday': '10:00AM - 5:00PM', 'wednesday': None}}, {'endDate': datetime.date(2024, 6, 19), 'name': 'Juneteenth', 'startDate': datetime.date(2024, 6, 19), 'exceptionHours': {'friday': None, 'sunday': None, 'thursday': None, 'tuesday': None, 'saturday': None, 'monday': None, 'wednesday': '10:00AM - 5:00PM'}}, {'endDate': datetime.date(2024, 7, 4), 'name': 'Independence Day', 'startDate': datetime.date(2024, 7, 4), 'exceptionHours': {'friday': None, 'sunday': None, 'thursday': '10:00AM - 5:00PM', 'tuesday': None, 'saturday': None, 'monday': None, 'wednesday': None}}, {'endDate': datetime.date(2024, 9, 2), 'name': 'Labor Day', 'startDate': datetime.date(2024, 9, 2), 'exceptionHours': {'friday': None, 'sunday': None, 'thursday': None, 'tuesday': None, 'saturday': None, 'monday': '10:00AM - 5:00PM', 'wednesday': None}}, {'endDate': datetime.date(2024, 10, 7), 'name': 'Columbus Day', 'startDate': datetime.date(2024, 10, 7), 'exceptionHours': {'friday': None, 'sunday': None, 'thursday': None, 'tuesday': None, 'saturday': None, 'monday': '10:00AM - 5:00PM', 'wednesday': None}}, {'endDate': datetime.date(2024, 11, 11), 'name': 'Veterans Day', 'startDate': datetime.date(2024, 11, 11), 'exceptionHours': {'friday': None, 'sunday': None, 'thursday': None, 'tuesday': None, 'saturday': None, 'monday': '10:00AM - 5:00PM', 'wednesday': None}}, {'endDate': datetime.date(2024, 11, 28), 'name': 'Thanksgiving', 'startDate': datetime.date(2024, 11, 28), 'exceptionHours': {'friday': None, 'sunday': None, 'thursday': 'Closed', 'tuesday': None, 'saturday': None, 'monday': None, 'wednesday': None}}, {'endDate': datetime.date(2024, 12, 25), 'name': 'Christmas Day', 'startDate': datetime.date(2024, 12, 25), 'exceptionHours': {'friday': None, 'sunday': None, 'thursday': None, 'tuesday': None, 'saturday': None, 'monday': None, 'wednesday': 'Closed'}}, {'endDate': datetime.date(2025, 1, 1), 'name': \"New Year's Day\", 'startDate': datetime.date(2025, 1, 1), 'exceptionHours': {'friday': None, 'sunday': None, 'thursday': None, 'tuesday': None, 'saturday': None, 'monday': None, 'wednesday': 'Closed'}}]}]</td>\n",
       "        </tr>\n",
       "    </tbody>\n",
       "</table>"
      ],
      "text/plain": [
       "+--------------+------------------------------------------------------------------------------------------------------------------------------------------------------------------------------------------------------------------------------------------------------------------------------------------------------------------------------------------------------------------------------------------------------------------------------------------------------------------------------------------------------------------------------------------------------------------------------------------------------------------------------------------------------------------------------------------------------------------------------------------------------------------------------------------------------------------------------------------------------------------------------------------------------------------------------------------------------------------------------------------------------------------------------------------------------------------------------------------------------------------------------------------------------------------------------------------------------------------------------------------------------------------------------------------------------------------------------------------------------------------------------------------------------------------------------------------------------------------------------------------------------------------------------------------------------------------------------------------------------------------------------------------------------------------------------------------------------------------------------------------------------------------------------------------------------------------------------------------------------------------------------------------------------------------------------------------------------------------------------------------------------------------------------------------------------------------------------------------------------------------------------------------------------------------------------------------------------------------------------------------------------------------------------------------------------------------------------------------------------------------------------------------------------------------------------------------------------------------------------------------------------------------------------------------------------------------------------------------------------------------------------------------------------------------------------------------------------------------------------------------------------------------------------------------------------------------------------------------------------------------------------------------------------------------------------------------------------------------------------------------------------------------------------------------------------------------------------------------------------------------------------------------------------------------------------------------------------------------------------------------------------------------------------------------+\n",
       "|     name     |                                                                                                                                                                                                                                                                                                                                                                                                                                                                                                                                                                                                                                                                                                                                                                                                                                                                                                                                                                                                                                                                                                                                                                                                                                                                                                                                                                                                                                                                                                                                                                                                                                     operating_hours                                                                                                                                                                                                                                                                                                                                                                                                                                                                                                                                                                                                                                                                                                                                                                                                                                                                                                                                                                                                                                                                                                                                                                                                                                                                                                                                                                                                                                                                                                                                                                                                                                      |\n",
       "+--------------+------------------------------------------------------------------------------------------------------------------------------------------------------------------------------------------------------------------------------------------------------------------------------------------------------------------------------------------------------------------------------------------------------------------------------------------------------------------------------------------------------------------------------------------------------------------------------------------------------------------------------------------------------------------------------------------------------------------------------------------------------------------------------------------------------------------------------------------------------------------------------------------------------------------------------------------------------------------------------------------------------------------------------------------------------------------------------------------------------------------------------------------------------------------------------------------------------------------------------------------------------------------------------------------------------------------------------------------------------------------------------------------------------------------------------------------------------------------------------------------------------------------------------------------------------------------------------------------------------------------------------------------------------------------------------------------------------------------------------------------------------------------------------------------------------------------------------------------------------------------------------------------------------------------------------------------------------------------------------------------------------------------------------------------------------------------------------------------------------------------------------------------------------------------------------------------------------------------------------------------------------------------------------------------------------------------------------------------------------------------------------------------------------------------------------------------------------------------------------------------------------------------------------------------------------------------------------------------------------------------------------------------------------------------------------------------------------------------------------------------------------------------------------------------------------------------------------------------------------------------------------------------------------------------------------------------------------------------------------------------------------------------------------------------------------------------------------------------------------------------------------------------------------------------------------------------------------------------------------------------------------------------------------------------+\n",
       "| Federal Hall | [{'name': 'Hours of Operation', 'standardHours': {'friday': '10:00AM - 5:00PM', 'sunday': 'Closed', 'thursday': '10:00AM - 5:00PM', 'tuesday': '10:00AM - 5:00PM', 'saturday': 'Closed', 'monday': '10:00AM - 5:00PM', 'wednesday': '10:00AM - 5:00PM'}, 'description': 'Federal Hall is Open.', 'exceptions': [{'endDate': datetime.date(2025, 1, 15), 'name': 'Martin Luther King Jr. Day', 'startDate': datetime.date(2025, 1, 15), 'exceptionHours': {'friday': None, 'sunday': None, 'thursday': None, 'tuesday': None, 'saturday': None, 'monday': '10:00AM - 5:00PM', 'wednesday': None}}, {'endDate': datetime.date(2024, 2, 19), 'name': \"Washington's Birthday\", 'startDate': datetime.date(2024, 2, 19), 'exceptionHours': {'friday': None, 'sunday': None, 'thursday': None, 'tuesday': None, 'saturday': None, 'monday': '10:00AM - 5:00PM', 'wednesday': None}}, {'endDate': datetime.date(2024, 5, 27), 'name': 'Memorial Day', 'startDate': datetime.date(2024, 5, 27), 'exceptionHours': {'friday': None, 'sunday': None, 'thursday': None, 'tuesday': None, 'saturday': None, 'monday': '10:00AM - 5:00PM', 'wednesday': None}}, {'endDate': datetime.date(2024, 6, 19), 'name': 'Juneteenth', 'startDate': datetime.date(2024, 6, 19), 'exceptionHours': {'friday': None, 'sunday': None, 'thursday': None, 'tuesday': None, 'saturday': None, 'monday': None, 'wednesday': '10:00AM - 5:00PM'}}, {'endDate': datetime.date(2024, 7, 4), 'name': 'Independence Day', 'startDate': datetime.date(2024, 7, 4), 'exceptionHours': {'friday': None, 'sunday': None, 'thursday': '10:00AM - 5:00PM', 'tuesday': None, 'saturday': None, 'monday': None, 'wednesday': None}}, {'endDate': datetime.date(2024, 9, 2), 'name': 'Labor Day', 'startDate': datetime.date(2024, 9, 2), 'exceptionHours': {'friday': None, 'sunday': None, 'thursday': None, 'tuesday': None, 'saturday': None, 'monday': '10:00AM - 5:00PM', 'wednesday': None}}, {'endDate': datetime.date(2024, 10, 7), 'name': 'Columbus Day', 'startDate': datetime.date(2024, 10, 7), 'exceptionHours': {'friday': None, 'sunday': None, 'thursday': None, 'tuesday': None, 'saturday': None, 'monday': '10:00AM - 5:00PM', 'wednesday': None}}, {'endDate': datetime.date(2024, 11, 11), 'name': 'Veterans Day', 'startDate': datetime.date(2024, 11, 11), 'exceptionHours': {'friday': None, 'sunday': None, 'thursday': None, 'tuesday': None, 'saturday': None, 'monday': '10:00AM - 5:00PM', 'wednesday': None}}, {'endDate': datetime.date(2024, 11, 28), 'name': 'Thanksgiving', 'startDate': datetime.date(2024, 11, 28), 'exceptionHours': {'friday': None, 'sunday': None, 'thursday': 'Closed', 'tuesday': None, 'saturday': None, 'monday': None, 'wednesday': None}}, {'endDate': datetime.date(2024, 12, 25), 'name': 'Christmas Day', 'startDate': datetime.date(2024, 12, 25), 'exceptionHours': {'friday': None, 'sunday': None, 'thursday': None, 'tuesday': None, 'saturday': None, 'monday': None, 'wednesday': 'Closed'}}, {'endDate': datetime.date(2025, 1, 1), 'name': \"New Year's Day\", 'startDate': datetime.date(2025, 1, 1), 'exceptionHours': {'friday': None, 'sunday': None, 'thursday': None, 'tuesday': None, 'saturday': None, 'monday': None, 'wednesday': 'Closed'}}]}] |\n",
       "+--------------+------------------------------------------------------------------------------------------------------------------------------------------------------------------------------------------------------------------------------------------------------------------------------------------------------------------------------------------------------------------------------------------------------------------------------------------------------------------------------------------------------------------------------------------------------------------------------------------------------------------------------------------------------------------------------------------------------------------------------------------------------------------------------------------------------------------------------------------------------------------------------------------------------------------------------------------------------------------------------------------------------------------------------------------------------------------------------------------------------------------------------------------------------------------------------------------------------------------------------------------------------------------------------------------------------------------------------------------------------------------------------------------------------------------------------------------------------------------------------------------------------------------------------------------------------------------------------------------------------------------------------------------------------------------------------------------------------------------------------------------------------------------------------------------------------------------------------------------------------------------------------------------------------------------------------------------------------------------------------------------------------------------------------------------------------------------------------------------------------------------------------------------------------------------------------------------------------------------------------------------------------------------------------------------------------------------------------------------------------------------------------------------------------------------------------------------------------------------------------------------------------------------------------------------------------------------------------------------------------------------------------------------------------------------------------------------------------------------------------------------------------------------------------------------------------------------------------------------------------------------------------------------------------------------------------------------------------------------------------------------------------------------------------------------------------------------------------------------------------------------------------------------------------------------------------------------------------------------------------------------------------------------------------------------+"
      ]
     },
     "execution_count": 5,
     "metadata": {},
     "output_type": "execute_result"
    }
   ],
   "source": [
    "%%sql\n",
    "-- Callout: query structuring, LIMIT statements\n",
    "SELECT \n",
    "    name, \n",
    "    operatingHours as operating_hours\n",
    "FROM nps_public_data.parks \n",
    "LIMIT 1"
   ]
  },
  {
   "cell_type": "markdown",
   "id": "09db876d",
   "metadata": {},
   "source": [
    "What if we want to create an `operatingHours` table? We can unpack `json` using `UNNEST`"
   ]
  },
  {
   "cell_type": "code",
   "execution_count": 6,
   "id": "58e31110",
   "metadata": {
    "vscode": {
     "languageId": "sql"
    }
   },
   "outputs": [
    {
     "data": {
      "text/html": [
       "<span style=\"None\">Running query in &#x27;duckdb&#x27;</span>"
      ],
      "text/plain": [
       "Running query in 'duckdb'"
      ]
     },
     "metadata": {},
     "output_type": "display_data"
    },
    {
     "data": {
      "text/html": [
       "<table>\n",
       "    <thead>\n",
       "        <tr>\n",
       "            <th>park_name</th>\n",
       "            <th>park_id</th>\n",
       "            <th>friday</th>\n",
       "            <th>sunday</th>\n",
       "            <th>thursday</th>\n",
       "            <th>tuesday</th>\n",
       "            <th>saturday</th>\n",
       "            <th>monday</th>\n",
       "            <th>wednesday</th>\n",
       "            <th>description</th>\n",
       "            <th>category</th>\n",
       "        </tr>\n",
       "    </thead>\n",
       "    <tbody>\n",
       "        <tr>\n",
       "            <td>Federal Hall</td>\n",
       "            <td>2337D255-2D32-4997-957A-D461EEA03AF8</td>\n",
       "            <td>10:00AM - 5:00PM</td>\n",
       "            <td>Closed</td>\n",
       "            <td>10:00AM - 5:00PM</td>\n",
       "            <td>10:00AM - 5:00PM</td>\n",
       "            <td>Closed</td>\n",
       "            <td>10:00AM - 5:00PM</td>\n",
       "            <td>10:00AM - 5:00PM</td>\n",
       "            <td>Federal Hall is Open.</td>\n",
       "            <td>Hours of Operation</td>\n",
       "        </tr>\n",
       "        <tr>\n",
       "            <td>Lewis & Clark</td>\n",
       "            <td>5D443C5F-19A0-4A06-9CE4-30534A3DD81A</td>\n",
       "            <td>8:30AM - 4:30PM</td>\n",
       "            <td>Closed</td>\n",
       "            <td>8:30AM - 4:30PM</td>\n",
       "            <td>8:30AM - 4:30PM</td>\n",
       "            <td>Closed</td>\n",
       "            <td>8:30AM - 4:30PM</td>\n",
       "            <td>8:30AM - 4:30PM</td>\n",
       "            <td>Lewis and Clark National Historic Trail Visitor Center is located on the Missouri River in Omaha, Nebraska.</td>\n",
       "            <td>Visitor Center Hours</td>\n",
       "        </tr>\n",
       "    </tbody>\n",
       "</table>"
      ],
      "text/plain": [
       "+---------------+--------------------------------------+------------------+--------+------------------+------------------+----------+------------------+------------------+-------------------------------------------------------------------------------------------------------------+----------------------+\n",
       "|   park_name   |               park_id                |      friday      | sunday |     thursday     |     tuesday      | saturday |      monday      |    wednesday     |                                                 description                                                 |       category       |\n",
       "+---------------+--------------------------------------+------------------+--------+------------------+------------------+----------+------------------+------------------+-------------------------------------------------------------------------------------------------------------+----------------------+\n",
       "|  Federal Hall | 2337D255-2D32-4997-957A-D461EEA03AF8 | 10:00AM - 5:00PM | Closed | 10:00AM - 5:00PM | 10:00AM - 5:00PM |  Closed  | 10:00AM - 5:00PM | 10:00AM - 5:00PM |                                            Federal Hall is Open.                                            |  Hours of Operation  |\n",
       "| Lewis & Clark | 5D443C5F-19A0-4A06-9CE4-30534A3DD81A | 8:30AM - 4:30PM  | Closed | 8:30AM - 4:30PM  | 8:30AM - 4:30PM  |  Closed  | 8:30AM - 4:30PM  | 8:30AM - 4:30PM  | Lewis and Clark National Historic Trail Visitor Center is located on the Missouri River in Omaha, Nebraska. | Visitor Center Hours |\n",
       "+---------------+--------------------------------------+------------------+--------+------------------+------------------+----------+------------------+------------------+-------------------------------------------------------------------------------------------------------------+----------------------+"
      ]
     },
     "execution_count": 6,
     "metadata": {},
     "output_type": "execute_result"
    }
   ],
   "source": [
    "%%sql\n",
    "-- Callout: CTEs, UNNEST\n",
    "WITH park_hours AS (\n",
    "    SELECT \n",
    "        name as park_name, \n",
    "        id as park_id, \n",
    "        UNNEST(operatingHours, recursive := true)\n",
    "    FROM nps_public_data.parks\n",
    ")\n",
    "SELECT \n",
    "    * EXCLUDE (exceptions, name),\n",
    "    name as category\n",
    "FROM park_hours\n",
    "LIMIT 2"
   ]
  },
  {
   "cell_type": "markdown",
   "id": "d7d31324",
   "metadata": {},
   "source": [
    "Notice how we use a CTE to make the query easy-to-read and logical. Now we can create a table with the result."
   ]
  },
  {
   "cell_type": "code",
   "execution_count": 7,
   "id": "c7b3ae82",
   "metadata": {
    "vscode": {
     "languageId": "sql"
    }
   },
   "outputs": [
    {
     "data": {
      "text/html": [
       "<span style=\"None\">Running query in &#x27;duckdb&#x27;</span>"
      ],
      "text/plain": [
       "Running query in 'duckdb'"
      ]
     },
     "metadata": {},
     "output_type": "display_data"
    },
    {
     "data": {
      "text/html": [
       "<table>\n",
       "    <thead>\n",
       "        <tr>\n",
       "            <th>Count</th>\n",
       "        </tr>\n",
       "    </thead>\n",
       "    <tbody>\n",
       "        <tr>\n",
       "            <td>667</td>\n",
       "        </tr>\n",
       "    </tbody>\n",
       "</table>"
      ],
      "text/plain": [
       "+-------+\n",
       "| Count |\n",
       "+-------+\n",
       "|  667  |\n",
       "+-------+"
      ]
     },
     "execution_count": 7,
     "metadata": {},
     "output_type": "execute_result"
    }
   ],
   "source": [
    "%%sql\n",
    "-- Callout: column renaming, EXCLUDE\n",
    "CREATE OR REPLACE TABLE nps_public_data.park_hours AS (\n",
    "    WITH park_hours AS (\n",
    "        SELECT \n",
    "            name as park_name, \n",
    "            id as park_id, \n",
    "            -- https://duckdb.org/docs/sql/query_syntax/unnest.html\n",
    "            UNNEST(operatingHours, recursive := true)\n",
    "        FROM nps_public_data.parks\n",
    "    )\n",
    "    SELECT \n",
    "        * EXCLUDE (exceptions, name),\n",
    "        name as category\n",
    "    FROM park_hours \n",
    ")"
   ]
  },
  {
   "cell_type": "markdown",
   "id": "d34878a2",
   "metadata": {},
   "source": [
    "Creating tables with _dimensions_, like operating hours, lets us easily join to access the information."
   ]
  },
  {
   "cell_type": "code",
   "execution_count": 8,
   "id": "33fb4f9c",
   "metadata": {
    "vscode": {
     "languageId": "sql"
    }
   },
   "outputs": [
    {
     "data": {
      "text/html": [
       "<span style=\"None\">Running query in &#x27;duckdb&#x27;</span>"
      ],
      "text/plain": [
       "Running query in 'duckdb'"
      ]
     },
     "metadata": {},
     "output_type": "display_data"
    },
    {
     "data": {
      "text/html": [
       "<table>\n",
       "    <thead>\n",
       "        <tr>\n",
       "            <th>name</th>\n",
       "            <th>thursday</th>\n",
       "        </tr>\n",
       "    </thead>\n",
       "    <tbody>\n",
       "        <tr>\n",
       "            <td>Federal Hall</td>\n",
       "            <td>10:00AM - 5:00PM</td>\n",
       "        </tr>\n",
       "        <tr>\n",
       "            <td>Theodore Roosevelt Birthplace</td>\n",
       "            <td>10:00AM - 4:00PM</td>\n",
       "        </tr>\n",
       "        <tr>\n",
       "            <td>Tumacácori</td>\n",
       "            <td>9:00AM - 5:00PM</td>\n",
       "        </tr>\n",
       "        <tr>\n",
       "            <td>Wright Brothers</td>\n",
       "            <td>9:00AM - 5:00PM</td>\n",
       "        </tr>\n",
       "    </tbody>\n",
       "</table>"
      ],
      "text/plain": [
       "+-------------------------------+------------------+\n",
       "|              name             |     thursday     |\n",
       "+-------------------------------+------------------+\n",
       "|          Federal Hall         | 10:00AM - 5:00PM |\n",
       "| Theodore Roosevelt Birthplace | 10:00AM - 4:00PM |\n",
       "|           Tumacácori          | 9:00AM - 5:00PM  |\n",
       "|        Wright Brothers        | 9:00AM - 5:00PM  |\n",
       "+-------------------------------+------------------+"
      ]
     },
     "execution_count": 8,
     "metadata": {},
     "output_type": "execute_result"
    }
   ],
   "source": [
    "%%sql\n",
    "-- Callout: WHERE clause\n",
    "SELECT\n",
    "    p.name,\n",
    "    h.thursday\n",
    "FROM nps_public_data.park_hours h\n",
    "LEFT JOIN nps_public_data.parks p\n",
    "    ON h.park_id = p.id\n",
    "WHERE h.category = 'Hours of Operation'\n",
    "LIMIT 5"
   ]
  },
  {
   "cell_type": "code",
   "execution_count": 9,
   "id": "8c88fe7f",
   "metadata": {},
   "outputs": [
    {
     "data": {
      "text/html": [
       "<span style=\"None\">Running query in &#x27;duckdb&#x27;</span>"
      ],
      "text/plain": [
       "Running query in 'duckdb'"
      ]
     },
     "metadata": {},
     "output_type": "display_data"
    },
    {
     "data": {
      "text/html": [
       "<table>\n",
       "    <thead>\n",
       "        <tr>\n",
       "            <th>thursday</th>\n",
       "        </tr>\n",
       "    </thead>\n",
       "    <tbody>\n",
       "        <tr>\n",
       "            <td>unknown</td>\n",
       "        </tr>\n",
       "        <tr>\n",
       "            <td>Sunrise to Sunset</td>\n",
       "        </tr>\n",
       "        <tr>\n",
       "            <td>Opens at 6:00AM</td>\n",
       "        </tr>\n",
       "        <tr>\n",
       "            <td>Opens at 5:00AM</td>\n",
       "        </tr>\n",
       "        <tr>\n",
       "            <td>Closes at 12:00PM</td>\n",
       "        </tr>\n",
       "        <tr>\n",
       "            <td>Closed</td>\n",
       "        </tr>\n",
       "        <tr>\n",
       "            <td>All Day</td>\n",
       "        </tr>\n",
       "        <tr>\n",
       "            <td>9:30AM - 5:00PM</td>\n",
       "        </tr>\n",
       "        <tr>\n",
       "            <td>9:30AM - 4:30PM</td>\n",
       "        </tr>\n",
       "        <tr>\n",
       "            <td>9:30AM - 4:00PM</td>\n",
       "        </tr>\n",
       "    </tbody>\n",
       "</table>"
      ],
      "text/plain": [
       "+-------------------+\n",
       "|      thursday     |\n",
       "+-------------------+\n",
       "|      unknown      |\n",
       "| Sunrise to Sunset |\n",
       "|  Opens at 6:00AM  |\n",
       "|  Opens at 5:00AM  |\n",
       "| Closes at 12:00PM |\n",
       "|       Closed      |\n",
       "|      All Day      |\n",
       "|  9:30AM - 5:00PM  |\n",
       "|  9:30AM - 4:30PM  |\n",
       "|  9:30AM - 4:00PM  |\n",
       "+-------------------+"
      ]
     },
     "execution_count": 9,
     "metadata": {},
     "output_type": "execute_result"
    }
   ],
   "source": [
    "%%sql \n",
    "# Callout: DISTINCT, Order, LIMIT\n",
    "SELECT \n",
    "    DISTINCT(thursday) \n",
    "FROM nps_public_data.park_hours \n",
    "ORDER BY 1 DESC \n",
    "LIMIT 10"
   ]
  },
  {
   "cell_type": "code",
   "execution_count": 10,
   "id": "1c0f3c4a",
   "metadata": {
    "vscode": {
     "languageId": "sql"
    }
   },
   "outputs": [
    {
     "data": {
      "text/html": [
       "<span style=\"None\">Running query in &#x27;duckdb&#x27;</span>"
      ],
      "text/plain": [
       "Running query in 'duckdb'"
      ]
     },
     "metadata": {},
     "output_type": "display_data"
    },
    {
     "data": {
      "text/html": [
       "<table>\n",
       "    <thead>\n",
       "        <tr>\n",
       "            <th>Count</th>\n",
       "        </tr>\n",
       "    </thead>\n",
       "    <tbody>\n",
       "        <tr>\n",
       "            <td>667</td>\n",
       "        </tr>\n",
       "    </tbody>\n",
       "</table>"
      ],
      "text/plain": [
       "+-------+\n",
       "| Count |\n",
       "+-------+\n",
       "|  667  |\n",
       "+-------+"
      ]
     },
     "execution_count": 10,
     "metadata": {},
     "output_type": "execute_result"
    }
   ],
   "source": [
    "%%sql\n",
    "-- Callout: column renaming, EXCLUDE\n",
    "CREATE OR REPLACE TABLE nps_public_data.park_hours AS (\n",
    "    WITH park_hours AS (\n",
    "        SELECT \n",
    "            name as park_name, \n",
    "            id as park_id, \n",
    "            -- https://duckdb.org/docs/sql/query_syntax/unnest.html\n",
    "            UNNEST(operatingHours, recursive := true)\n",
    "        FROM nps_public_data.parks\n",
    "    )\n",
    "    SELECT \n",
    "        park_name,\n",
    "        park_id,\n",
    "        description,\n",
    "        name as category,\n",
    "        CASE monday WHEN 'unknown' THEN 'Closed' ELSE monday END as monday,\n",
    "        CASE tuesday WHEN 'unknown' THEN 'Closed' ELSE tuesday END as tuesday,\n",
    "        CASE wednesday WHEN 'unknown' THEN 'Closed' ELSE wednesday END as wednesday,\n",
    "        CASE thursday WHEN 'unknown' THEN 'Closed' ELSE thursday END as thursday,\n",
    "        CASE friday WHEN 'unknown' THEN 'Closed' ELSE friday END as friday,\n",
    "        CASE saturday WHEN 'unknown' THEN 'Closed' ELSE saturday END as saturday,\n",
    "        CASE sunday WHEN 'unknown' THEN 'Closed' ELSE sunday END as sunday,\n",
    "        CASE WHEN \n",
    "            monday != 'Closed' AND\n",
    "            tuesday != 'Closed' AND\n",
    "            wednesday != 'Closed' AND\n",
    "            thursday != 'Closed' AND\n",
    "            friday != 'Closed' AND\n",
    "            saturday != 'Closed' AND\n",
    "            sunday != 'Closed'\n",
    "        THEN TRUE ELSE FALSE END as open_seven_days_a_week\n",
    "    FROM park_hours \n",
    ")"
   ]
  },
  {
   "cell_type": "code",
   "execution_count": 11,
   "id": "0d0825e1",
   "metadata": {
    "vscode": {
     "languageId": "sql"
    }
   },
   "outputs": [
    {
     "data": {
      "text/html": [
       "<span style=\"None\">Running query in &#x27;duckdb&#x27;</span>"
      ],
      "text/plain": [
       "Running query in 'duckdb'"
      ]
     },
     "metadata": {},
     "output_type": "display_data"
    },
    {
     "data": {
      "text/html": [
       "<table>\n",
       "    <thead>\n",
       "        <tr>\n",
       "            <th>park_name</th>\n",
       "            <th>park_id</th>\n",
       "            <th>description</th>\n",
       "            <th>category</th>\n",
       "            <th>monday</th>\n",
       "            <th>tuesday</th>\n",
       "            <th>wednesday</th>\n",
       "            <th>thursday</th>\n",
       "            <th>friday</th>\n",
       "            <th>saturday</th>\n",
       "            <th>sunday</th>\n",
       "            <th>open_seven_days_a_week</th>\n",
       "        </tr>\n",
       "    </thead>\n",
       "    <tbody>\n",
       "        <tr>\n",
       "            <td>George Washington</td>\n",
       "            <td>E6D5BB41-3251-469F-ABDA-7B43B966F0CF</td>\n",
       "            <td>The George Washington Memorial Parkway is generally open year round, 24 hours a day. Check current conditions for information about closures due to road work and inclement weather.<br><br>Parkway headquarters is open Monday through Friday from 8:15 am to 4:15 pm. It is closed on weekends and holidays.<br><br>Most park sites are open from 6 am to 10 pm. For hours at specific destinations along the parkway please visit the individual webpages for those sites.</td>\n",
       "            <td>The George Washington Memorial Parkway</td>\n",
       "            <td>All Day</td>\n",
       "            <td>All Day</td>\n",
       "            <td>All Day</td>\n",
       "            <td>All Day</td>\n",
       "            <td>All Day</td>\n",
       "            <td>All Day</td>\n",
       "            <td>All Day</td>\n",
       "            <td>True</td>\n",
       "        </tr>\n",
       "    </tbody>\n",
       "</table>"
      ],
      "text/plain": [
       "+-------------------+--------------------------------------+--------------------------------------------------------------------------------------------------------------------------------------------------------------------------------------+----------------------------------------+---------+---------+-----------+----------+---------+----------+---------+------------------------+\n",
       "|     park_name     |               park_id                |                                                                                     description                                                                                      |                category                |  monday | tuesday | wednesday | thursday |  friday | saturday |  sunday | open_seven_days_a_week |\n",
       "+-------------------+--------------------------------------+--------------------------------------------------------------------------------------------------------------------------------------------------------------------------------------+----------------------------------------+---------+---------+-----------+----------+---------+----------+---------+------------------------+\n",
       "| George Washington | E6D5BB41-3251-469F-ABDA-7B43B966F0CF | The George Washington Memorial Parkway is generally open year round, 24 hours a day. Check current conditions for information about closures due to road work and inclement weather. | The George Washington Memorial Parkway | All Day | All Day |  All Day  | All Day  | All Day | All Day  | All Day |          True          |\n",
       "|                   |                                      |                                                                                                                                                                                      |                                        |         |         |           |          |         |          |         |                        |\n",
       "|                   |                                      |                                  Parkway headquarters is open Monday through Friday from 8:15 am to 4:15 pm. It is closed on weekends and holidays.                                  |                                        |         |         |           |          |         |          |         |                        |\n",
       "|                   |                                      |                                                                                                                                                                                      |                                        |         |         |           |          |         |          |         |                        |\n",
       "|                   |                                      |               Most park sites are open from 6 am to 10 pm. For hours at specific destinations along the parkway please visit the individual webpages for those sites.                |                                        |         |         |           |          |         |          |         |                        |\n",
       "+-------------------+--------------------------------------+--------------------------------------------------------------------------------------------------------------------------------------------------------------------------------------+----------------------------------------+---------+---------+-----------+----------+---------+----------+---------+------------------------+"
      ]
     },
     "execution_count": 11,
     "metadata": {},
     "output_type": "execute_result"
    }
   ],
   "source": [
    "%%sql\n",
    "SELECT * FROM nps_public_data.park_hours WHERE open_seven_days_a_week LIMIT 1"
   ]
  },
  {
   "cell_type": "markdown",
   "id": "d2c2a2a4",
   "metadata": {},
   "source": [
    "Can we find parks that are closed on Thursday?"
   ]
  },
  {
   "cell_type": "code",
   "execution_count": 12,
   "id": "36952fa7",
   "metadata": {
    "vscode": {
     "languageId": "sql"
    }
   },
   "outputs": [
    {
     "data": {
      "text/html": [
       "<span style=\"None\">Running query in &#x27;duckdb&#x27;</span>"
      ],
      "text/plain": [
       "Running query in 'duckdb'"
      ]
     },
     "metadata": {},
     "output_type": "display_data"
    },
    {
     "data": {
      "text/html": [
       "<table>\n",
       "    <thead>\n",
       "        <tr>\n",
       "            <th>name</th>\n",
       "            <th>category</th>\n",
       "            <th>thursday</th>\n",
       "            <th>closed_open</th>\n",
       "            <th>is_closed</th>\n",
       "        </tr>\n",
       "    </thead>\n",
       "    <tbody>\n",
       "        <tr>\n",
       "            <td>Rio Grande</td>\n",
       "            <td>None</td>\n",
       "            <td>None</td>\n",
       "            <td>Open</td>\n",
       "            <td>False</td>\n",
       "        </tr>\n",
       "        <tr>\n",
       "            <td>Gateway</td>\n",
       "            <td>None</td>\n",
       "            <td>None</td>\n",
       "            <td>Open</td>\n",
       "            <td>False</td>\n",
       "        </tr>\n",
       "        <tr>\n",
       "            <td>Amache</td>\n",
       "            <td>None</td>\n",
       "            <td>None</td>\n",
       "            <td>Open</td>\n",
       "            <td>False</td>\n",
       "        </tr>\n",
       "        <tr>\n",
       "            <td>Chickasaw</td>\n",
       "            <td>None</td>\n",
       "            <td>None</td>\n",
       "            <td>Open</td>\n",
       "            <td>False</td>\n",
       "        </tr>\n",
       "        <tr>\n",
       "            <td>Lewis and Clark</td>\n",
       "            <td>None</td>\n",
       "            <td>None</td>\n",
       "            <td>Open</td>\n",
       "            <td>False</td>\n",
       "        </tr>\n",
       "    </tbody>\n",
       "</table>"
      ],
      "text/plain": [
       "+-----------------+----------+----------+-------------+-----------+\n",
       "|       name      | category | thursday | closed_open | is_closed |\n",
       "+-----------------+----------+----------+-------------+-----------+\n",
       "|    Rio Grande   |   None   |   None   |     Open    |   False   |\n",
       "|     Gateway     |   None   |   None   |     Open    |   False   |\n",
       "|      Amache     |   None   |   None   |     Open    |   False   |\n",
       "|    Chickasaw    |   None   |   None   |     Open    |   False   |\n",
       "| Lewis and Clark |   None   |   None   |     Open    |   False   |\n",
       "+-----------------+----------+----------+-------------+-----------+"
      ]
     },
     "execution_count": 12,
     "metadata": {},
     "output_type": "execute_result"
    }
   ],
   "source": [
    "%%sql\n",
    "SELECT\n",
    "    p.name,\n",
    "    closed_thurs.category,\n",
    "    closed_thurs.thursday,\n",
    "    COALESCE(closed_thurs.thursday, 'Open') as closed_open,\n",
    "    NOT closed_thurs.thursday IS NULL as is_closed\n",
    "FROM nps_public_data.parks p\n",
    "LEFT JOIN nps_public_data.park_hours closed_thurs\n",
    "    ON closed_thurs.park_id = p.id\n",
    "    AND closed_thurs.thursday = 'Closed'\n",
    "WHERE 1 = 1\n",
    "ORDER BY RANDOM()\n",
    "LIMIT 5"
   ]
  },
  {
   "cell_type": "code",
   "execution_count": 13,
   "id": "36b4766a",
   "metadata": {
    "vscode": {
     "languageId": "sql"
    }
   },
   "outputs": [
    {
     "data": {
      "text/html": [
       "<span style=\"None\">Running query in &#x27;duckdb&#x27;</span>"
      ],
      "text/plain": [
       "Running query in 'duckdb'"
      ]
     },
     "metadata": {},
     "output_type": "display_data"
    },
    {
     "data": {
      "text/html": [
       "<table>\n",
       "    <thead>\n",
       "        <tr>\n",
       "            <th>Success</th>\n",
       "        </tr>\n",
       "    </thead>\n",
       "    <tbody>\n",
       "    </tbody>\n",
       "</table>"
      ],
      "text/plain": [
       "+---------+\n",
       "| Success |\n",
       "+---------+\n",
       "+---------+"
      ]
     },
     "execution_count": 13,
     "metadata": {},
     "output_type": "execute_result"
    }
   ],
   "source": [
    "%%sql\n",
    "EXPORT DATABASE '../../data/nps' (FORMAT PARQUET, COMPRESSION ZSTD, ROW_GROUP_SIZE 100000);"
   ]
  },
  {
   "cell_type": "markdown",
   "id": "c3446626",
   "metadata": {},
   "source": [
    "Notice the pattern:\n",
    "- Investigate data\n",
    "- Identify useful facts/dimensions that could be useful\n",
    "- Data modelling \n",
    "- Transformation\n",
    "- Storage\n",
    "\n",
    "A few other things:\n",
    "1. Data modelling is a useful skill that won't be discussed in this course— for helpful reading see the appendix.\n",
    "2. _Automating_ transformations is another useful tactic that _also_ won't be discussed in this course. See the appendix for data automations."
   ]
  }
 ],
 "metadata": {
  "kernelspec": {
   "display_name": "Python 3 (ipykernel)",
   "language": "python",
   "name": "python3"
  },
  "language_info": {
   "codemirror_mode": {
    "name": "ipython",
    "version": 3
   },
   "file_extension": ".py",
   "mimetype": "text/x-python",
   "name": "python",
   "nbconvert_exporter": "python",
   "pygments_lexer": "ipython3",
   "version": "3.10.0"
  }
 },
 "nbformat": 4,
 "nbformat_minor": 5
}
