{
 "cells": [
  {
   "cell_type": "code",
   "execution_count": null,
   "metadata": {},
   "outputs": [],
   "source": [
    "import duckdb\n",
    "\n",
    "# Load SQL extension\n",
    "%load_ext sql\n",
    "\n",
    "# Initialize 🦆 DuckDB connection\n",
    "conn = duckdb.connect()\n",
    "\n",
    "# Import database\n",
    "%sql conn --alias duckdb\n",
    "%sql IMPORT DATABASE '../../data/nps';"
   ]
  },
  {
   "cell_type": "markdown",
   "metadata": {},
   "source": [
    "Now that we've discussed `GROUP` and `WINDOWS`, we can discuss some advanced filtering concepts: `QUALIFY` and `HAVING`\n",
    "\n",
    "`HAVING` is like `WHERE`, but for aggregates. That means it's evaluated after most of the query and let's you filter on aggregated values."
   ]
  },
  {
   "cell_type": "code",
   "execution_count": null,
   "metadata": {
    "vscode": {
     "languageId": "sql"
    }
   },
   "outputs": [],
   "source": [
    "%%sql\n",
    "SELECT\n",
    "    p.fullname,\n",
    "    SUM(c.numberofsitesfirstcomefirstserve + c.numberofsitesreservable) AS num_campsites\n",
    "FROM nps_public_data.campgrounds c\n",
    "INNER JOIN nps_public_data.parks p\n",
    "    ON c.parkcode = p.parkcode\n",
    "    AND p.designation = 'National Park'\n",
    "-- This won't work, because num_campsites is an aggregate function\n",
    "-- WHERE num_campsites > 100\n",
    "GROUP BY 1\n",
    "-- This will\n",
    "HAVING num_campsites > 100\n",
    "ORDER BY 2 ASC\n",
    "LIMIT 10;"
   ]
  },
  {
   "cell_type": "markdown",
   "metadata": {},
   "source": [
    "`QUALIFY` is like `WHERE` and `HAVING` _but_.... It applies to windows! This can be exceedingly helpful, as windows would almost always require a second CTE to filter.\n",
    "\n",
    "One particularly useful case for qualify is in `ROW_NUMBER` or `RANK` queries\""
   ]
  },
  {
   "cell_type": "code",
   "execution_count": null,
   "metadata": {
    "vscode": {
     "languageId": "sql"
    }
   },
   "outputs": [],
   "source": [
    "%%sql\n",
    "SELECT\n",
    "    p.fullname as park_name,\n",
    "    c.name as campground_name,\n",
    "\n",
    "    -- For each park, which campground has the maximum number of campsites?\n",
    "    c.numberofsitesfirstcomefirstserve + c.numberofsitesreservable as num_campsites,\n",
    "    -- RANK, ROW_NUMBER, DENSE_RANK     \n",
    "    RANK() OVER (PARTITION BY park_name ORDER BY c.numberofsitesfirstcomefirstserve + c.numberofsitesreservable DESC) as park_campsites_rank,\n",
    "    ROW_NUMBER() OVER (PARTITION BY park_name ORDER BY c.numberofsitesfirstcomefirstserve + c.numberofsitesreservable DESC) as campsites_row_num,\n",
    "    DENSE_RANK() OVER (PARTITION BY park_name ORDER BY c.numberofsitesfirstcomefirstserve + c.numberofsitesreservable DESC) as campsites_dense_rank,\n",
    "FROM nps_public_data.campgrounds c\n",
    "INNER JOIN nps_public_data.parks p\n",
    "    ON c.parkcode = p.parkcode\n",
    "    AND p.designation = 'National Park'\n",
    "-- Get the sencond largest campground for each park\n",
    "QUALIFY park_campsites_rank = 2\n",
    "ORDER BY park_name, park_campsites_rank ASC\n",
    "LIMIT 12;"
   ]
  },
  {
   "cell_type": "markdown",
   "metadata": {
    "vscode": {
     "languageId": "sql"
    }
   },
   "source": [
    "While advanced filters are a simple concept, understanding when and where to use them can save you an extra CTE... and possible a few lines of code 😄"
   ]
  },
  {
   "cell_type": "markdown",
   "metadata": {},
   "source": []
  }
 ],
 "metadata": {
  "kernelspec": {
   "display_name": "lil-cdt",
   "language": "python",
   "name": "python3"
  },
  "language_info": {
   "codemirror_mode": {
    "name": "ipython",
    "version": 3
   },
   "file_extension": ".py",
   "mimetype": "text/x-python",
   "name": "python",
   "nbconvert_exporter": "python",
   "pygments_lexer": "ipython3",
   "version": "3.10.0"
  }
 },
 "nbformat": 4,
 "nbformat_minor": 2
}
