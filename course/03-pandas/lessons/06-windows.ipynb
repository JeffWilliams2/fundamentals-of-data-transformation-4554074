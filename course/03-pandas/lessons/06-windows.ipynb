{
 "cells": [
  {
   "cell_type": "code",
   "execution_count": null,
   "metadata": {},
   "outputs": [],
   "source": [
    "import pandas as pd\n",
    "\n",
    "alerts_df = pd.read_parquet(\"../../data/nps/nps_public_data_alerts.parquet\")"
   ]
  },
  {
   "cell_type": "markdown",
   "metadata": {},
   "source": [
    "Given Python's differences from SQL, `window` functions are mostly used for rolling averages, something reflected in the Pandas [documentation](https://pandas.pydata.org/docs/user_guide/window.html) that we'll demonstrate here.\n",
    "\n",
    "pandas supports 4 types of windowing operations:\n",
    "- Rolling window: Generic fixed or variable sliding window over the values.\n",
    "- Weighted window: Weighted, non-rectangular window supplied by the scipy.signal library.\n",
    "- Expanding window: Accumulating window over the values.\n",
    "- Exponentially Weighted window: Accumulating and exponentially weighted window over the values.\n",
    "\n",
    "We'll focus on rolling + expanding, since those are the most applicable for transformation"
   ]
  },
  {
   "cell_type": "code",
   "execution_count": null,
   "metadata": {},
   "outputs": [],
   "source": [
    "alerts_df[\"alert_date\"] = pd.to_datetime(alerts_df[\"lastIndexedDate\"])\n",
    "alerts_df.head()"
   ]
  },
  {
   "cell_type": "markdown",
   "metadata": {},
   "source": [
    "We can pick up where we left off in the last lesson:"
   ]
  },
  {
   "cell_type": "code",
   "execution_count": null,
   "metadata": {},
   "outputs": [],
   "source": [
    "alerts_by_category = (\n",
    "    alerts_df.groupby([\"alert_date\", \"category\"])[\"description\"]\n",
    "    .count()\n",
    "    .reset_index()\n",
    "    .sort_values(\"alert_date\")\n",
    ")\n",
    "\n",
    "alerts_by_category[\"alert_date\"] = pd.to_datetime(\n",
    "    alerts_by_category[\"alert_date\"], format=\"%Y-%m-%d\"\n",
    ")\n",
    "\n",
    "alerts_by_category.set_index(\"alert_date\", inplace=True)\n",
    "\n",
    "alerts_by_category_filled = pd.DataFrame(columns=alerts_by_category.columns)\n",
    "\n",
    "for category in alerts_by_category[\"category\"].unique():\n",
    "    if len(category) > 0:\n",
    "        new = alerts_by_category[alerts_by_category[\"category\"] == category][\n",
    "            \"description\"\n",
    "        ]\n",
    "\n",
    "        resampled = pd.DataFrame(new.resample(\"1D\").asfreq().fillna(0)).reset_index()\n",
    "        resampled[\"category\"] = category\n",
    "\n",
    "        alerts_by_category_filled = pd.concat([alerts_by_category_filled, resampled])\n",
    "\n",
    "alerts_by_category_filled.sort_values(by=\"alert_date\").tail()"
   ]
  },
  {
   "cell_type": "code",
   "execution_count": null,
   "metadata": {},
   "outputs": [],
   "source": [
    "alerts_df[\"alert_date\"] = pd.to_datetime(alerts_df[\"lastIndexedDate\"])\n",
    "\n",
    "num_alerts = (\n",
    "    alerts_df.set_index(\"alert_date\")\n",
    "    .groupby([pd.Grouper(freq=\"1D\"), \"category\"])[\"description\"]\n",
    "    .count()\n",
    ")\n",
    "\n",
    "num_alerts_unstacked = (\n",
    "    num_alerts.unstack()\n",
    "    .resample(\"1D\")\n",
    "    .asfreq()[[\"Caution\", \"Danger\", \"Information\", \"Park Closure\"]]\n",
    "    .fillna(0)\n",
    ")\n",
    "\n",
    "num_alerts_unstacked.tail()"
   ]
  },
  {
   "cell_type": "markdown",
   "metadata": {},
   "source": [
    "If you're in analytics, you're likely aware that _rolling counts or averages_ can be incredibly valuable for monitoring trends over time. Pandas makes this quite easy. It will be helpful to first set the `alert_date` as our index."
   ]
  },
  {
   "cell_type": "code",
   "execution_count": null,
   "metadata": {},
   "outputs": [],
   "source": [
    "# get rolling 7-day\n",
    "rolling_alerts_7 = num_alerts_unstacked.rolling(window=7).sum().reset_index()\n",
    "rolling_alerts_7"
   ]
  },
  {
   "cell_type": "markdown",
   "metadata": {},
   "source": [
    "It can also be useful to get multiple rolling averages to compare trends"
   ]
  },
  {
   "cell_type": "code",
   "execution_count": null,
   "metadata": {},
   "outputs": [],
   "source": [
    "rolling_alerts_14 = (\n",
    "    num_alerts_unstacked.rolling(window=14)\n",
    "    .sum()\n",
    "    .reset_index()\n",
    "    .rename(columns={\"num_alerts\": \"rolling_14\"})\n",
    ")\n",
    "rolling_alerts_28 = (\n",
    "    num_alerts_unstacked.rolling(window=28)\n",
    "    .sum()\n",
    "    .reset_index()\n",
    "    .rename(columns={\"num_alerts\": \"rolling_28\"})\n",
    ")"
   ]
  },
  {
   "cell_type": "markdown",
   "metadata": {},
   "source": [
    "It's outside this course, but whether you're an analyst or engineer, visualization of results is important for a gut-check! You can do this easily with plotly."
   ]
  },
  {
   "cell_type": "code",
   "execution_count": null,
   "metadata": {},
   "outputs": [],
   "source": [
    "import plotly.express as px\n",
    "\n",
    "\n",
    "plot_cols = [\"rolling_7\", \"rolling_14\", \"rolling_28\"]\n",
    "\n",
    "categories = [\"Information\", \"Park Closure\", \"Caution\"]\n",
    "\n",
    "for category in categories:\n",
    "\n",
    "    plot_df = (\n",
    "        rolling_alerts_7[[\"alert_date\", category]]\n",
    "        .merge(\n",
    "            rolling_alerts_14[[\"alert_date\", category]],\n",
    "            on=\"alert_date\",\n",
    "            suffixes=(\"_7\", \"_14\"),\n",
    "        )\n",
    "        .merge(rolling_alerts_28[[\"alert_date\", category]], on=\"alert_date\")\n",
    "        .rename(columns={category: f\"{category}_28\"})\n",
    "    )\n",
    "\n",
    "    plot_df = plot_df[plot_df[\"alert_date\"] > \"2022-01-01\"]\n",
    "\n",
    "    fig = px.line(\n",
    "        data_frame=plot_df,\n",
    "        x=\"alert_date\",\n",
    "        y=[f\"{category}_7\", f\"{category}_14\", f\"{category}_28\"],\n",
    "        title=f\"Rolling '{category}' alerts\",\n",
    "    )\n",
    "\n",
    "    fig.show()"
   ]
  },
  {
   "cell_type": "markdown",
   "metadata": {},
   "source": [
    "Finally, if we were more interested in accumulating windows:"
   ]
  },
  {
   "cell_type": "code",
   "execution_count": null,
   "metadata": {},
   "outputs": [],
   "source": [
    "cumulative_alerts = (\n",
    "    num_alerts_unstacked.expanding()\n",
    "    .sum()\n",
    "    .reset_index()\n",
    "    .rename(columns={\"num_alerts\": \"cumulative\"})\n",
    ")\n",
    "\n",
    "cumulative_alerts"
   ]
  },
  {
   "cell_type": "code",
   "execution_count": null,
   "metadata": {},
   "outputs": [],
   "source": [
    "import plotly.express as px\n",
    "\n",
    "categories = [\"Information\", \"Park Closure\", \"Caution\"]\n",
    "\n",
    "fig = px.line(\n",
    "    data_frame=cumulative_alerts,\n",
    "    x=\"alert_date\",\n",
    "    y=[\"Caution\", \"Danger\", \"Information\", \"Park Closure\"],\n",
    "    title=\"Cumulative Alerts\",\n",
    ")\n",
    "\n",
    "fig.show()"
   ]
  },
  {
   "cell_type": "code",
   "execution_count": null,
   "metadata": {},
   "outputs": [],
   "source": []
  }
 ],
 "metadata": {
  "kernelspec": {
   "display_name": "lil-cdt",
   "language": "python",
   "name": "python3"
  },
  "language_info": {
   "codemirror_mode": {
    "name": "ipython",
    "version": 3
   },
   "file_extension": ".py",
   "mimetype": "text/x-python",
   "name": "python",
   "nbconvert_exporter": "python",
   "pygments_lexer": "ipython3",
   "version": "3.12.0"
  }
 },
 "nbformat": 4,
 "nbformat_minor": 2
}
