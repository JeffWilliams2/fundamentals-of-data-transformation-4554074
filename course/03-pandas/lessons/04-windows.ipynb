{
 "cells": [
  {
   "cell_type": "code",
   "execution_count": null,
   "metadata": {},
   "outputs": [],
   "source": [
    "import pandas as pd\n",
    "\n",
    "alerts_df = pd.read_parquet(\"../../data/nps/nps_public_data_alerts.parquet\")"
   ]
  },
  {
   "cell_type": "markdown",
   "metadata": {},
   "source": [
    "Given Python's differences from SQL, `window` functions are mostly used for rolling averages, something reflected in the Pandas [documentation](https://pandas.pydata.org/docs/user_guide/window.html) that we'll demonstrate here.\n",
    "\n",
    "pandas supports 4 types of windowing operations:\n",
    "- Rolling window: Generic fixed or variable sliding window over the values.\n",
    "- Weighted window: Weighted, non-rectangular window supplied by the scipy.signal library.\n",
    "- Expanding window: Accumulating window over the values.\n",
    "- Exponentially Weighted window: Accumulating and exponentially weighted window over the values.\n",
    "\n",
    "We'll focus on rolling + expanding, since those are the most applicable for transformation"
   ]
  },
  {
   "cell_type": "code",
   "execution_count": null,
   "metadata": {},
   "outputs": [],
   "source": [
    "alerts_df[\"alert_date\"] = pd.to_datetime(alerts_df[\"lastIndexedDate\"]).dt.date\n",
    "\n",
    "alerts_df.head()"
   ]
  },
  {
   "cell_type": "markdown",
   "metadata": {},
   "source": [
    "Let's get a count of alerts by category"
   ]
  },
  {
   "cell_type": "code",
   "execution_count": null,
   "metadata": {},
   "outputs": [],
   "source": [
    "num_alerts = (\n",
    "    alerts_df.groupby([\"alert_date\", \"category\"])[\"description\"].count().reset_index()\n",
    ")\n",
    "\n",
    "num_alerts.rename(columns={\"description\": \"num_alerts\"}, inplace=True)\n",
    "\n",
    "num_alerts.tail()"
   ]
  },
  {
   "cell_type": "markdown",
   "metadata": {},
   "source": [
    "If you're in analytics, you're likely aware that _rolling counts or averages_ can be incredibly valuable for monitoring trends over time. Pandas makes this quite easy. It will be helpful to first set the `alert_date` as our index."
   ]
  },
  {
   "cell_type": "code",
   "execution_count": null,
   "metadata": {},
   "outputs": [],
   "source": [
    "num_alerts_reindexed = num_alerts.set_index(\"alert_date\")\n",
    "\n",
    "# get rolling 7-day\n",
    "rolling_alerts_7 = (\n",
    "    num_alerts_reindexed.groupby([\"category\"])[\"num_alerts\"]\n",
    "    .rolling(window=7)\n",
    "    .sum()\n",
    "    .reset_index()\n",
    ")"
   ]
  },
  {
   "cell_type": "markdown",
   "metadata": {},
   "source": [
    "It can also be useful to get multiple rolling averages to compare trends"
   ]
  },
  {
   "cell_type": "code",
   "execution_count": null,
   "metadata": {},
   "outputs": [],
   "source": [
    "rolling_alerts_7 = (\n",
    "    num_alerts_reindexed.groupby([\"category\"])[\"num_alerts\"]\n",
    "    .rolling(window=7)\n",
    "    .sum()\n",
    "    .reset_index()\n",
    "    .rename(columns={\"num_alerts\": \"rolling_7\"})\n",
    ")\n",
    "rolling_alerts_14 = (\n",
    "    num_alerts_reindexed.groupby([\"category\"])[\"num_alerts\"]\n",
    "    .rolling(window=14)\n",
    "    .sum()\n",
    "    .reset_index()\n",
    "    .rename(columns={\"num_alerts\": \"rolling_14\"})\n",
    ")\n",
    "rolling_alerts_28 = (\n",
    "    num_alerts_reindexed.groupby([\"category\"])[\"num_alerts\"]\n",
    "    .rolling(window=28)\n",
    "    .sum()\n",
    "    .reset_index()\n",
    "    .rename(columns={\"num_alerts\": \"rolling_28\"})\n",
    ")\n",
    "\n",
    "rolling_alerts_joined = rolling_alerts_7.merge(\n",
    "    rolling_alerts_14, on=[\"alert_date\", \"category\"]\n",
    ").merge(rolling_alerts_28, on=[\"alert_date\", \"category\"])\n",
    "\n",
    "rolling_alerts_joined"
   ]
  },
  {
   "cell_type": "markdown",
   "metadata": {},
   "source": [
    "It's outside this course, but whether you're an analyst or engineer, visualization of results is important for a gut-check! You can do this easily with plotly."
   ]
  },
  {
   "cell_type": "code",
   "execution_count": null,
   "metadata": {},
   "outputs": [],
   "source": [
    "import plotly.express as px\n",
    "import datetime\n",
    "\n",
    "plot_df = rolling_alerts_joined[\n",
    "    rolling_alerts_joined[\"alert_date\"] > datetime.date(2023, 7, 1)\n",
    "]\n",
    "\n",
    "plot_cols = [\"rolling_7\", \"rolling_14\", \"rolling_28\"]\n",
    "\n",
    "categories = [\"Information\", \"Park Closure\", \"Caution\"]\n",
    "\n",
    "for category in categories:\n",
    "    fig = px.line(\n",
    "        data_frame=plot_df[plot_df[\"category\"] == category],\n",
    "        x=\"alert_date\",\n",
    "        y=plot_cols,\n",
    "        title=f\"Rolling '{category}' alerts\",\n",
    "    )\n",
    "\n",
    "    fig.show()"
   ]
  },
  {
   "cell_type": "markdown",
   "metadata": {},
   "source": [
    "Finally, if we were more interested in accumulating windows:"
   ]
  },
  {
   "cell_type": "code",
   "execution_count": null,
   "metadata": {},
   "outputs": [],
   "source": [
    "num_alerts_reindexed.sort_values(by=[\"alert_date\", \"category\"], inplace=True)\n",
    "\n",
    "cumulative_alerts = (\n",
    "    num_alerts_reindexed.groupby([\"category\"])[\"num_alerts\"]\n",
    "    .expanding()\n",
    "    .sum()\n",
    "    .reset_index()\n",
    "    .rename(columns={\"num_alerts\": \"cumulative\"})\n",
    ")"
   ]
  },
  {
   "cell_type": "code",
   "execution_count": null,
   "metadata": {},
   "outputs": [],
   "source": [
    "import plotly.express as px\n",
    "\n",
    "categories = [\"Information\", \"Park Closure\", \"Caution\"]\n",
    "\n",
    "fig = px.line(\n",
    "    data_frame=cumulative_alerts,\n",
    "    x=\"alert_date\",\n",
    "    y=\"cumulative\",\n",
    "    color=\"category\",\n",
    "    title=f\"Cumulative Alerts\",\n",
    ")\n",
    "\n",
    "fig.show()"
   ]
  },
  {
   "cell_type": "code",
   "execution_count": null,
   "metadata": {},
   "outputs": [],
   "source": []
  }
 ],
 "metadata": {
  "kernelspec": {
   "display_name": "lil-cdt",
   "language": "python",
   "name": "python3"
  },
  "language_info": {
   "codemirror_mode": {
    "name": "ipython",
    "version": 3
   },
   "file_extension": ".py",
   "mimetype": "text/x-python",
   "name": "python",
   "nbconvert_exporter": "python",
   "pygments_lexer": "ipython3",
   "version": "3.10.0"
  }
 },
 "nbformat": 4,
 "nbformat_minor": 2
}
