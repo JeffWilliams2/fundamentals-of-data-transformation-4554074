{
 "cells": [
  {
   "cell_type": "code",
   "execution_count": null,
   "metadata": {},
   "outputs": [],
   "source": [
    "import pandas as pd\n",
    "\n",
    "open_seven_days_df = pd.read_parquet(\"../../data/pandas/open_seven_days_df.parquet\")"
   ]
  },
  {
   "cell_type": "markdown",
   "metadata": {},
   "source": [
    "A theme in this course will be learning transformations across languages— the ability to select the proper tool for the job depends on a knowledge of _what tools exist_.\n",
    "\n",
    "In this lesson, we'll cover select, filter, order, and group operations in Pandas."
   ]
  },
  {
   "cell_type": "markdown",
   "metadata": {},
   "source": [
    "Creating columns in Pandas is as simple as assigning those columns through the syntax\n",
    "\n",
    "```python\n",
    "dataframe['column_name'] = column_value\n",
    "```"
   ]
  },
  {
   "cell_type": "code",
   "execution_count": null,
   "metadata": {},
   "outputs": [],
   "source": [
    "import numpy as np\n",
    "\n",
    "open_seven_days_df[\"closed_open\"] = np.where(\n",
    "    open_seven_days_df[\"standardHours.thursday\"] == \"Closed\", \"Closed\", \"Open\"\n",
    ")\n",
    "open_seven_days_df[\"is_closed\"] = np.where(\n",
    "    open_seven_days_df[\"standardHours.thursday\"] == \"Closed\", True, False\n",
    ")"
   ]
  },
  {
   "cell_type": "markdown",
   "metadata": {},
   "source": [
    "Now you might be saying \"when are we assigning a single value to a column vs. performing a calculation on a column?\" and that would be a great question! The answer lies in _vectorization_— the process of performing calculations on entire columns at once. \n",
    "\n",
    "Certain operations can be vectorized and act on other columns, while others need to be _applied_ row-by-row. We'll talk about applying row-wise functions later in the course, but for now we'll focus on vectorized operations. "
   ]
  },
  {
   "cell_type": "code",
   "execution_count": null,
   "metadata": {},
   "outputs": [],
   "source": [
    "open_seven_days_df.head()"
   ]
  },
  {
   "cell_type": "code",
   "execution_count": null,
   "metadata": {},
   "outputs": [],
   "source": []
  }
 ],
 "metadata": {
  "kernelspec": {
   "display_name": "lil-cdt",
   "language": "python",
   "name": "python3"
  },
  "language_info": {
   "codemirror_mode": {
    "name": "ipython",
    "version": 3
   },
   "file_extension": ".py",
   "mimetype": "text/x-python",
   "name": "python",
   "nbconvert_exporter": "python",
   "pygments_lexer": "ipython3",
   "version": "3.10.0"
  }
 },
 "nbformat": 4,
 "nbformat_minor": 2
}
