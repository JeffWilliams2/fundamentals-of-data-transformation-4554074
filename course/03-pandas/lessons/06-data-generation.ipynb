{
 "cells": [
  {
   "cell_type": "code",
   "execution_count": null,
   "metadata": {},
   "outputs": [],
   "source": [
    "import pandas as pd"
   ]
  },
  {
   "cell_type": "markdown",
   "metadata": {},
   "source": [
    "Generating a time series in pandas involves creating a DataFrame or Series where the index is a datetime object. This allows you to work with time-related data efficiently. Here's how you can generate a time series in pandas:\n",
    "\n",
    "**Using `pd.date_range()`**:\n",
    "- The `pd.date_range()` function creates a range of datetime values based on specified parameters such as start date, end date, frequency, and periods.\n",
    "- For example, `dates = pd.date_range(start='2022-01-01', end='2022-01-31', freq='D')` generates daily datetime values from January 1, 2022, to January 31, 2022."
   ]
  },
  {
   "cell_type": "code",
   "execution_count": null,
   "metadata": {},
   "outputs": [],
   "source": [
    "dates = pd.date_range(start=\"2022-01-01\", end=\"2022-01-31\", freq=\"D\")\n",
    "\n",
    "dates"
   ]
  },
  {
   "cell_type": "markdown",
   "metadata": {},
   "source": [
    "**Creating a DataFrame with Time Index**:\n",
    " - After generating datetime values, you can use them as the index for a DataFrame. For instance:"
   ]
  },
  {
   "cell_type": "code",
   "execution_count": null,
   "metadata": {},
   "outputs": [],
   "source": [
    "dates = pd.date_range(start=\"2022-01-01\", end=\"2022-01-31\", freq=\"D\")\n",
    "data = {\"value\": range(0, 155, 5)}\n",
    "df = pd.DataFrame(data, index=dates)\n",
    "\n",
    "df.tail()"
   ]
  },
  {
   "cell_type": "markdown",
   "metadata": {},
   "source": [
    "**Resampling and Frequency Conversion**:\n",
    "- You can resample the time series to change its frequency, such as aggregating daily data into monthly data using `resample()` and specifying the desired frequency.\n",
    "    ```python\n",
    "    monthly_data = df.resample('M').mean()\n",
    "    ```\n",
    "- This will calculate the mean of 'value' for each month, resulting in a new DataFrame with monthly data.\n",
    "    ```"
   ]
  },
  {
   "cell_type": "code",
   "execution_count": null,
   "metadata": {},
   "outputs": [],
   "source": [
    "df.resample(\"W\").sum()"
   ]
  },
  {
   "cell_type": "markdown",
   "metadata": {},
   "source": [
    "What does this mean practically? Well, if you have a timeseries that might have _missing_ data, you can reconcile the issue by generating a date series, like we did in SQL."
   ]
  },
  {
   "cell_type": "code",
   "execution_count": null,
   "metadata": {},
   "outputs": [],
   "source": [
    "import pandas as pd\n",
    "\n",
    "alerts_df = pd.read_parquet(\"../../data/nps/nps_public_data_alerts.parquet\")\n",
    "\n",
    "alerts_df[\"alert_date\"] = pd.to_datetime(alerts_df[\"lastIndexedDate\"]).dt.date"
   ]
  },
  {
   "cell_type": "code",
   "execution_count": null,
   "metadata": {},
   "outputs": [],
   "source": [
    "# this df has date gaps\n",
    "alerts_by_category = (\n",
    "    alerts_df.groupby([\"alert_date\", \"category\"])[\"description\"]\n",
    "    .count()\n",
    "    .reset_index()\n",
    "    .sort_values(\"alert_date\")\n",
    ")\n",
    "\n",
    "# this one doesn't— notice how we stack / unstack the index\n",
    "\n",
    "alerts_df[\"alert_date\"] = pd.to_datetime(alerts_df[\"lastIndexedDate\"])\n",
    "\n",
    "# Use grouper to build a datetime index with no gaps\n",
    "\n",
    "alerts_no_gaps = (\n",
    "    alerts_df.set_index(\"alert_date\")\n",
    "    .groupby([pd.Grouper(freq=\"1D\"), \"category\"])[\"description\"]\n",
    "    .count()\n",
    ")\n",
    "\n",
    "# Unstack the category index to columns, fill in missing dates, and fill in NaNs with 0\n",
    "\n",
    "num_alerts_unstacked = (\n",
    "    alerts_no_gaps.unstack()\n",
    "    .resample(\"1D\")\n",
    "    .asfreq()[[\"Caution\", \"Danger\", \"Information\", \"Park Closure\"]]\n",
    "    .fillna(0)\n",
    ")\n",
    "\n",
    "# Stack the category index back into a column\n",
    "\n",
    "num_alerts = (\n",
    "    num_alerts_unstacked.stack().reset_index().rename(columns={0: \"num_alerts\"})\n",
    ")"
   ]
  },
  {
   "cell_type": "markdown",
   "metadata": {},
   "source": [
    "We'll dig into date ranges more in our next lesson on Pandas windows. Of course, Pandas series also support arbitrary Python ranges."
   ]
  },
  {
   "cell_type": "code",
   "execution_count": null,
   "metadata": {},
   "outputs": [],
   "source": [
    "pd.DataFrame(\n",
    "    {\n",
    "        \"one_to_hundred\": pd.Series(range(1, 101)),\n",
    "        \"hundred_to_one\": pd.Series(range(100, 0, -1)),\n",
    "        \"one_hundred_by_twos\": pd.Series(range(2, 202, 2)),\n",
    "        \"one_hundred_squares\": pd.Series(range(1, 101)) ** 2,\n",
    "    }\n",
    ")"
   ]
  }
 ],
 "metadata": {
  "kernelspec": {
   "display_name": "lil-cdt",
   "language": "python",
   "name": "python3"
  },
  "language_info": {
   "codemirror_mode": {
    "name": "ipython",
    "version": 3
   },
   "file_extension": ".py",
   "mimetype": "text/x-python",
   "name": "python",
   "nbconvert_exporter": "python",
   "pygments_lexer": "ipython3",
   "version": "3.12.0"
  }
 },
 "nbformat": 4,
 "nbformat_minor": 2
}
