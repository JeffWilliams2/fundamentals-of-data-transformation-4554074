{
 "cells": [
  {
   "cell_type": "code",
   "execution_count": null,
   "metadata": {},
   "outputs": [],
   "source": [
    "import pandas as pd\n",
    "import numpy as np"
   ]
  },
  {
   "cell_type": "markdown",
   "metadata": {},
   "source": [
    "We'd be remiss if we didn't cover _what dataframes are_ and  how to _create_ datafames with Pandas, so here's a quick primer.\n",
    "\n",
    "\n",
    "A Pandas DataFrame is a way to store data in Python that's similar to an Excel spreadsheet or a table in a relational database. Like an Excel spreadsheet, it organizes data into rows and columns, which makes it easy to see and work with. Each column in a DataFrame holds data of the same type, for example, all numbers or all text, just like columns in Excel. Each row in a DataFrame is like a record in a database table, containing different types of data across its columns.\n",
    "\n",
    "If you're familiar with how databases work, you know that you can filter data, join tables, and aggregate data in a database. DataFrames allow you to do similar things in Python. You can filter rows, join DataFrames together like you would join tables in a database, and summarize data. This makes DataFrames a powerful tool for data analysis, giving you a familiar way to handle data in Python if you're already used to working with Excel spreadsheets or database tables.\n",
    "\n",
    "Dataframes can be constructed like any other object— you just need an `index`, `columns`, & `data`!"
   ]
  },
  {
   "cell_type": "code",
   "execution_count": null,
   "metadata": {},
   "outputs": [],
   "source": [
    "new_df = pd.DataFrame(\n",
    "    columns=[\"A\", \"B\", \"C\", \"D\", \"E\"],\n",
    "    index=[\"V\", \"W\", \"X\", \"Y\", \"Z\"],\n",
    "    # Generate a 2D Vandermonte matrix (https://en.wikipedia.org/wiki/Vandermonde_matrix)\n",
    "    data=np.vander((5, 4, 3, 2, 1), 5),\n",
    ")\n",
    "display(new_df)"
   ]
  },
  {
   "cell_type": "markdown",
   "metadata": {},
   "source": [
    "Columns can be added through assignment. Columnar operations are supported for like-kind columns."
   ]
  },
  {
   "cell_type": "code",
   "execution_count": null,
   "metadata": {},
   "outputs": [],
   "source": [
    "new_df[\"F\"] = new_df[\"A\"] + new_df[\"B\"] + new_df[\"C\"] + new_df[\"D\"] + new_df[\"E\"]\n",
    "display(new_df)"
   ]
  },
  {
   "cell_type": "markdown",
   "metadata": {},
   "source": [
    "Columns can also be dropped or renamed, but it's usually best to create a new dataframe:"
   ]
  },
  {
   "cell_type": "code",
   "execution_count": null,
   "metadata": {},
   "outputs": [],
   "source": [
    "# Hopefully, you're a bit more creative than us :)\n",
    "\n",
    "# Drop and assign to a new dataframe\n",
    "new_new_df = new_df.drop(\"F\", axis=1)\n",
    "\n",
    "# Drop the data in place\n",
    "new_df.drop(\"F\", axis=1, inplace=True)"
   ]
  },
  {
   "cell_type": "markdown",
   "metadata": {},
   "source": [
    "We can also manipulate entire dataframes"
   ]
  },
  {
   "cell_type": "code",
   "execution_count": null,
   "metadata": {},
   "outputs": [],
   "source": [
    "double_new_df = new_df * 2\n",
    "display(double_new_df)"
   ]
  },
  {
   "cell_type": "markdown",
   "metadata": {},
   "source": [
    "The main elements of a dataframe are it's columns, indices, & data... We can access these at any time:"
   ]
  },
  {
   "cell_type": "code",
   "execution_count": null,
   "metadata": {},
   "outputs": [],
   "source": [
    "new_df.columns"
   ]
  },
  {
   "cell_type": "code",
   "execution_count": null,
   "metadata": {},
   "outputs": [],
   "source": [
    "new_df.index"
   ]
  },
  {
   "cell_type": "code",
   "execution_count": null,
   "metadata": {},
   "outputs": [],
   "source": [
    "new_df[\"A\"]"
   ]
  },
  {
   "cell_type": "code",
   "execution_count": null,
   "metadata": {},
   "outputs": [],
   "source": [
    "new_df.loc[\"V\"]"
   ]
  },
  {
   "cell_type": "code",
   "execution_count": null,
   "metadata": {},
   "outputs": [],
   "source": [
    "new_df.iloc[0]"
   ]
  },
  {
   "cell_type": "markdown",
   "metadata": {},
   "source": [
    "Like relational data, dataframes can be joined (JOIN) or concatenated (UNION). The easiest way to do this with Pandas is using [pd.concat](https://pandas.pydata.org/docs/reference/api/pandas.concat.html)"
   ]
  },
  {
   "cell_type": "code",
   "execution_count": null,
   "metadata": {},
   "outputs": [],
   "source": [
    "join_df = pd.concat([new_df, double_new_df], axis=1)\n",
    "display(join_df)"
   ]
  },
  {
   "cell_type": "code",
   "execution_count": null,
   "metadata": {},
   "outputs": [],
   "source": [
    "union_df = pd.concat([new_df, double_new_df], axis=0)\n",
    "display(union_df)"
   ]
  },
  {
   "cell_type": "markdown",
   "metadata": {},
   "source": [
    "Of course, you can also specify the `join` and `keys` parameters to modify the joins, just as you would SQL."
   ]
  },
  {
   "cell_type": "markdown",
   "metadata": {},
   "source": [
    "So that's the basics of DataFrames! You can think of them as you would a relational database or a spreadsheet— they're nothing more than a tabular way to store data with rows/indices.\n",
    "\n",
    "DataFrames can be manipulated with Pandas, Polars, Numpy, or DuckDB, as you'll see in this course. There's an extensive amount of documentation online, so if you get stuck, Google or StackOverflow is your friend!"
   ]
  },
  {
   "cell_type": "code",
   "execution_count": null,
   "metadata": {},
   "outputs": [],
   "source": []
  }
 ],
 "metadata": {
  "kernelspec": {
   "display_name": "lil-cdt",
   "language": "python",
   "name": "python3"
  },
  "language_info": {
   "codemirror_mode": {
    "name": "ipython",
    "version": 3
   },
   "file_extension": ".py",
   "mimetype": "text/x-python",
   "name": "python",
   "nbconvert_exporter": "python",
   "pygments_lexer": "ipython3",
   "version": "3.10.0"
  }
 },
 "nbformat": 4,
 "nbformat_minor": 2
}
