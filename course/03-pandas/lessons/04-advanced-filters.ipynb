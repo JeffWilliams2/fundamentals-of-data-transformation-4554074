{
 "cells": [
  {
   "cell_type": "code",
   "execution_count": null,
   "metadata": {},
   "outputs": [],
   "source": [
    "import pandas as pd\n",
    "\n",
    "parks_df = pd.read_parquet(\"../../data/nps/nps_public_data_parks.parquet\")\n",
    "parks_df.head()"
   ]
  },
  {
   "cell_type": "markdown",
   "metadata": {},
   "source": [
    "We've already got pretty fancy with our pandas filtering, so here are a few more helpful concepts for you to filter data."
   ]
  },
  {
   "cell_type": "markdown",
   "metadata": {},
   "source": [
    "The isin() method filters rows based on a list of values. You can also use string methods like `str.contains()` for filtering strings, similar to `LIKE` in SQL. Here's an example using both that we're familiar with:"
   ]
  },
  {
   "cell_type": "code",
   "execution_count": null,
   "metadata": {},
   "outputs": [],
   "source": [
    "national_parks_df = parks_df[parks_df[\"designation\"].str.contains(\"National Park\")]\n",
    "\n",
    "national_parks_df[\"states_list\"] = parks_df[\"states\"].str.split(\",\")\n",
    "\n",
    "states_exploded = national_parks_df.explode(\"states_list\")\n",
    "\n",
    "states_exploded[\n",
    "    states_exploded[\"states_list\"].isin([\"CA\", \"NV\", \"AZ\", \"UT\", \"CO\", \"NM\"])\n",
    "][[\"name\", \"states_list\"]]"
   ]
  },
  {
   "cell_type": "markdown",
   "metadata": {},
   "source": [
    "We can also use the isnull() and notnull() methods to filter rows based on null (NaN) values in a column."
   ]
  },
  {
   "cell_type": "code",
   "execution_count": null,
   "metadata": {},
   "outputs": [],
   "source": [
    "import pandas as pd\n",
    "\n",
    "alerts_df = pd.read_parquet(\"../../data/nps/nps_public_data_alerts.parquet\")\n",
    "\n",
    "alerts_df[\"alert_date\"] = pd.to_datetime(alerts_df[\"lastIndexedDate\"]).dt.date"
   ]
  },
  {
   "cell_type": "code",
   "execution_count": null,
   "metadata": {},
   "outputs": [],
   "source": [
    "num_alerts = (\n",
    "    alerts_df.groupby([\"alert_date\", \"category\"])[\"description\"].count().reset_index()\n",
    ")\n",
    "\n",
    "num_alerts.rename(columns={\"description\": \"num_alerts\"}, inplace=True)\n",
    "\n",
    "num_alerts.head()"
   ]
  },
  {
   "cell_type": "markdown",
   "metadata": {},
   "source": [
    "But empty strings are _not_ considered null by pandas, so we'll have to first convert them!"
   ]
  },
  {
   "cell_type": "code",
   "execution_count": null,
   "metadata": {},
   "outputs": [],
   "source": [
    "import numpy as np\n",
    "\n",
    "num_alerts[\"category\"].replace(\"\", np.nan, inplace=True)\n",
    "\n",
    "num_alerts[num_alerts[\"category\"].notnull()]"
   ]
  }
 ],
 "metadata": {
  "kernelspec": {
   "display_name": "lil-cdt",
   "language": "python",
   "name": "python3"
  },
  "language_info": {
   "codemirror_mode": {
    "name": "ipython",
    "version": 3
   },
   "file_extension": ".py",
   "mimetype": "text/x-python",
   "name": "python",
   "nbconvert_exporter": "python",
   "pygments_lexer": "ipython3",
   "version": "3.12.0"
  }
 },
 "nbformat": 4,
 "nbformat_minor": 2
}
