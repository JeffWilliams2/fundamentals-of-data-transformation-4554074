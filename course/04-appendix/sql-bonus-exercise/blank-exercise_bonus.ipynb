{
 "cells": [
  {
   "cell_type": "code",
   "execution_count": null,
   "metadata": {},
   "outputs": [],
   "source": [
    "import pandas as pd\n",
    "import duckdb\n",
    "\n",
    "# Load SQL extension\n",
    "%load_ext sql\n",
    "\n",
    "# Initialize 🦆 DuckDB connection\n",
    "conn = duckdb.connect()\n",
    "\n",
    "# Import database\n",
    "%sql conn --alias duckdb"
   ]
  },
  {
   "cell_type": "markdown",
   "metadata": {},
   "source": [
    "Powerball is a popular lottery game in the United States. Players choose five numbers from 1 to 69 and a Powerball number from 1 to 26. A player wins the jackpot by matching all five numbers plus the Powerball number. Learn more about Powerball [here](https://en.wikipedia.org/wiki/Powerball). \n",
    "\n",
    "In this bonus exercise, we'll look at New York lottery powerball data"
   ]
  },
  {
   "cell_type": "code",
   "execution_count": null,
   "metadata": {},
   "outputs": [],
   "source": [
    "powerball_df = pd.read_csv(\"https://data.ny.gov/api/views/d6yy-54nr/rows.csv\")\n",
    "\n",
    "powerball_df.rename(\n",
    "    columns={k: k.lower().replace(\" \", \"_\") for k in powerball_df.columns}, inplace=True\n",
    ")"
   ]
  },
  {
   "cell_type": "markdown",
   "metadata": {},
   "source": [
    "The winning numbers are made up of five \"white balls\" from a matrix of 69 and one \"Powerball\" from a matrix of 26, resulting in jackpot odds of 1 in 292,201,338 per play."
   ]
  },
  {
   "cell_type": "code",
   "execution_count": null,
   "metadata": {},
   "outputs": [],
   "source": [
    "%%sql\n",
    "SELECT * FROM powerball_df LIMIT 5"
   ]
  },
  {
   "cell_type": "markdown",
   "metadata": {},
   "source": [
    "Write a query that splits the winning numbers into separate columns. Your query should return a result with columns: `draw_date`, `num1`, `num2`, `num3`, `num4`, `num5`, `num6`, and `multiplier`"
   ]
  },
  {
   "cell_type": "code",
   "execution_count": null,
   "metadata": {},
   "outputs": [],
   "source": [
    "%%sql"
   ]
  },
  {
   "cell_type": "markdown",
   "metadata": {},
   "source": [
    "Using the above as a base, write a new query that returns a table where each drawn number represents a row and each column is the count of occurences where that number was drawn in the proper position. Your response should look like this:\n",
    "\n",
    "| range_str | num1_ct | num2_ct | num3_ct | num4_ct | num5_ct | num6_ct |\n",
    "|----------:|--------:|--------:|--------:|--------:|--------:|--------:|\n",
    "|        01 |     121 |       0 |       0 |       0 |       0 |      54 |\n",
    "|        02 |     112 |       9 |       0 |       0 |       0 |      51 |\n",
    "|        03 |     106 |      18 |       1 |       0 |       0 |      52 |\n",
    "|        04 |      90 |      22 |       0 |       0 |       0 |      64 |\n",
    "|        05 |      96 |      17 |       0 |       0 |       0 |      59 |\n",
    "\n",
    "Hints:\n",
    "- The numbers aren't actually numbers— their left padded strings. \n",
    "- We can't be sure every number has been drawn to create the \"index\" (range_str)— it might be best to generate the index instead."
   ]
  },
  {
   "cell_type": "code",
   "execution_count": null,
   "metadata": {
    "vscode": {
     "languageId": "sql"
    }
   },
   "outputs": [],
   "source": [
    "%%sql"
   ]
  },
  {
   "cell_type": "markdown",
   "metadata": {},
   "source": [
    "Modify the previous query to return the _most_ common number for each draw"
   ]
  },
  {
   "cell_type": "code",
   "execution_count": null,
   "metadata": {},
   "outputs": [],
   "source": [
    "%%sql"
   ]
  },
  {
   "cell_type": "markdown",
   "metadata": {},
   "source": [
    "In addition to returning the most popular number, return the percentage of time that number was drawn"
   ]
  },
  {
   "cell_type": "code",
   "execution_count": null,
   "metadata": {},
   "outputs": [],
   "source": [
    "%%sql\n"
   ]
  },
  {
   "cell_type": "markdown",
   "metadata": {},
   "source": [
    "Have the most popular numbers ever been drawn sequentially?"
   ]
  },
  {
   "cell_type": "code",
   "execution_count": null,
   "metadata": {},
   "outputs": [],
   "source": [
    "%%sql\n",
    "SELECT\n",
    "    *\n",
    "FROM powerball_df \n",
    "WHERE winning_numbers = '01 12 37 45 59 24'\n",
    "# :("
   ]
  },
  {
   "cell_type": "markdown",
   "metadata": {},
   "source": [
    "Now write a query that, for each draw number, returns the first date. The output should look something like:\n",
    "\n",
    "| range_str |      num_1 |      num_2 |      num_3 | num_4 | num_5 |      num_6 |\n",
    "|----------:|-----------:|-----------:|-----------:|------:|------:|-----------:|\n",
    "|        01 | 2010-04-24 |        NaT |        NaT |   NaT |   NaT | 2010-02-13 |\n",
    "|        02 | 2010-05-19 | 2014-01-22 |        NaT |   NaT |   NaT | 2010-07-28 |\n",
    "|        03 | 2010-07-03 | 2010-05-29 | 2019-02-09 |   NaT |   NaT | 2010-07-03 |\n",
    "|        04 | 2010-02-24 | 2011-03-12 |        NaT |   NaT |   NaT | 2010-02-06 |\n",
    "|        05 | 2010-02-10 | 2011-01-26 |        NaT |   NaT |   NaT | 2010-04-24 |\n",
    "|        06 | 2010-03-13 | 2010-05-26 | 2015-03-28 |   NaT |   NaT | 2010-06-16 |"
   ]
  },
  {
   "cell_type": "code",
   "execution_count": null,
   "metadata": {
    "vscode": {
     "languageId": "sql"
    }
   },
   "outputs": [],
   "source": [
    "%%sql"
   ]
  },
  {
   "cell_type": "markdown",
   "metadata": {},
   "source": [
    "Can you find the first drawn set of numbers by windowing over the previous result?"
   ]
  },
  {
   "cell_type": "code",
   "execution_count": null,
   "metadata": {
    "vscode": {
     "languageId": "sql"
    }
   },
   "outputs": [],
   "source": [
    "%%sql"
   ]
  },
  {
   "cell_type": "code",
   "execution_count": null,
   "metadata": {
    "vscode": {
     "languageId": "sql"
    }
   },
   "outputs": [],
   "source": [
    "%%sql"
   ]
  }
 ],
 "metadata": {
  "kernelspec": {
   "display_name": "lil-cdt",
   "language": "python",
   "name": "python3"
  },
  "language_info": {
   "codemirror_mode": {
    "name": "ipython",
    "version": 3
   },
   "file_extension": ".py",
   "mimetype": "text/x-python",
   "name": "python",
   "nbconvert_exporter": "python",
   "pygments_lexer": "ipython3",
   "version": "3.12.0"
  }
 },
 "nbformat": 4,
 "nbformat_minor": 2
}
