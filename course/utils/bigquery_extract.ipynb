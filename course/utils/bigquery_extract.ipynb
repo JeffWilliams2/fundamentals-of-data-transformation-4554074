{
 "cells": [
  {
   "cell_type": "markdown",
   "id": "a8b210f4",
   "metadata": {},
   "source": [
    "Pull data from the `nps-public-data` [BigQuery project](https://github.com/tonymet/nps-public-data), load to DuckDB tables and export to parquet."
   ]
  },
  {
   "cell_type": "code",
   "execution_count": 1,
   "id": "b79f914f-02fb-48e5-9ec8-e9b0b9075de5",
   "metadata": {},
   "outputs": [],
   "source": [
    "import duckdb\n",
    "from google.cloud import bigquery\n",
    "\n",
    "con = duckdb.connect(\"../data/nps.db\")\n",
    "\n",
    "bqclient = bigquery.Client(project=\"nps-public-data\")\n",
    "\n",
    "dataset_ref = f\"nps-public-data.nps_public_data\""
   ]
  },
  {
   "cell_type": "code",
   "execution_count": 2,
   "id": "d5e91b0c-64bf-429a-8458-7bac22a90c1c",
   "metadata": {},
   "outputs": [
    {
     "name": "stdout",
     "output_type": "stream",
     "text": [
      "nps-public-data.nps_public_data.activities\n",
      "nps-public-data.nps_public_data.activities__parks\n",
      "nps-public-data.nps_public_data.alerts\n",
      "nps-public-data.nps_public_data.amenities\n",
      "nps-public-data.nps_public_data.amenities__parks\n",
      "nps-public-data.nps_public_data.amenities__parksplaces\n",
      "nps-public-data.nps_public_data.amenities__parksvisitorcenters\n",
      "nps-public-data.nps_public_data.amenities__parkvisitorcenters\n",
      "nps-public-data.nps_public_data.articles\n",
      "nps-public-data.nps_public_data.campgrounds\n",
      "nps-public-data.nps_public_data.events\n",
      "nps-public-data.nps_public_data.feespasses\n",
      "nps-public-data.nps_public_data.lessonplans\n",
      "nps-public-data.nps_public_data.meta\n",
      "nps-public-data.nps_public_data.multimedia__audio\n",
      "nps-public-data.nps_public_data.multimedia__galleries\n",
      "nps-public-data.nps_public_data.multimedia__galleries__assets\n",
      "nps-public-data.nps_public_data.multimedia__videos\n",
      "nps-public-data.nps_public_data.newsreleases\n",
      "nps-public-data.nps_public_data.parkinglots\n",
      "nps-public-data.nps_public_data.parks\n",
      "nps-public-data.nps_public_data.passportstamplocations\n",
      "nps-public-data.nps_public_data.people\n",
      "nps-public-data.nps_public_data.places\n",
      "nps-public-data.nps_public_data.thingstodo\n",
      "nps-public-data.nps_public_data.topics\n",
      "nps-public-data.nps_public_data.topics__parks\n",
      "nps-public-data.nps_public_data.tours\n",
      "nps-public-data.nps_public_data.visitorcenters\n",
      "nps-public-data.nps_public_data.webcams\n"
     ]
    },
    {
     "data": {
      "text/plain": [
       "┌──────────┬─────────────────┬──────────────────────┬──────────────────────┬───────────────────────────────┬───────────┐\n",
       "│ database │     schema      │         name         │     column_names     │         column_types          │ temporary │\n",
       "│ varchar  │     varchar     │       varchar        │      varchar[]       │           varchar[]           │  boolean  │\n",
       "├──────────┼─────────────────┼──────────────────────┼──────────────────────┼───────────────────────────────┼───────────┤\n",
       "│ nps      │ nps_public_data │ activities           │ [name, id]           │ [VARCHAR, VARCHAR]            │ false     │\n",
       "│ nps      │ nps_public_data │ activities__parks    │ [parks, name, id]    │ [STRUCT(\"name\" VARCHAR, ful…  │ false     │\n",
       "│ nps      │ nps_public_data │ alerts               │ [relatedRoadEvents…  │ [STRUCT(\"type\" VARCHAR, url…  │ false     │\n",
       "│ nps      │ nps_public_data │ amenities            │ [categories, name,…  │ [VARCHAR[], VARCHAR, VARCHAR] │ false     │\n",
       "│ nps      │ nps_public_data │ amenities__parks     │ [parks, name, id]    │ [STRUCT(\"name\" VARCHAR, url…  │ false     │\n",
       "│ nps      │ nps_public_data │ amenities__parkspl…  │ [parks, name, id]    │ [STRUCT(\"name\" VARCHAR, url…  │ false     │\n",
       "│ nps      │ nps_public_data │ amenities__parksvi…  │ [parks, name, id]    │ [STRUCT(\"name\" VARCHAR, url…  │ false     │\n",
       "│ nps      │ nps_public_data │ amenities__parkvis…  │ [parks, name, id]    │ [STRUCT(\"name\" VARCHAR, url…  │ false     │\n",
       "│ nps      │ nps_public_data │ articles             │ [credit, geometryP…  │ [VARCHAR, VARCHAR, DOUBLE, …  │ false     │\n",
       "│ nps      │ nps_public_data │ campgrounds          │ [lastIndexedDate, …  │ [VARCHAR, DOUBLE, STRUCT(cl…  │ false     │\n",
       "│  ·       │        ·        │   ·                  │          ·           │               ·               │   ·       │\n",
       "│  ·       │        ·        │   ·                  │          ·           │               ·               │   ·       │\n",
       "│  ·       │        ·        │   ·                  │          ·           │               ·               │   ·       │\n",
       "│ nps      │ nps_public_data │ parks                │ [relevanceScore, d…  │ [BIGINT, VARCHAR, VARCHAR, …  │ false     │\n",
       "│ nps      │ nps_public_data │ passportstamplocat…  │ [parks, type, labe…  │ [STRUCT(\"name\" VARCHAR, ful…  │ false     │\n",
       "│ nps      │ nps_public_data │ people               │ [relevanceScore, m…  │ [BIGINT, STRUCT(\"type\" VARC…  │ false     │\n",
       "│ nps      │ nps_public_data │ places               │ [relevanceScore, m…  │ [DOUBLE, STRUCT(\"type\" VARC…  │ false     │\n",
       "│ nps      │ nps_public_data │ thingstodo           │ [duration, timeOfD…  │ [VARCHAR, VARCHAR[], VARCHA…  │ false     │\n",
       "│ nps      │ nps_public_data │ topics               │ [name, id]           │ [VARCHAR, VARCHAR]            │ false     │\n",
       "│ nps      │ nps_public_data │ topics__parks        │ [parks, name, id]    │ [STRUCT(\"name\" VARCHAR, ful…  │ false     │\n",
       "│ nps      │ nps_public_data │ tours                │ [relevanceScore, d…  │ [DOUBLE, VARCHAR, BIGINT, S…  │ false     │\n",
       "│ nps      │ nps_public_data │ visitorcenters       │ [lastIndexedDate, …  │ [VARCHAR, DOUBLE, STRUCT(\"t…  │ false     │\n",
       "│ nps      │ nps_public_data │ webcams              │ [longitude, url, t…  │ [DOUBLE, VARCHAR, VARCHAR[]…  │ false     │\n",
       "├──────────┴─────────────────┴──────────────────────┴──────────────────────┴───────────────────────────────┴───────────┤\n",
       "│ 30 rows (20 shown)                                                                                         6 columns │\n",
       "└──────────────────────────────────────────────────────────────────────────────────────────────────────────────────────┘"
      ]
     },
     "execution_count": 2,
     "metadata": {},
     "output_type": "execute_result"
    }
   ],
   "source": [
    "schema = \"nps_public_data\"\n",
    "\n",
    "con.sql(f\"CREATE SCHEMA IF NOT EXISTS {schema}\")\n",
    "\n",
    "tables = bqclient.list_tables(dataset_ref)\n",
    "\n",
    "for table in tables:\n",
    "\n",
    "    table_str = f\"{table.project}.{table.dataset_id}.{table.table_id}\"\n",
    "\n",
    "    table = bigquery.TableReference.from_string(table_str)\n",
    "\n",
    "    rows = bqclient.list_rows(table)\n",
    "\n",
    "    # this is a terrible pun\n",
    "    arr_rows = rows.to_arrow(create_bqstorage_client=True)\n",
    "\n",
    "    sql_ref = f\"{schema}.{table.table_id}\"\n",
    "\n",
    "    con.sql(\n",
    "        f\"\"\"\n",
    "        DROP TABLE IF EXISTS {sql_ref};\n",
    "        CREATE TABLE {sql_ref} AS SELECT * FROM arr_rows;\n",
    "        \"\"\"\n",
    "    )\n",
    "\n",
    "    print(table_str)\n",
    "\n",
    "con.sql(\"SHOW ALL tables\")"
   ]
  },
  {
   "cell_type": "code",
   "execution_count": 5,
   "id": "7a52d23c-d203-4f73-b0f2-3a2c7a1727f5",
   "metadata": {},
   "outputs": [],
   "source": [
    "dbname = \"nps\"\n",
    "con.sql(\n",
    "    f\"EXPORT DATABASE '../data/{dbname}' (FORMAT PARQUET, COMPRESSION ZSTD, ROW_GROUP_SIZE 100000);\"\n",
    ")\n",
    "\n",
    "con.close()"
   ]
  }
 ],
 "metadata": {
  "kernelspec": {
   "display_name": "lil-cdt",
   "language": "python",
   "name": "python3"
  },
  "language_info": {
   "codemirror_mode": {
    "name": "ipython",
    "version": 3
   },
   "file_extension": ".py",
   "mimetype": "text/x-python",
   "name": "python",
   "nbconvert_exporter": "python",
   "pygments_lexer": "ipython3",
   "version": "3.10.0"
  }
 },
 "nbformat": 4,
 "nbformat_minor": 5
}
