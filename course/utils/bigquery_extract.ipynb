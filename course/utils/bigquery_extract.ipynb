{
 "cells": [
  {
   "cell_type": "markdown",
   "id": "a8b210f4",
   "metadata": {},
   "source": [
    "Pull data from the `nps-public-data` [BigQuery project](https://github.com/tonymet/nps-public-data), load to DuckDB tables and export to parquet."
   ]
  },
  {
   "cell_type": "code",
   "execution_count": null,
   "id": "b79f914f-02fb-48e5-9ec8-e9b0b9075de5",
   "metadata": {},
   "outputs": [],
   "source": [
    "import duckdb\n",
    "from google.cloud import bigquery\n",
    "\n",
    "con = duckdb.connect(\"../data/nps.db\")\n",
    "\n",
    "bqclient = bigquery.Client(project=\"nps-public-data\")\n",
    "\n",
    "dataset_ref = f\"nps-public-data.nps_public_data\""
   ]
  },
  {
   "cell_type": "code",
   "execution_count": null,
   "id": "d5e91b0c-64bf-429a-8458-7bac22a90c1c",
   "metadata": {},
   "outputs": [],
   "source": [
    "schema = \"nps_public_data\"\n",
    "\n",
    "con.sql(f\"CREATE SCHEMA IF NOT EXISTS {schema}\")\n",
    "\n",
    "tables = bqclient.list_tables(dataset_ref)\n",
    "\n",
    "for table in tables:\n",
    "\n",
    "    table_str = f\"{table.project}.{table.dataset_id}.{table.table_id}\"\n",
    "\n",
    "    table = bigquery.TableReference.from_string(table_str)\n",
    "\n",
    "    rows = bqclient.list_rows(table)\n",
    "\n",
    "    # this is a terrible pun\n",
    "    arr_rows = rows.to_arrow(create_bqstorage_client=True)\n",
    "\n",
    "    sql_ref = f\"{schema}.{table.table_id}\"\n",
    "\n",
    "    con.sql(\n",
    "        f\"\"\"\n",
    "        DROP TABLE IF EXISTS {sql_ref};\n",
    "        CREATE TABLE {sql_ref} AS SELECT * FROM arr_rows;\n",
    "        \"\"\"\n",
    "    )\n",
    "\n",
    "    print(table_str)\n",
    "\n",
    "con.sql(\"SHOW ALL tables\")"
   ]
  },
  {
   "cell_type": "code",
   "execution_count": null,
   "id": "7a52d23c-d203-4f73-b0f2-3a2c7a1727f5",
   "metadata": {},
   "outputs": [],
   "source": [
    "dbname = \"nps\"\n",
    "con.sql(\n",
    "    f\"EXPORT DATABASE '../data/{dbname}' (FORMAT PARQUET, COMPRESSION ZSTD, ROW_GROUP_SIZE 100000);\"\n",
    ")\n",
    "\n",
    "con.close()"
   ]
  },
  {
   "cell_type": "code",
   "execution_count": null,
   "id": "dab8c035",
   "metadata": {},
   "outputs": [],
   "source": []
  }
 ],
 "metadata": {
  "kernelspec": {
   "display_name": "lil-cdt",
   "language": "python",
   "name": "python3"
  },
  "language_info": {
   "codemirror_mode": {
    "name": "ipython",
    "version": 3
   },
   "file_extension": ".py",
   "mimetype": "text/x-python",
   "name": "python",
   "nbconvert_exporter": "python",
   "pygments_lexer": "ipython3",
   "version": "3.10.0"
  }
 },
 "nbformat": 4,
 "nbformat_minor": 5
}
