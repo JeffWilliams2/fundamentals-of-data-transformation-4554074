{
 "cells": [
  {
   "cell_type": "markdown",
   "metadata": {},
   "source": [
    "The SQL component to the is course will use DuckDB— an _in-memory_ analytics engine that let's you write full-featured SQL without the need for a stand-alone database.\n",
    "\n",
    "If you nerd out over that stuff, like me, you can read more [here](https://open.substack.com/pub/casewhen/p/data-explained-what-is-duckdb?r=rnul&utm_campaign=post&utm_medium=web). \n",
    "\n",
    "For now, you can just assume that the following code will load DuckDB + the necessary datasets, so you can sit back and relax:"
   ]
  },
  {
   "cell_type": "code",
   "execution_count": null,
   "metadata": {},
   "outputs": [],
   "source": [
    "import duckdb\n",
    "\n",
    "# Load SQL extension\n",
    "%load_ext sql\n",
    "\n",
    "# Initialize 🦆 DuckDB connection\n",
    "conn = duckdb.connect()\n",
    "\n",
    "# Import database\n",
    "%sql conn --alias duckdb\n",
    "%sql IMPORT DATABASE '../../data/nps';"
   ]
  },
  {
   "cell_type": "markdown",
   "metadata": {},
   "source": [
    "Now, we can focus on writing SQL! DuckDB is like any other variant— you can `SELECT` columns `FROM` some data source. (note we need `%%sql` at the beginning of the cell to make it work with our setup)"
   ]
  },
  {
   "cell_type": "code",
   "execution_count": null,
   "metadata": {},
   "outputs": [],
   "source": [
    "%%sql \n",
    "SELECT\n",
    "    *\n",
    "FROM nps_public_data.parks\n",
    "LIMIT 1"
   ]
  },
  {
   "cell_type": "markdown",
   "metadata": {},
   "source": [
    "Because this is a _transformation_ focused course, we'll assume you know the basics of SQL, but here are a few quick refreshers if you're rusty.\n",
    "\n",
    "Some SQL basics and refreshers:\n",
    "- Every query is made up of a `SELECT` and `FROM` \n",
    "- Between those two, we list the columns, separated by a comma. \n",
    "- We can _alias_ columns or our data source using _as_ (technically not required, but a good idea)"
   ]
  },
  {
   "cell_type": "code",
   "execution_count": null,
   "metadata": {},
   "outputs": [],
   "source": [
    "%%sql \n",
    "SELECT\n",
    "    fullName as full_name,\n",
    "    weatherInfo as weather_info,\n",
    "    operatingHours as operating_hours\n",
    "FROM nps_public_data.parks as not_parks\n",
    "LIMIT 3"
   ]
  },
  {
   "cell_type": "markdown",
   "metadata": {},
   "source": [
    "If there's anything you don't know, feel free to poke around online or play around with the parks data loaded into this notebook.\n",
    "\n",
    "Otherwise, I highly encourage learning by observing and playing— feel free to open up a new cell, drop in `%%sql` and query some sample data! You can find out more about the database by running `SHOW ALL TABLES`"
   ]
  },
  {
   "cell_type": "code",
   "execution_count": null,
   "metadata": {},
   "outputs": [],
   "source": [
    "%%sql\n",
    "SHOW ALL TABLES"
   ]
  },
  {
   "cell_type": "markdown",
   "metadata": {},
   "source": [
    "Otherwise, let's talk a bit about structure.\n",
    "\n",
    "You'll notice my queries are formatted very precisely. Why do we do this? Well, simple— it's easy to read and it makes code repeatable, editable, and understandable. As we go through the course, pay attention to how queries and CTEs are structured.\n",
    "\n",
    "I'll be sure to call these out as we go along. There are also tools out there, called linters, that can automagically format the code in your SQL files & repos. [SQLfluff](https://www.sqlfluff.com/) is a good place to start! "
   ]
  }
 ],
 "metadata": {
  "kernelspec": {
   "display_name": "lil-cdt",
   "language": "python",
   "name": "python3"
  },
  "language_info": {
   "codemirror_mode": {
    "name": "ipython",
    "version": 3
   },
   "file_extension": ".py",
   "mimetype": "text/x-python",
   "name": "python",
   "nbconvert_exporter": "python",
   "pygments_lexer": "ipython3",
   "version": "3.10.0"
  }
 },
 "nbformat": 4,
 "nbformat_minor": 2
}
