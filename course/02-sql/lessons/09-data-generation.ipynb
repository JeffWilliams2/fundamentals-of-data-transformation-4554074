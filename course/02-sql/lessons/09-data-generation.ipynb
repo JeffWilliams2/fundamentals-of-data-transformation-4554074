{
 "cells": [
  {
   "cell_type": "code",
   "execution_count": null,
   "metadata": {},
   "outputs": [],
   "source": [
    "import duckdb\n",
    "\n",
    "# Load SQL extension\n",
    "%load_ext sql\n",
    "\n",
    "# Initialize 🦆 DuckDB connection\n",
    "conn = duckdb.connect()\n",
    "\n",
    "# Import database\n",
    "%sql conn --alias duckdb\n",
    "%sql IMPORT DATABASE '../../data/nps';"
   ]
  },
  {
   "cell_type": "markdown",
   "metadata": {},
   "source": [
    "Most SQL DBs come with a number of handy ways to generate data. This can be very useful for creating an index to aggregate data, whether that's numerical or date-based."
   ]
  },
  {
   "cell_type": "code",
   "execution_count": null,
   "metadata": {
    "vscode": {
     "languageId": "sql"
    }
   },
   "outputs": [],
   "source": [
    "%%sql\n",
    "SELECT\n",
    "    r.range\n",
    "FROM range(0,100) r\n",
    "LIMIT 5"
   ]
  },
  {
   "cell_type": "markdown",
   "metadata": {},
   "source": [
    "We can also increment by different values"
   ]
  },
  {
   "cell_type": "code",
   "execution_count": null,
   "metadata": {
    "vscode": {
     "languageId": "sql"
    }
   },
   "outputs": [],
   "source": [
    "%%sql\n",
    "SELECT\n",
    "    r.range\n",
    "FROM range(0,100,2) r\n",
    "LIMIT 5"
   ]
  },
  {
   "cell_type": "markdown",
   "metadata": {},
   "source": [
    "Or generate dates"
   ]
  },
  {
   "cell_type": "code",
   "execution_count": null,
   "metadata": {
    "vscode": {
     "languageId": "sql"
    }
   },
   "outputs": [],
   "source": [
    "%%sql\n",
    "SELECT\n",
    "    r.range\n",
    "FROM range(DATE '2019-01-01', DATE '2025-01-01', INTERVAL '1 day') r\n",
    "LIMIT 5;"
   ]
  },
  {
   "cell_type": "markdown",
   "metadata": {},
   "source": [
    "Why is this useful? Well imagine you'd like to pull in data from multiple sources or generate a running aggregation. We can't always be sure that every date/number is accounted for... Generating a range allows us to _be sure_ every date is covered!"
   ]
  },
  {
   "cell_type": "code",
   "execution_count": null,
   "metadata": {
    "vscode": {
     "languageId": "sql"
    }
   },
   "outputs": [],
   "source": [
    "%%sql\n",
    "WITH date_range AS (\n",
    "    SELECT\n",
    "        r.range\n",
    "    FROM range(DATE '2024-02-01', DATE '2024-02-29', INTERVAL '1 day') r\n",
    ")\n",
    "SELECT\n",
    "    dr.range as dt,\n",
    "    COUNT(DISTINCT a.title) as num_alerts\n",
    "FROM date_range dr\n",
    "LEFT JOIN nps_public_data.alerts a\n",
    "    ON dr.range::DATE = a.lastindexeddate::DATE\n",
    "GROUP BY 1\n",
    "ORDER BY 1\n",
    "LIMIT 12"
   ]
  },
  {
   "cell_type": "markdown",
   "metadata": {},
   "source": [
    "Note the days with zero alerts— those would have been skipped without our generated range! Note that there are a few aliases for DuckDB [range functions](https://duckdb.org/docs/sql/functions/nested.html#range-functions) and these look different in every variant of SQL... Some lack it entirely!"
   ]
  },
  {
   "cell_type": "markdown",
   "metadata": {},
   "source": []
  }
 ],
 "metadata": {
  "kernelspec": {
   "display_name": "lil-cdt",
   "language": "python",
   "name": "python3"
  },
  "language_info": {
   "codemirror_mode": {
    "name": "ipython",
    "version": 3
   },
   "file_extension": ".py",
   "mimetype": "text/x-python",
   "name": "python",
   "nbconvert_exporter": "python",
   "pygments_lexer": "ipython3",
   "version": "3.10.0"
  }
 },
 "nbformat": 4,
 "nbformat_minor": 2
}
