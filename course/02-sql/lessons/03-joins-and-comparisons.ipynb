{
 "cells": [
  {
   "cell_type": "code",
   "execution_count": null,
   "metadata": {},
   "outputs": [],
   "source": [
    "import duckdb\n",
    "\n",
    "# Load SQL extension\n",
    "%load_ext sql\n",
    "\n",
    "# Initialize 🦆 DuckDB connection\n",
    "conn = duckdb.connect()\n",
    "\n",
    "# Import database\n",
    "%sql conn --alias duckdb\n",
    "%sql IMPORT DATABASE '../../data/nps';"
   ]
  },
  {
   "cell_type": "markdown",
   "metadata": {},
   "source": [
    "In our previous examples, we used `WHERE` to filter queries, but we can also do so in `JOIN`s. \n",
    "\n",
    "However, we need to be _very_ careful with how joins work."
   ]
  },
  {
   "cell_type": "code",
   "execution_count": null,
   "metadata": {
    "vscode": {
     "languageId": "sql"
    }
   },
   "outputs": [],
   "source": [
    "%%sql\n",
    "SELECT\n",
    "    p.name,\n",
    "    vc.name as visitor_center_name\n",
    "FROM nps_public_data.parks p\n",
    "LEFT JOIN nps_public_data.visitorcenters vc\n",
    "    ON p.parkcode = vc.parkcode\n",
    "WHERE 1 = 1\n",
    "-- Filter base query (parks) for national monument\n",
    "    AND p.designation = 'National Monument'\n",
    "-- Filter JOIN (!) for passport stamp locations.\n",
    "-- what will happen to parks without visitor centers?\n",
    "    AND vc.ispassportstamplocation\n",
    "LIMIT 1"
   ]
  },
  {
   "cell_type": "markdown",
   "metadata": {},
   "source": [
    "How many rows are returned with/without the `LEFT JOIN`? What does that say about the number of parks we're querying? Why do you think that is? `INNER JOINS` are identical to `LEFT JOINS` with a `NOT NULL` clause. Why is that?\n",
    "\n",
    "We can compare the results with a few CTEs and a `UNION`."
   ]
  },
  {
   "cell_type": "code",
   "execution_count": null,
   "metadata": {
    "vscode": {
     "languageId": "sql"
    }
   },
   "outputs": [],
   "source": [
    "%%sql\n",
    "WITH filter_in_join AS (\n",
    "    SELECT\n",
    "        p.name,\n",
    "        vc.name as visitor_center_name\n",
    "    FROM nps_public_data.parks p\n",
    "    INNER JOIN nps_public_data.visitorcenters vc\n",
    "        ON p.parkcode = vc.parkcode\n",
    "), filter_in_where AS (\n",
    "    SELECT\n",
    "        p.name,\n",
    "        vc.name as visitor_center_name\n",
    "    FROM nps_public_data.parks p\n",
    "    LEFT JOIN nps_public_data.visitorcenters vc\n",
    "        ON p.parkcode = vc.parkcode\n",
    "    WHERE vc.parkcode IS NOT NULL\n",
    ")\n",
    "SELECT\n",
    "    COUNT(*) as ct\n",
    "FROM filter_in_join\n",
    "\n",
    "UNION ALL\n",
    "\n",
    "SELECT\n",
    "    COUNT(*) as ct\n",
    "FROM filter_in_where\n"
   ]
  },
  {
   "cell_type": "markdown",
   "metadata": {},
   "source": [
    "Some common ways of filtering data include\n",
    "\n",
    "1. Comparisons (`>`, `<`, `=`)\n",
    "2. `BETWEEN`\n",
    "3. `IN`\n",
    "4. `IS NULL`\n",
    "5. `LIKE` & `ILIKE` // `REGEXP`\n",
    "\n",
    "Comparisons and `BETWEEN` are good for integers, but also timestamps and dates (as we'll see). `IN` can be helpful for lists of data, while `IS NULL` can help us when `NULL` values are a possibility.\n",
    "\n",
    "`ILIKE`, `LIKE`, and `REGEXP` are all useful when pattern matching is at play."
   ]
  },
  {
   "cell_type": "markdown",
   "metadata": {},
   "source": [
    "We can filter numbers and dates with comparisons or between statements"
   ]
  },
  {
   "cell_type": "code",
   "execution_count": null,
   "metadata": {
    "vscode": {
     "languageId": "sql"
    }
   },
   "outputs": [],
   "source": [
    "%%sql\n",
    "SELECT\n",
    "    title,\n",
    "    parkfullname,\n",
    "    category,\n",
    "    isfree,\n",
    "    description\n",
    "FROM nps_public_data.events e\n",
    "WHERE 1 = 1\n",
    "    AND recurrencedatestart > '2024-01-01'\n",
    "    AND recurrencedatestart < '2024-01-23'\n",
    "ORDER BY RANDOM()\n",
    "LIMIT 2\n"
   ]
  },
  {
   "cell_type": "code",
   "execution_count": null,
   "metadata": {
    "vscode": {
     "languageId": "sql"
    }
   },
   "outputs": [],
   "source": [
    "%%sql\n",
    "SELECT\n",
    "    title,\n",
    "    parkfullname,\n",
    "    category,\n",
    "    isfree,\n",
    "    description\n",
    "FROM nps_public_data.events e\n",
    "WHERE 1 = 1\n",
    "    AND recurrencedatestart BETWEEN '2024-01-01' AND '2024-01-23'\n",
    "ORDER BY RANDOM()\n",
    "LIMIT 2"
   ]
  },
  {
   "cell_type": "markdown",
   "metadata": {},
   "source": [
    "What's the difference? `BETWEEN` is _inclusive_~"
   ]
  },
  {
   "cell_type": "code",
   "execution_count": null,
   "metadata": {
    "vscode": {
     "languageId": "sql"
    }
   },
   "outputs": [],
   "source": [
    "%%sql\n",
    "SELECT\n",
    "    'between' as f,\n",
    "    COUNT(*) as ct\n",
    "FROM nps_public_data.events e\n",
    "WHERE 1 = 1\n",
    "    AND recurrencedatestart BETWEEN '2024-01-01' AND '2024-01-23'\n",
    "GROUP BY f\n",
    "\n",
    "UNION ALL\n",
    "\n",
    "SELECT\n",
    "    'greater than' as f,\n",
    "    COUNT(*) as ct\n",
    "FROM nps_public_data.events e\n",
    "WHERE 1 = 1\n",
    "    AND recurrencedatestart > '2024-01-01'\n",
    "    AND recurrencedatestart < '2024-01-23'\n",
    "GROUP BY f"
   ]
  },
  {
   "cell_type": "markdown",
   "metadata": {},
   "source": [
    "Of course, we can also nest logic for multiple timeframes:"
   ]
  },
  {
   "cell_type": "code",
   "execution_count": null,
   "metadata": {
    "vscode": {
     "languageId": "sql"
    }
   },
   "outputs": [],
   "source": [
    "%%sql\n",
    "SELECT\n",
    "    title,\n",
    "    parkfullname,\n",
    "    category,\n",
    "    isfree,\n",
    "    description\n",
    "FROM nps_public_data.events e\n",
    "WHERE 1 = 1\n",
    "    -- Fetch events with dates in January _or_ March\n",
    "    AND (\n",
    "            (recurrencedatestart BETWEEN '2024-01-01' AND '2024-01-31') OR\n",
    "            (recurrencedatestart BETWEEN '2024-03-01' AND '2024-03-31')\n",
    "    ) \n",
    "ORDER BY RANDOM()\n",
    "LIMIT 2"
   ]
  },
  {
   "cell_type": "markdown",
   "metadata": {},
   "source": [
    "Another handy way to filter datasets is through string matching— if you're familiar with Python, you probably know regex, but SQL has a few other, simpler ways. First, `LIKE`:"
   ]
  },
  {
   "cell_type": "code",
   "execution_count": null,
   "metadata": {
    "vscode": {
     "languageId": "sql"
    }
   },
   "outputs": [],
   "source": [
    "%%sql\n",
    "SELECT\n",
    "    title,\n",
    "    parkfullname,\n",
    "    category,\n",
    "    isfree,\n",
    "    description\n",
    "FROM nps_public_data.events e\n",
    "WHERE 1 = 1\n",
    "    AND title LIKE '%Stroll%'\n",
    "LIMIT 5"
   ]
  },
  {
   "cell_type": "markdown",
   "metadata": {},
   "source": [
    "But `LIKE` is case sensitive, so it's easy to miss results."
   ]
  },
  {
   "cell_type": "code",
   "execution_count": null,
   "metadata": {
    "vscode": {
     "languageId": "sql"
    }
   },
   "outputs": [],
   "source": [
    "%%sql\n",
    "SELECT\n",
    "    title,\n",
    "    parkfullname,\n",
    "    category,\n",
    "    isfree,\n",
    "    description\n",
    "FROM nps_public_data.events e\n",
    "WHERE 1 = 1\n",
    "    AND title LIKE '%hike%'\n",
    "LIMIT 5"
   ]
  },
  {
   "cell_type": "markdown",
   "metadata": {},
   "source": [
    "Instead, we can use `ILIKE`, which is case INsensitive"
   ]
  },
  {
   "cell_type": "code",
   "execution_count": null,
   "metadata": {
    "vscode": {
     "languageId": "sql"
    }
   },
   "outputs": [],
   "source": [
    "%%sql\n",
    "SELECT\n",
    "    title,\n",
    "    parkfullname,\n",
    "    category,\n",
    "    isfree,\n",
    "    description\n",
    "FROM nps_public_data.events e\n",
    "WHERE 1 = 1\n",
    "    AND title ILIKE '%hike%'\n",
    "LIMIT 5"
   ]
  },
  {
   "cell_type": "markdown",
   "metadata": {},
   "source": [
    "`LIKE` is also great for cleaning up messy columns:"
   ]
  },
  {
   "cell_type": "code",
   "execution_count": null,
   "metadata": {
    "vscode": {
     "languageId": "sql"
    }
   },
   "outputs": [],
   "source": [
    "%%sql \n",
    "SELECT \n",
    "    name,\n",
    "    managedByOrganization,\n",
    "FROM nps_public_data.parkinglots\n",
    "LIMIT 10"
   ]
  },
  {
   "cell_type": "code",
   "execution_count": null,
   "metadata": {
    "vscode": {
     "languageId": "sql"
    }
   },
   "outputs": [],
   "source": [
    "%%sql \n",
    "SELECT \n",
    "    CASE WHEN name ILIKE '%visitor%' THEN 'Visitor Center'\n",
    "         WHEN name ILIKE '%parking%' THEN 'Parking Lot'\n",
    "         ELSE 'Other'\n",
    "    END as type,\n",
    "    IF(managedByOrganization ILIKE '%NPS%', 'National Park Service', managedByOrganization) as managed_by,\n",
    "\n",
    "FROM nps_public_data.parkinglots\n",
    "LIMIT 10"
   ]
  },
  {
   "cell_type": "markdown",
   "metadata": {},
   "source": [
    "Depending on your flavor of SQL, there might be other ways to pattern match. DuckDB also has `glob` matching & `regex` matching, too. Those are outside the scope of this course, but you can read more [here](https://duckdb.org/docs/sql/functions/patternmatching.html)."
   ]
  },
  {
   "cell_type": "code",
   "execution_count": null,
   "metadata": {
    "vscode": {
     "languageId": "sql"
    }
   },
   "outputs": [],
   "source": [
    "%%sql\n",
    "SELECT * FROM nps_public_data.states LIMIT 3"
   ]
  },
  {
   "cell_type": "markdown",
   "metadata": {},
   "source": [
    "Sometimes, we might need to construct a list to perform a more robust filter. We can use `split` and cast the result to a list of strings to turn the `states` field in parks into a list. Then, we can query the list more properly.\n",
    "\n",
    "In this course, we'll challenge you to think critically about the structure of your data and how you can manipulate it to achieve a desired outcome."
   ]
  },
  {
   "cell_type": "code",
   "execution_count": null,
   "metadata": {
    "vscode": {
     "languageId": "sql"
    }
   },
   "outputs": [],
   "source": [
    "%%sql\n",
    "-- Which parks are fully or partially in Utah?\n",
    "WITH park_states AS (\n",
    "    SELECT \n",
    "        fullname,\n",
    "        states AS states_string, \n",
    "        split(states, ',') ::string[] AS states_list\n",
    "    FROM nps_public_data.parks p\n",
    "    )\n",
    "SELECT \n",
    "    * \n",
    "FROM park_states\n",
    "WHERE list_contains(states_list, 'UT')\n",
    "LIMIT 5"
   ]
  },
  {
   "cell_type": "markdown",
   "metadata": {},
   "source": [
    "This allows for some nifty queries in DuckDB for cross-border parks"
   ]
  },
  {
   "cell_type": "code",
   "execution_count": null,
   "metadata": {
    "vscode": {
     "languageId": "sql"
    }
   },
   "outputs": [],
   "source": [
    "%%sql\n",
    "-- Which parks are both in Utah and Wyoming?\n",
    "WITH park_states AS (\n",
    "    SELECT \n",
    "        fullname,\n",
    "        split(states, ',') ::string[] AS states_list\n",
    "    FROM nps_public_data.parks p\n",
    "    )\n",
    "SELECT \n",
    "    * \n",
    "FROM park_states\n",
    "WHERE list_has_all(states_list, ['UT', 'WY'])"
   ]
  },
  {
   "cell_type": "code",
   "execution_count": null,
   "metadata": {
    "vscode": {
     "languageId": "sql"
    }
   },
   "outputs": [],
   "source": [
    "%%sql\n",
    "-- Which parks are in Utah and/or Wyoming?\n",
    "WITH park_states AS (\n",
    "    SELECT \n",
    "        fullname,\n",
    "        split(states, ',') ::string[] AS states_list\n",
    "    FROM nps_public_data.parks p\n",
    "    )\n",
    "SELECT \n",
    "    * \n",
    "FROM park_states\n",
    "WHERE list_has_any(states_list, ['UT', 'WY'])\n",
    "LIMIT 5"
   ]
  },
  {
   "cell_type": "markdown",
   "metadata": {},
   "source": [
    "We can also filter values in a list using `IN`. This can be pretty handy for picking out multiple values"
   ]
  },
  {
   "cell_type": "code",
   "execution_count": null,
   "metadata": {
    "vscode": {
     "languageId": "sql"
    }
   },
   "outputs": [],
   "source": [
    "%%sql\n",
    "SELECT \n",
    "    fullname,\n",
    "    states,\n",
    "    description\n",
    "FROM nps_public_data.parks p\n",
    "WHERE name IN ('Arches', 'Bryce Canyon', 'Zion')"
   ]
  },
  {
   "cell_type": "markdown",
   "metadata": {},
   "source": [
    "When we return cells, we can order the results using the `ORDER BY` clause. We can also `GROUP` results. We'll discuss grouping more in the next section on aggregations, but `GROUPING` can be used to eliminate duplicates, like `DISTINCT`"
   ]
  },
  {
   "cell_type": "code",
   "execution_count": null,
   "metadata": {
    "vscode": {
     "languageId": "sql"
    }
   },
   "outputs": [],
   "source": [
    "%%sql\n",
    "SELECT\n",
    "    fullname,\n",
    "    states\n",
    "FROM nps_public_data.parks\n",
    "ORDER BY fullname DESC\n",
    "LIMIT 5"
   ]
  },
  {
   "cell_type": "code",
   "execution_count": null,
   "metadata": {
    "vscode": {
     "languageId": "sql"
    }
   },
   "outputs": [],
   "source": [
    "%%sql\n",
    "SELECT\n",
    "    DISTINCT states\n",
    "FROM nps_public_data.parks\n",
    "LIMIT 5"
   ]
  },
  {
   "cell_type": "markdown",
   "metadata": {},
   "source": [
    "Voila! That's a bit about joins, comparisons, and filtering!"
   ]
  }
 ],
 "metadata": {
  "kernelspec": {
   "display_name": "lil-cdt",
   "language": "python",
   "name": "python3"
  },
  "language_info": {
   "codemirror_mode": {
    "name": "ipython",
    "version": 3
   },
   "file_extension": ".py",
   "mimetype": "text/x-python",
   "name": "python",
   "nbconvert_exporter": "python",
   "pygments_lexer": "ipython3",
   "version": "3.12.0"
  }
 },
 "nbformat": 4,
 "nbformat_minor": 2
}
