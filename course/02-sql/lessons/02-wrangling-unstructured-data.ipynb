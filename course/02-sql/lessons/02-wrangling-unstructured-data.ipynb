{
 "cells": [
  {
   "cell_type": "markdown",
   "id": "1bd61496",
   "metadata": {},
   "source": [
    "**Goal**: Introduce basic SQL structure and show some example data transformations. Understand CTEs, aliases, and `CASE` statements. Preview boolean logic, `COALESCE`, `NOT NULL`, and other forms of filtering."
   ]
  },
  {
   "cell_type": "code",
   "execution_count": null,
   "id": "37125b65-2361-44e2-80e4-18f2b215a5bb",
   "metadata": {},
   "outputs": [],
   "source": [
    "import duckdb\n",
    "\n",
    "# Load SQL extension\n",
    "%load_ext sql\n",
    "\n",
    "# Initialize 🦆 DuckDB connection\n",
    "conn = duckdb.connect()\n",
    "\n",
    "# Import database\n",
    "%sql conn --alias duckdb\n",
    "%sql IMPORT DATABASE '../../data/nps';"
   ]
  },
  {
   "cell_type": "markdown",
   "id": "7137f423",
   "metadata": {},
   "source": [
    "We often deal with a mix of structured and semi-structured data in SQL transformations, let's see what our parks dataset looks like."
   ]
  },
  {
   "cell_type": "code",
   "execution_count": null,
   "id": "1e4905ec-b2d8-4db5-9a20-db4edda23bef",
   "metadata": {
    "vscode": {
     "languageId": "sql"
    }
   },
   "outputs": [],
   "source": [
    "%%sql\n",
    "SELECT * FROM nps_public_data.parks LIMIT 3"
   ]
  },
  {
   "cell_type": "markdown",
   "id": "1e4c4260",
   "metadata": {},
   "source": [
    "Note the type of `operatingHours`— `STRUCT`! That means it's a list or JSON."
   ]
  },
  {
   "cell_type": "code",
   "execution_count": null,
   "id": "fd969db8-3815-42af-aa81-6598b14da5f8",
   "metadata": {
    "vscode": {
     "languageId": "sql"
    }
   },
   "outputs": [],
   "source": [
    "%%sql\n",
    "-- Callout: query structuring, LIMIT statements\n",
    "SELECT \n",
    "    name, \n",
    "    operatingHours as operating_hours\n",
    "FROM nps_public_data.parks \n",
    "LIMIT 1"
   ]
  },
  {
   "cell_type": "markdown",
   "id": "09db876d",
   "metadata": {},
   "source": [
    "What if we want to create an `operatingHours` table? We can unpack `json` using `UNNEST`. Notice what we're doing here: there are two operations happening, but we're splitting them up! That's called a CTE (common table expression). It's a way of separating aggregates or other operations.\n",
    "\n",
    "Next, we're using `UNNEST` to explode the `STRUCT` or `json` data. DuckDB let's us use `recursive := true` to burrow down and get _every_ level of the `json`... Pretty neat!"
   ]
  },
  {
   "cell_type": "code",
   "execution_count": null,
   "id": "58e31110",
   "metadata": {
    "vscode": {
     "languageId": "sql"
    }
   },
   "outputs": [],
   "source": [
    "%%sql\n",
    "-- Callout: CTEs, UNNEST\n",
    "WITH park_hours AS (\n",
    "    SELECT \n",
    "        name as park_name, \n",
    "        id as park_id, \n",
    "        UNNEST(operatingHours, recursive := true)\n",
    "    FROM nps_public_data.parks\n",
    ")\n",
    "SELECT \n",
    "    * EXCLUDE (exceptions, name),\n",
    "    name as category\n",
    "FROM park_hours\n",
    "LIMIT 2"
   ]
  },
  {
   "cell_type": "markdown",
   "id": "d7d31324",
   "metadata": {},
   "source": [
    "Notice how we use a CTE to make the query easy-to-read and logical. Now we can create a table with the result. `EXCLUDE` lets us use `SELECT *` and remove some unnecessary inclusions."
   ]
  },
  {
   "cell_type": "code",
   "execution_count": null,
   "id": "c7b3ae82",
   "metadata": {
    "vscode": {
     "languageId": "sql"
    }
   },
   "outputs": [],
   "source": [
    "%%sql\n",
    "-- Callout: column renaming, EXCLUDE\n",
    "CREATE OR REPLACE TABLE nps_public_data.park_hours AS (\n",
    "    WITH park_hours AS (\n",
    "        SELECT \n",
    "            name as park_name, \n",
    "            id as park_id, \n",
    "            -- https://duckdb.org/docs/sql/query_syntax/unnest.html\n",
    "            UNNEST(operatingHours, recursive := true)\n",
    "        FROM nps_public_data.parks\n",
    "    )\n",
    "    SELECT \n",
    "        * EXCLUDE (exceptions, name),\n",
    "        name as category\n",
    "    FROM park_hours \n",
    ")"
   ]
  },
  {
   "cell_type": "markdown",
   "id": "d34878a2",
   "metadata": {},
   "source": [
    "Creating tables with _dimensions_, like operating hours, lets us easily join to access the information. Here, notice how readable the query becomes.\n",
    "\n",
    "We're selecting the _name_ of the park and the _thursday_ hours `WHERE` the category is 'Hours of Operation'.\n",
    "\n",
    "If we'd included the above logic in this query, it'd be much more dense! This is one of our first _patterns_ for SQL transformation:\n",
    "\n",
    "> Store precalculated (or aggregated) queries or use CTEs to limit complexity and improve readability"
   ]
  },
  {
   "cell_type": "code",
   "execution_count": null,
   "id": "33fb4f9c",
   "metadata": {
    "vscode": {
     "languageId": "sql"
    }
   },
   "outputs": [],
   "source": [
    "%%sql\n",
    "-- Callout: WHERE clause\n",
    "SELECT\n",
    "    p.name,\n",
    "    h.thursday\n",
    "FROM nps_public_data.park_hours h\n",
    "LEFT JOIN nps_public_data.parks p\n",
    "    ON h.park_id = p.id\n",
    "WHERE h.category = 'Hours of Operation'\n",
    "LIMIT 5"
   ]
  },
  {
   "cell_type": "markdown",
   "id": "304541e8",
   "metadata": {},
   "source": [
    "**Note:** It's important to use single quotes in DuckDB SQL ('), double quotes (\") are reserved for table names"
   ]
  },
  {
   "cell_type": "markdown",
   "id": "408a8a6a",
   "metadata": {},
   "source": [
    "If we want to know all the values that `thursday` can take, we can use `DISTINCT` to return a list... This is like using `set()` in Python."
   ]
  },
  {
   "cell_type": "code",
   "execution_count": null,
   "id": "8c88fe7f",
   "metadata": {},
   "outputs": [],
   "source": [
    "%%sql \n",
    "# Callout: DISTINCT, Order, LIMIT\n",
    "SELECT \n",
    "    DISTINCT(thursday) \n",
    "FROM nps_public_data.park_hours \n",
    "ORDER BY 1 DESC \n",
    "LIMIT 10;"
   ]
  },
  {
   "cell_type": "markdown",
   "id": "23d501d8",
   "metadata": {},
   "source": [
    "We can use `CASE` functions to alter how data is returned or create entirely new columns. Here, we'll create a new table, renaming columns as we go. This is an example of _cleaning_ a dataset. We'll assume 'unknown' hours are closed park resources."
   ]
  },
  {
   "cell_type": "code",
   "execution_count": null,
   "id": "1c0f3c4a",
   "metadata": {
    "vscode": {
     "languageId": "sql"
    }
   },
   "outputs": [],
   "source": [
    "%%sql\n",
    "CREATE OR REPLACE TABLE nps_public_data.park_hours AS (\n",
    "    WITH park_hours AS (\n",
    "        SELECT \n",
    "            name as park_name, \n",
    "            id as park_id, \n",
    "            -- https://duckdb.org/docs/sql/query_syntax/unnest.html\n",
    "            UNNEST(operatingHours, recursive := true)\n",
    "        FROM nps_public_data.parks\n",
    "    )\n",
    "    SELECT \n",
    "        park_name,\n",
    "        park_id,\n",
    "        description,\n",
    "        name as category,\n",
    "        CASE monday WHEN 'unknown' THEN 'Closed' ELSE monday END as monday_hours,\n",
    "        CASE tuesday WHEN 'unknown' THEN 'Closed' ELSE tuesday END as tuesday_hours,\n",
    "        CASE wednesday WHEN 'unknown' THEN 'Closed' ELSE wednesday END as wednesday_hours,\n",
    "        CASE thursday WHEN 'unknown' THEN 'Closed' ELSE thursday END as thursday_hours,\n",
    "        CASE friday WHEN 'unknown' THEN 'Closed' ELSE friday END as friday_hours,\n",
    "        CASE saturday WHEN 'unknown' THEN 'Closed' ELSE saturday END as saturday_hours,\n",
    "        CASE sunday WHEN 'unknown' THEN 'Closed' ELSE sunday END as sunday_hours,\n",
    "        CASE WHEN \n",
    "            monday != 'Closed' AND\n",
    "            tuesday != 'Closed' AND\n",
    "            wednesday != 'Closed' AND\n",
    "            thursday != 'Closed' AND\n",
    "            friday != 'Closed' AND\n",
    "            saturday != 'Closed' AND\n",
    "            sunday != 'Closed'\n",
    "        THEN TRUE ELSE FALSE END as open_seven_days_a_week\n",
    "    FROM park_hours \n",
    ")"
   ]
  },
  {
   "cell_type": "markdown",
   "id": "2b231169",
   "metadata": {},
   "source": [
    "In the above, we create a boolean column, `open_seven_days_a_week`, that tells us if a park is open every day. Now this might seem repetitive, given that information is already contained in parks, but what it unlocks is a precise, easily readable filter:"
   ]
  },
  {
   "cell_type": "code",
   "execution_count": null,
   "id": "0d0825e1",
   "metadata": {
    "vscode": {
     "languageId": "sql"
    }
   },
   "outputs": [],
   "source": [
    "%%sql\n",
    "SELECT * FROM nps_public_data.park_hours WHERE open_seven_days_a_week LIMIT 1"
   ]
  },
  {
   "cell_type": "markdown",
   "id": "99306845",
   "metadata": {},
   "source": [
    "As a data or analytics engineer, it's important to make queries as readable as possible. If you know users downstream are often querying on `open_seven_days_a_week`, you can add a similar filter to make everyone's life easier!"
   ]
  },
  {
   "cell_type": "markdown",
   "id": "d2c2a2a4",
   "metadata": {},
   "source": [
    "Can we find parks that are closed on Thursday?"
   ]
  },
  {
   "cell_type": "code",
   "execution_count": null,
   "id": "36952fa7",
   "metadata": {
    "vscode": {
     "languageId": "sql"
    }
   },
   "outputs": [],
   "source": [
    "%%sql\n",
    "SELECT\n",
    "    p.name,\n",
    "    closed_thurs.category,\n",
    "    closed_thurs.thursday_hours,\n",
    "    COALESCE(closed_thurs.thursday_hours, 'Open') as closed_open,\n",
    "    NOT closed_thurs.thursday_hours IS NULL as is_closed\n",
    "FROM nps_public_data.parks p\n",
    "INNER JOIN nps_public_data.park_hours closed_thurs\n",
    "    ON closed_thurs.park_id = p.id\n",
    "    AND closed_thurs.thursday_hours = 'Closed'\n",
    "WHERE 1 = 1\n",
    "ORDER BY RANDOM()\n",
    "LIMIT 5;"
   ]
  },
  {
   "cell_type": "markdown",
   "id": "7d27b41e",
   "metadata": {},
   "source": [
    "Notice how we can represent the information in multiple ways— `is_closed`, `closed_open`, and `thursday` all contain the same information, but in different formats. There is no \"correct\" format— it depends entirely on how you use the data!\n",
    "- Boolean columns are readable for filters `SELECT * FROM thursday WHERE is_closed`\n",
    "- Human readable text makes it easier for users to intuit data `SELECT * FROM parks WHERE thursday_hours = 'Closed'`"
   ]
  },
  {
   "cell_type": "code",
   "execution_count": null,
   "id": "36b4766a",
   "metadata": {
    "vscode": {
     "languageId": "sql"
    }
   },
   "outputs": [],
   "source": [
    "%%sql\n",
    "EXPORT DATABASE '../../data/nps' (FORMAT PARQUET, COMPRESSION ZSTD, ROW_GROUP_SIZE 100000);"
   ]
  },
  {
   "cell_type": "markdown",
   "id": "c3446626",
   "metadata": {},
   "source": [
    "Notice the pattern:\n",
    "- Investigate data\n",
    "- Identify useful facts/dimensions that could be useful\n",
    "- Data modelling \n",
    "- Transformation\n",
    "- Storage\n",
    "\n",
    "A few other things:\n",
    "1. Data modelling is a useful skill that won't be discussed in this course— for helpful reading see the appendix.\n",
    "2. _Automating_ transformations is another useful tactic that _also_ won't be discussed in this course. See the appendix for data automations."
   ]
  },
  {
   "cell_type": "markdown",
   "id": "5c5cf1ae",
   "metadata": {},
   "source": []
  }
 ],
 "metadata": {
  "kernelspec": {
   "display_name": "Python 3 (ipykernel)",
   "language": "python",
   "name": "python3"
  },
  "language_info": {
   "codemirror_mode": {
    "name": "ipython",
    "version": 3
   },
   "file_extension": ".py",
   "mimetype": "text/x-python",
   "name": "python",
   "nbconvert_exporter": "python",
   "pygments_lexer": "ipython3",
   "version": "3.12.0"
  }
 },
 "nbformat": 4,
 "nbformat_minor": 5
}
