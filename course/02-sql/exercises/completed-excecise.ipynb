{
 "cells": [
  {
   "cell_type": "code",
   "execution_count": null,
   "metadata": {},
   "outputs": [],
   "source": [
    "import duckdb\n",
    "\n",
    "# Load SQL extension\n",
    "%load_ext sql\n",
    "\n",
    "# Initialize 🦆 DuckDB connection\n",
    "conn = duckdb.connect()\n",
    "\n",
    "# Import database\n",
    "%sql conn --alias duckdb\n",
    "%sql IMPORT DATABASE '../../data/nps';"
   ]
  },
  {
   "cell_type": "markdown",
   "metadata": {},
   "source": [
    "Build a query to fetch all the parks in Utah and order the results by the park name."
   ]
  },
  {
   "cell_type": "code",
   "execution_count": null,
   "metadata": {
    "vscode": {
     "languageId": "sql"
    }
   },
   "outputs": [],
   "source": [
    "%%sql\n",
    "SELECT\n",
    "    name, \n",
    "    states\n",
    "FROM nps_public_data.parks p\n",
    "WHERE p.states ILIKE '%UT%'\n",
    "ORDER BY 1\n",
    "LIMIT 5;"
   ]
  },
  {
   "cell_type": "markdown",
   "metadata": {},
   "source": [
    "Build a query to fetch all the National Parks that cross state boundaries. \n",
    "\n",
    "Hint: `parks.states` is a string representation of a list, i.e. `UT,CA,NC`. The `parks` table includes parks that aren't National Parks."
   ]
  },
  {
   "cell_type": "code",
   "execution_count": null,
   "metadata": {
    "vscode": {
     "languageId": "sql"
    }
   },
   "outputs": [],
   "source": [
    "%%sql\n",
    "SELECT\n",
    "    name,\n",
    "    states\n",
    "FROM nps_public_data.parks p\n",
    "WHERE p.states LIKE '%,%'\n",
    "    AND p.designation ILIKE '%National Park%'"
   ]
  },
  {
   "cell_type": "markdown",
   "metadata": {},
   "source": [
    "For all national parks, return the `states` column as a `STRUCT` type with each element as a state"
   ]
  },
  {
   "cell_type": "code",
   "execution_count": null,
   "metadata": {
    "vscode": {
     "languageId": "sql"
    }
   },
   "outputs": [],
   "source": [
    "%%sql\n",
    "SELECT\n",
    "    name,\n",
    "    states,\n",
    "    split(states, ',') ::string[] AS states_list\n",
    "FROM nps_public_data.parks p\n",
    "WHERE 1 = 1\n",
    "    AND p.designation ILIKE '%National Park%'"
   ]
  },
  {
   "cell_type": "markdown",
   "metadata": {},
   "source": [
    "Which parks are in either Montana or Wyoming?"
   ]
  },
  {
   "cell_type": "code",
   "execution_count": null,
   "metadata": {
    "vscode": {
     "languageId": "sql"
    }
   },
   "outputs": [],
   "source": [
    "%%sql\n",
    "SELECT\n",
    "    name,\n",
    "    states,\n",
    "    split(states, ',') ::string[] AS states_list\n",
    "FROM nps_public_data.parks p\n",
    "WHERE 1 = 1\n",
    "    AND p.designation ILIKE '%National Park%'\n",
    "    AND list_has_any(states_list, ['MT', 'WY'])"
   ]
  },
  {
   "cell_type": "markdown",
   "metadata": {},
   "source": [
    "What about _both_ Montana _and_ wyoming?"
   ]
  },
  {
   "cell_type": "code",
   "execution_count": null,
   "metadata": {
    "vscode": {
     "languageId": "sql"
    }
   },
   "outputs": [],
   "source": [
    "%%sql\n",
    "SELECT\n",
    "    name,\n",
    "    states,\n",
    "    split(states, ',') ::string[] AS states_list\n",
    "FROM nps_public_data.parks p\n",
    "WHERE 1 = 1\n",
    "    AND p.designation ILIKE '%National Park%'\n",
    "    AND list_has_all(states_list, ['MT', 'WY'])"
   ]
  },
  {
   "cell_type": "markdown",
   "metadata": {},
   "source": [
    "Which park is in the greatest number of states?"
   ]
  },
  {
   "cell_type": "code",
   "execution_count": null,
   "metadata": {
    "vscode": {
     "languageId": "sql"
    }
   },
   "outputs": [],
   "source": [
    "%%sql\n",
    "SELECT\n",
    "    name,\n",
    "    states,\n",
    "    split(states, ',') ::string[] AS states_list, \n",
    "    length(states_list) AS num_states \n",
    "FROM nps_public_data.parks p\n",
    "WHERE 1 = 1\n",
    "    AND p.designation LIKE 'National Park%'\n",
    "ORDER BY num_states DESC"
   ]
  },
  {
   "cell_type": "markdown",
   "metadata": {},
   "source": [
    "Now, how many parks are in each \"group\" of state border-crossings?\n",
    "\n",
    "Hint: we're grouping by the _number_ of states."
   ]
  },
  {
   "cell_type": "code",
   "execution_count": null,
   "metadata": {
    "vscode": {
     "languageId": "sql"
    }
   },
   "outputs": [],
   "source": [
    "%%sql\n",
    "WITH num_states AS (\n",
    "    SELECT\n",
    "        name,\n",
    "        states,\n",
    "        split(states, ',') ::string[] AS states_list, \n",
    "        length(states_list) AS num_states \n",
    "    FROM nps_public_data.parks p\n",
    "    WHERE 1 = 1\n",
    "        AND p.designation ILIKE '%National Park%'\n",
    "    ORDER BY num_states DESC\n",
    ")\n",
    "SELECT\n",
    "    num_states,\n",
    "    COUNT(*) as num_parks\n",
    "FROM num_states\n",
    "GROUP BY 1\n",
    "ORDER BY 1"
   ]
  },
  {
   "cell_type": "markdown",
   "metadata": {},
   "source": [
    "What's the percentage share of the total? Hint: window functions might be helpful."
   ]
  },
  {
   "cell_type": "code",
   "execution_count": null,
   "metadata": {
    "vscode": {
     "languageId": "sql"
    }
   },
   "outputs": [],
   "source": [
    "%%sql\n",
    "WITH num_states AS (\n",
    "    SELECT\n",
    "        name,\n",
    "        states,\n",
    "        split(states, ',') ::string[] AS states_list, \n",
    "        length(states_list) AS num_states \n",
    "    FROM nps_public_data.parks p\n",
    "    WHERE 1 = 1\n",
    "        AND p.designation ILIKE '%National Park%'\n",
    "    ORDER BY num_states DESC\n",
    ")\n",
    "SELECT\n",
    "    num_states,\n",
    "    COUNT(*) as num_parks,\n",
    "    ROUND(COUNT(*) / SUM(COUNT(*)) OVER (), 2) AS pct_parks\n",
    "FROM num_states\n",
    "GROUP BY 1\n",
    "ORDER BY 1"
   ]
  },
  {
   "cell_type": "markdown",
   "metadata": {},
   "source": [
    "Write a query that returns the _largest_ campsite in each park. As a bonus, do this _without_ using a CTE (filter in the same query)"
   ]
  },
  {
   "cell_type": "code",
   "execution_count": null,
   "metadata": {
    "vscode": {
     "languageId": "sql"
    }
   },
   "outputs": [],
   "source": [
    "%%sql\n",
    "SELECT\n",
    "    p.fullname as park_name,\n",
    "    c.name as campground_name,\n",
    "    c.numberofsitesfirstcomefirstserve + c.numberofsitesreservable as num_campsites,\n",
    "    RANK() OVER (PARTITION BY park_name ORDER BY c.numberofsitesfirstcomefirstserve + c.numberofsitesreservable DESC) as park_campsites_rank,\n",
    "FROM nps_public_data.campgrounds c\n",
    "INNER JOIN nps_public_data.parks p\n",
    "    ON c.parkcode = p.parkcode\n",
    "    AND p.designation LIKE 'National Park%'\n",
    "QUALIFY park_campsites_rank = 1\n",
    "ORDER BY num_campsites DESC, park_name, park_campsites_rank ASC\n",
    "LIMIT 12;"
   ]
  },
  {
   "cell_type": "markdown",
   "metadata": {},
   "source": [
    "Say you'll be in California this spring and have time for three National Parks visits. How many combinations of national parks can you visit? Can you return the combinations in a list ordered by the name of the first park?"
   ]
  },
  {
   "cell_type": "code",
   "execution_count": null,
   "metadata": {
    "vscode": {
     "languageId": "sql"
    }
   },
   "outputs": [],
   "source": [
    "%%sql\n",
    "-- What about 3?\n",
    "WITH california_parks AS (\n",
    "    SELECT\n",
    "        *\n",
    "    FROM nps_public_data.parks p\n",
    "    WHERE states ILIKE '%CA%'\n",
    "        AND p.designation ILIKE '%National Park%'\n",
    ")\n",
    "SELECT\n",
    "    cp.name as first_visit,\n",
    "    cp2.name as second_visit,\n",
    "    cp3.name as third_visit,\n",
    "    ROW_NUMBER() OVER (ORDER BY cp.fullName ASC) as rn\n",
    "FROM california_parks cp\n",
    "CROSS JOIN california_parks cp2\n",
    "CROSS JOIN california_parks cp3\n",
    "WHERE 1 = 1\n",
    "    AND cp.fullName != cp2.fullName\n",
    "    AND cp.fullName != cp3.fullName\n",
    "    AND cp2.fullName != cp3.fullName\n",
    "ORDER BY rn asc"
   ]
  },
  {
   "cell_type": "markdown",
   "metadata": {},
   "source": [
    "For our final exercise— find the combinations in alphabetical order, that is, the first letter of each visit occurs in the order of the alphabet, e.g. `[C]hannel Islands, [D]eath Valley, [J]oshua Tree` would satisfy that condition."
   ]
  },
  {
   "cell_type": "code",
   "execution_count": null,
   "metadata": {
    "vscode": {
     "languageId": "sql"
    }
   },
   "outputs": [],
   "source": [
    "%%sql\n",
    "WITH california_parks AS (\n",
    "    SELECT\n",
    "        *\n",
    "    FROM nps_public_data.parks p\n",
    "    WHERE states ILIKE '%CA%'\n",
    "        AND p.designation ILIKE '%National Park%'\n",
    "), o AS (\n",
    "    SELECT\n",
    "        cp.name as first_visit,\n",
    "        cp2.name as second_visit,\n",
    "        cp3.name as third_visit,\n",
    "    FROM california_parks cp\n",
    "    CROSS JOIN california_parks cp2\n",
    "    CROSS JOIN california_parks cp3\n",
    "    WHERE 1 = 1\n",
    "        AND cp.fullName != cp2.fullName\n",
    "        AND cp.fullName != cp3.fullName\n",
    "        AND cp2.fullName != cp3.fullName\n",
    ")\n",
    "SELECT\n",
    "    *,\n",
    "    (lower(first_visit) < lower(second_visit)) \n",
    "        AND (lower(second_visit) < lower(third_visit)) as is_ascending,\n",
    "    ROW_NUMBER() OVER (ORDER BY first_visit ASC) as rn\n",
    "FROM o\n",
    "WHERE is_ascending\n"
   ]
  }
 ],
 "metadata": {
  "kernelspec": {
   "display_name": "lil-cdt",
   "language": "python",
   "name": "python3"
  },
  "language_info": {
   "codemirror_mode": {
    "name": "ipython",
    "version": 3
   },
   "file_extension": ".py",
   "mimetype": "text/x-python",
   "name": "python",
   "nbconvert_exporter": "python",
   "pygments_lexer": "ipython3",
   "version": "3.12.0"
  }
 },
 "nbformat": 4,
 "nbformat_minor": 2
}
